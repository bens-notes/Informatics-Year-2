{
 "cells": [
  {
   "cell_type": "markdown",
   "metadata": {},
   "source": [
    "# Joint Distribution Function"
   ]
  },
  {
   "cell_type": "markdown",
   "metadata": {},
   "source": [
    "We are often intrested in statements conserning multiple random variable. For any two random variables $X$ and $Y$, the _joint cumulative probability distribution function_ of $X$ and $Y$ by:\n",
    "\n",
    "$$\n",
    "F(a, b) = P(X \\leq a, Y \\leq b) \\quad -\\infty < a, b < \\infty\n",
    "$$\n",
    "\n",
    "The distribution $X$ (the marginal density function) is obtained by:\n",
    "\n",
    "$$\n",
    "\\begin{align}\n",
    "F_X(a) &= P(X < a) \\\\\n",
    "&= P(X < a, Y < \\infty) \\\\\n",
    "&= \\lim_{b \\rightarrow \\infty} P(X < a, Y < b) \\\\\n",
    "&= \\lim_{b \\rightarrow \\infty} F(a, b) \\\\\n",
    "&= F(a, \\infty)\n",
    "\\end{align}\n",
    "$$\n",
    "\n",
    "and likewise for $Y$."
   ]
  },
  {
   "cell_type": "markdown",
   "metadata": {},
   "source": [
    "All joint probability statements can be answered such as the following:\n",
    "\n",
    "$$\n",
    "\\begin{align}\n",
    "P(X > a, Y > b) &= 1 - P(\\{X > a, Y > b\\}^c) \\\\\n",
    "&= 1 - P(\\{X > a\\}^c \\cup \\{Y > b\\}^c) \\\\\n",
    "&= 1 - P(\\{X \\leq a\\} \\cup \\{Y \\leq b\\}) \\\\\n",
    "&= 1 - \\{ P(X \\leq a) + P(Y \\leq b) - P(X \\leq a, Y \\leq b) \\} \\\\\n",
    "&= 1 - F_X(a) - F_Y(b) + F(a, b)\n",
    "\\end{align}\n",
    "$$"
   ]
  },
  {
   "cell_type": "markdown",
   "metadata": {},
   "source": [
    "---\n",
    "\n",
    "### Example\n",
    "\n",
    "Compute $P(X > 1, Y < 1)$ for the density function:\n",
    "\n",
    "$$\n",
    "f(x, y) = \\begin{cases}\n",
    "2e^{-x}e^{-2y} & 0 < x < \\infty, 0 < y < \\infty \\\\\n",
    "0              & \\text{otherwise}\n",
    "\\end{cases}\n",
    "$$\n",
    "\n",
    "$$\n",
    "\\begin{align}\n",
    "P(X > 1, Y < 1) &= \\int_0^1 \\int_1^\\infty 2e^{-x}e^{-2y} dx dy \\\\\n",
    "&= \\int_0^1 2e^{-2y} [ -e^{-x} ]_1^\\infty dy \\\\\n",
    "&= -e^{-1} \\int_0^1 2e^{-2y} dy \\\\\n",
    "&= -e^{-1} \\left[ -e^{-2y} \\right]_0^1 dy \\\\\n",
    "&= -e^{-1} (1 - e^{-2})\n",
    "\\end{align}\n",
    "$$\n",
    "\n",
    "---"
   ]
  },
  {
   "cell_type": "markdown",
   "metadata": {},
   "source": [
    "---\n",
    "\n",
    "### Example\n",
    "\n",
    "Find the density function for the random variable $X / Y$ given:\n",
    "\n",
    "$$\n",
    "f(x,y) = \\begin{cases}\n",
    "e^{-(x+y)} & 0 < x < \\infty, 0 < y < \\infty \\\\\n",
    "0          & \\text{otherwise}\n",
    "\\end{cases}\n",
    "$$\n",
    "\n",
    "We start with the distribution function $X / Y$ for $a > 0$:\n",
    "\n",
    "$$\n",
    "\\begin{align}\n",
    "F_{X/Y}(a) &= P \\left( \\frac{X}{Y} \\leq a \\right) \\\\\n",
    "&= \\iint_{x/y \\leq a} e^{-(x+y)} dx dy \\\\\n",
    "&= \\int_0^\\infty \\int_0^{ay} e^{-(x+y)} dx dy \\\\\n",
    "&= \\int_0^\\infty (1-e^{-ay})e^{-y} dy \\\\\n",
    "&= \\left[ -e^{-y} + \\dfrac{e^{-(a+1)y}}{a + 1} \\right]_0^\\infty \\\\\n",
    "&= 1 - \\dfrac{1}{a + 1}\n",
    "\\end{align}\n",
    "$$\n",
    "\n",
    "Differentiating $F_{X/Y}$ we get:\n",
    "\n",
    "$$\n",
    "f_{X/Y}(a) = \\dfrac{1}{(a+1)^2} \\quad 0 < a < \\infty\n",
    "$$\n",
    "\n",
    "---"
   ]
  },
  {
   "cell_type": "markdown",
   "metadata": {},
   "source": [
    "---\n",
    "\n",
    "### Example\n",
    "\n",
    "Compute the marginal density function for $X$ for:\n",
    "\n",
    "$$\n",
    "f_{X,Y}(x, y) = \\begin{cases}\n",
    "\\frac{6}{7} \\left(x^2 + \\frac{1}{2}xy\\right) & 0 < x < 1, 0 < y < 2 \\\\\n",
    "0                                            & \\text{otherwise}\n",
    "\\end{cases}\n",
    "$$\n",
    "\n",
    "$$\n",
    "\\begin{align}\n",
    "f_X(x) &= \\frac{6}{7} \\int_0^2 x^2 + \\frac{1}{2}xy \\; dy \\\\\n",
    "&= \\frac{6}{7} \\left[ x^2 y + \\frac{xy^2}{4} \\right]_0^2 \\\\\n",
    "&= \\frac{6}{7} (2x^2 + x)\\\\\n",
    "\\end{align}\n",
    "$$\n",
    "\n",
    "Thus\n",
    "\n",
    "$$\n",
    "f_X(x) = \\begin{cases}\n",
    "\\frac{12}{7} x^2 + \\frac{6}{7} x & 0 < x < 1 \\\\\n",
    "0 & \\text{otherwise}\n",
    "\\end{cases}\n",
    "$$\n",
    "\n",
    "---"
   ]
  }
 ],
 "metadata": {
  "kernelspec": {
   "display_name": "Python 3",
   "language": "python",
   "name": "python3"
  },
  "language_info": {
   "codemirror_mode": {
    "name": "ipython",
    "version": 3
   },
   "file_extension": ".py",
   "mimetype": "text/x-python",
   "name": "python",
   "nbconvert_exporter": "python",
   "pygments_lexer": "ipython3",
   "version": "3.6.4"
  }
 },
 "nbformat": 4,
 "nbformat_minor": 2
}
