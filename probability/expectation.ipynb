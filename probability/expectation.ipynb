{
 "cells": [
  {
   "cell_type": "markdown",
   "metadata": {},
   "source": [
    "# Expectation"
   ]
  },
  {
   "cell_type": "markdown",
   "metadata": {},
   "source": [
    "For $X \\geq 0$ discrete random variable $X \\in \\mathbb{Z}$ we have $P(X \\geq E(X)) > 0$\n",
    "\n",
    "Suppose $P(X \\geq E(X)) = 0$ then\n",
    "\n",
    "$$\n",
    "\\begin{align}\n",
    "1 &= P(X < E(X)) \\\\\n",
    "&= \\sum_{0 \\leq k < E(X)} P(X = k) \\\\\n",
    "&> \\sum_k \\dfrac{k}{E(X)} P(X = k) \\\\\n",
    "&= \\dfrac{E(X)}{E(X)}\\\\\n",
    "&= 1\n",
    "\\end{align}\n",
    "$$\n",
    "\n",
    "Contradition $1 \\not> 1$ "
   ]
  },
  {
   "cell_type": "markdown",
   "metadata": {},
   "source": [
    "---\n",
    "\n",
    "### Example\n",
    "\n",
    "Their are 52 trees in a circle and 15 chipmunks living in the trees, show their are 7 consecutive trees containing at least 3 chipmunks.\n",
    "\n",
    "Consider a random tree and its 7 neighbors. Let $X_j$ denote:\n",
    "\n",
    "$$\n",
    "X = X_1 + X_2 + ... + X_{15} \\quad \\quad X_j = \\begin{cases}\n",
    "1 & \\text{j-th chipmunk living in n-th tree} \\\\\n",
    "0 & \\text{otherwise}\n",
    "\\end{cases}\n",
    "$$\n",
    "\n",
    "We want to show their is a choise of tree such that $X \\geq 3$. Its enough to show that $E(X) > 2$ since $P(X \\geq 3) \\geq P(X \\geq E(X)) > 0$\n",
    "\n",
    "$$\n",
    "E(X_j) = P(X_j = 1) = \\frac{7}{52}\n",
    "$$\n",
    "\n",
    "$$\n",
    "E(X) = 15 \\cdot \\dfrac{7}{52} = \\frac{105}{52}\n",
    "$$\n",
    "\n",
    "$\\dfrac{105}{52} > 2$ thus their is a group of trees with atleast 3 chipmunks.\n",
    "\n",
    "---"
   ]
  },
  {
   "cell_type": "markdown",
   "metadata": {},
   "source": [
    "If $Z \\geq 0$ continuous random variable then $E(X) = \\int_0^\\infty P(Z > t) dt$\n",
    "\n",
    "Proof\n",
    "\n",
    "$$\n",
    "\\begin{align}\n",
    "\\int_0^\\infty P(Z > t) dt &= \\int_0^\\infty \\left[ \\int_t^\\infty f_Z(s) ds \\right] dt \\\\\n",
    "&= \\int_0^\\infty f_Z(s) \\left[ \\int_0^s dt \\right] ds \\\\\n",
    "&= \\int_0^\\infty s f_Z(s) ds \\\\\n",
    "&= E(Z)\n",
    "\\end{align}\n",
    "$$"
   ]
  },
  {
   "cell_type": "markdown",
   "metadata": {},
   "source": [
    "If $X, Y$ are two continuous random variables with joint probability density function $f_{X, Y}(x, y)$ and $g: \\mathbb{R}^2 \\rightarrow \\mathbb{R}^2$ then $\\displaystyle\\int_{-\\infty}^{\\infty} \\int_{-\\infty}^{\\infty} g(x, y) f_{X, Y}(x, y) dx dy$\n",
    "\n",
    "Proof, assuming $g \\geq 0$\n",
    "\n",
    "$$\n",
    "\\begin{align}\n",
    "E(g(x, y)) &= \\int_0^\\infty P(g(X, Y) > t) dt \\\\\n",
    "&= \\int_0^\\infty \\left[ \\iint_{g(x,y)>t} f_{X,Y}(x,y) dx dy \\right] dt \\\\\n",
    "&= \\int_{-\\infty}^{\\infty}\\int_{-\\infty}^{\\infty} f_{X, Y} (x,y) \\left[ \\int_0^{g(x, y)} dt \\right] dx dy \\\\\n",
    "&= \\int_{-\\infty}^{\\infty}\\int_{-\\infty}^{\\infty} g(x, y) f_{X, Y} (x,y) dx dy \\\\\n",
    "\\end{align}\n",
    "$$"
   ]
  },
  {
   "cell_type": "markdown",
   "metadata": {},
   "source": [
    "---\n",
    "\n",
    "### Example\n",
    "\n",
    "Show that expectation is linear\n",
    "\n",
    "$$\n",
    "\\begin{align}\n",
    "E(X+Y) &= \\int_{-\\infty}^{\\infty}\\int_{-\\infty}^{\\infty} (x+y) f_{X, Y} (x,y) dx dy \\\\\n",
    "&= \\int_{-\\infty}^{\\infty} \\int_{-\\infty}^{\\infty} x f_{X, Y} (x,y) + y f_{X, Y} (x,y) dx dy \\\\\n",
    "&= \\int_{-\\infty}^{\\infty} \\left[ \\int_{-\\infty}^{\\infty} x f_{X, Y} (x,y) dx \\right] + \\left[ \\int_{-\\infty}^{\\infty} y f_{X, Y} (x,y) dx \\right] dy \\\\\n",
    "&= \\int_{-\\infty}^{\\infty} \\left[ \\int_{-\\infty}^{\\infty} x f_{X, Y} (x,y) dx \\right] dy + \\int_{-\\infty}^{\\infty} \\left[ \\int_{-\\infty}^{\\infty} y f_{X, Y} (x,y) dx \\right] dy \\\\\n",
    "&= \\int_{-\\infty}^{\\infty} \\left[ \\int_{-\\infty}^{\\infty} x f_{X, Y} (x,y) dy \\right] dx + \\int_{-\\infty}^{\\infty} \\left[ \\int_{-\\infty}^{\\infty} y f_{X, Y} (x,y) dx \\right] dy \\\\\n",
    "&= \\int_{-\\infty}^{\\infty} x f_{X} (x) dx + \\int_{-\\infty}^{\\infty} y f_{Y} (y)  dy \\\\\n",
    "&= E(X) + E(Y) \\\\\n",
    "\\end{align}\n",
    "$$\n",
    "\n",
    "---"
   ]
  },
  {
   "cell_type": "markdown",
   "metadata": {},
   "source": [
    "If $X$ and $Y$ are independent then $E(XY) = E(X)E(Y) \\implies Cov(X,Y) = 0$\n",
    "\n",
    "Proof, using the fact that $X, Y$ are independent $\\iff f_{X,Y}(x,y) = f_X(x) f_Y(y)$\n",
    "\n",
    "$$\n",
    "\\begin{align}\n",
    "E(XY) &= \\int_{-\\infty}^{\\infty}\\int_{-\\infty}^{\\infty} xy f_{X, Y} (x,y) dx dy \\\\\n",
    "&=\\int_{-\\infty}^{\\infty}\\int_{-\\infty}^{\\infty} x f_{X} (x) y f_Y(y) dx dy \\\\\n",
    "&=\\int_{-\\infty}^{\\infty} y f_Y(y) \\left[ \\int_{-\\infty}^{\\infty} x f_{X} (x)  dx \\right] dy \\\\\n",
    "&= E(X)E(Y)\n",
    "\\end{align}\n",
    "$$"
   ]
  }
 ],
 "metadata": {
  "kernelspec": {
   "display_name": "Python 3",
   "language": "python",
   "name": "python3"
  },
  "language_info": {
   "codemirror_mode": {
    "name": "ipython",
    "version": 3
   },
   "file_extension": ".py",
   "mimetype": "text/x-python",
   "name": "python",
   "nbconvert_exporter": "python",
   "pygments_lexer": "ipython3",
   "version": "3.6.4"
  }
 },
 "nbformat": 4,
 "nbformat_minor": 2
}
