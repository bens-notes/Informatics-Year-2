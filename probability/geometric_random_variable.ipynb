{
 "cells": [
  {
   "cell_type": "markdown",
   "metadata": {},
   "source": [
    "# Geometric Random Variable"
   ]
  },
  {
   "cell_type": "markdown",
   "metadata": {},
   "source": [
    "Consider an experiment that is repeated until a success occurs. Let $X$ denotes the number of trials required, then:\n",
    "\n",
    "$$\n",
    "P(X = n) = (1 - p)^{n-1} p \\quad n = 1, 2, ...\n",
    "$$\n",
    "\n",
    "$X$ is said to be a geometric random variable. "
   ]
  },
  {
   "cell_type": "markdown",
   "metadata": {},
   "source": [
    "## Expectation"
   ]
  },
  {
   "cell_type": "markdown",
   "metadata": {},
   "source": [
    "$$\n",
    "\\begin{align}\n",
    "E(X) &= \\sum_{x=0}^\\infty x (1-p)^{x-1} p \\\\\n",
    "     &= \\sum_{x=1}^\\infty (x-1+1)(1-p)^{x-1} p \\\\\n",
    "     &= \\sum_{x=1}^\\infty (x-1)(1-p)^{x-1} p + \\sum_{x=1}^\\infty (1-p)^{x-1} p \\\\\n",
    "\\end{align}\n",
    "$$\n",
    "\n",
    "Let $y = x - 1$\n",
    "\n",
    "$$\n",
    "\\begin{align}\n",
    "E(X) &= \\sum_{y=0}^\\infty y (1-p)^{y} p + 1 \\\\\n",
    "E(X) &= (1-p) \\sum_{y=0}^\\infty y (1-p)^{y-1} p + 1 \\\\\n",
    "E(X) &= (1-p) E(X) + 1 \\\\\n",
    "E(X) &= E(X) - p \\cdot E(X) + 1 \\\\\n",
    "p \\cdot E(X) &= 1 \\\\\n",
    "E(X) &= \\frac{1}{p} \\\\\n",
    "\\end{align}\n",
    "$$"
   ]
  },
  {
   "cell_type": "markdown",
   "metadata": {},
   "source": [
    "## Second moment"
   ]
  },
  {
   "cell_type": "markdown",
   "metadata": {},
   "source": [
    "$$\n",
    "\\begin{align}\n",
    "E(X^2) &= \\sum_{x=1}^\\infty x^2 (1-p)^{x-1} p \\\\\n",
    "       &= \\sum_{x=1}^\\infty (x - 1 + 1)^2 (1-p)^{x-1} p \\\\\n",
    "       &= \\sum_{x=1}^\\infty (x - 1)^2 (1-p)^{x-1} p\n",
    "         + \\sum_{x=1}^\\infty 2(x - 1) (1-p)^{x-1} p\n",
    "         + \\sum_{x=1}^\\infty (1-p)^{x-1} p \\\\\n",
    "\\end{align}\n",
    "$$\n",
    "\n",
    "Let $y = x - 1$\n",
    "\n",
    "$$\n",
    "\\begin{align}\n",
    "E(X^2) &= \\sum_{y=0}^\\infty y^2 (1-p)^{y} p\n",
    "         + \\sum_{y=0}^\\infty 2y (1-p)^{y} p\n",
    "         + 1 \\\\\n",
    "       &= (1-p) \\sum_{y=0}^\\infty y^2 (1-p)^{y-1} p\n",
    "         + 2(1-p) \\sum_{y=0}^\\infty y (1-p)^{y-1} p\n",
    "         + 1 \\\\\n",
    "       &= (1-p) E(X^2) + 2(1-p)E(X) + 1 \\\\\n",
    "       &= (1-p) E(X^2) + \\frac{2(1-p)}{p} + 1 \\\\\n",
    "p \\cdot E(X^2) &= \\frac{2(1-p)}{p} + 1 \\\\\n",
    "               &= \\frac{2-2p}{p} + 1 \\\\\n",
    "               &= \\frac{2}{p} - 1 \\\\\n",
    "               &= \\frac{2 - p}{p} \\\\\n",
    "E(X^2)         &= \\frac{2 - p}{p^2} \\\\\n",
    "\\end{align}\n",
    "$$"
   ]
  },
  {
   "cell_type": "markdown",
   "metadata": {},
   "source": [
    "## Variance"
   ]
  },
  {
   "cell_type": "markdown",
   "metadata": {},
   "source": [
    "$$\n",
    "\\begin{align}\n",
    "Var(X) &= E(X^2) - E(X)^2 \\\\\n",
    "       &= \\frac{2-p}{p^2} - \\frac{1}{p^2} \\\\\n",
    "       &= \\frac{1-p}{p^2}\n",
    "\\end{align}\n",
    "$$"
   ]
  },
  {
   "cell_type": "markdown",
   "metadata": {},
   "source": [
    "## Memorylessness"
   ]
  },
  {
   "cell_type": "markdown",
   "metadata": {},
   "source": [
    "The geometric distribution is _memoryless_. If we think of $X$ as the lifetime of an object, if the object is alive at some time $t$, the distribution of the remaining time is equivalent to the original lifetime distribution. In other words:\n",
    "\n",
    "$$\n",
    "P(X > s + t \\mid X > t) = P(X > s) \\quad \\forall s, t \\geq 0\n",
    "$$\n",
    "\n",
    "Let $X$ be geometricly distubuted with parameter $p$"
   ]
  }
 ],
 "metadata": {
  "kernelspec": {
   "display_name": "Python 3",
   "language": "python",
   "name": "python3"
  },
  "language_info": {
   "codemirror_mode": {
    "name": "ipython",
    "version": 3
   },
   "file_extension": ".py",
   "mimetype": "text/x-python",
   "name": "python",
   "nbconvert_exporter": "python",
   "pygments_lexer": "ipython3",
   "version": "3.6.4"
  }
 },
 "nbformat": 4,
 "nbformat_minor": 2
}
