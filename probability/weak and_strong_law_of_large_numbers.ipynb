{
 "cells": [
  {
   "cell_type": "markdown",
   "metadata": {},
   "source": [
    "# Weak and strong law of large numbers"
   ]
  },
  {
   "cell_type": "markdown",
   "metadata": {},
   "source": [
    "## Weak law of large numbers"
   ]
  },
  {
   "cell_type": "markdown",
   "metadata": {},
   "source": [
    "Let $X_1, X_2, ...$ be a sequence of independent, identically distributed random varaibles with mean $\\mu$ and variance $\\sigma^2$, then\n",
    "\n",
    "$$\n",
    "P\\left(\\left|\\frac{X_1 + X_2 + ... + X_n}{n} - \\mu \\right| \\geq \\epsilon \\right) \\rightarrow 0 \\quad \\text{as } n \\rightarrow \\infty\n",
    "$$\n",
    "\n",
    "For every $\\epsilon > 0$\n",
    "\n",
    "Proof.\n",
    "\n",
    "$$\n",
    "E\\left( \\frac{X_1 + X_2 + ... + X_n}{n} \\right) =  \\frac{nE(X_1)}{n} = E(X_1)\n",
    "$$\n",
    "\n",
    "$$\n",
    "Var\\left( \\frac{X_1 + X_2 + ... + X_n}{n} \\right) = \\frac{nVar(X_1)}{n^2} = \\frac{Var(X_1)}{n}\n",
    "$$\n",
    "\n",
    "By Chebyshev's inequality\n",
    "\n",
    "$$\n",
    "\\begin{align}\n",
    "P\\left(\\left|\\frac{X_1 + X_2 + ... + X_n}{n} - \\mu \\right| \\geq \\epsilon \\right) &\\leq \\frac{Var\\left( \\frac{X_1 + X_2 + ... + X_n}{n} \\right)}{\\epsilon^2} \\\\\n",
    "&= \\frac{Var(X_1)}{n\\epsilon^2}\\\\\n",
    "&\\rightarrow 0 \\quad \\text{as } n \\rightarrow \\infty\n",
    "\\end{align}\n",
    "$$"
   ]
  },
  {
   "cell_type": "markdown",
   "metadata": {},
   "source": [
    "## Strong law of large numbers"
   ]
  },
  {
   "cell_type": "markdown",
   "metadata": {},
   "source": [
    "$$\n",
    "P\\left(\\lim_{n \\rightarrow \\infty} \\frac{X_1 + X_2 + ... X_n}{n} = \\mu\\right) = 1\n",
    "$$\n",
    "\n",
    "The weak law is a statement about the convergence of the probability, strong law is a statement about the convergenge of the sequence."
   ]
  },
  {
   "cell_type": "markdown",
   "metadata": {},
   "source": [
    "---\n",
    "\n",
    "### Example\n",
    "\n",
    "A gambler wins $+1$ or $-1$ on each play with equal probability\n",
    "\n",
    "- Each play is independent\n",
    "- $S_n = X_1 + X_2 + ... + X_n = $ total winnings  \n",
    "\n",
    "What is the probability of winning more than $a > 0$?\n",
    "\n",
    "Since $S_n = X_1 + X_2 + ... + X_n$\n",
    "\n",
    "$$\n",
    "E(e^{tX_1}) = \\frac{1}{2}(e^t + e^{-t}) \\implies M_{S_n}(t) = E(e^{tS_n}) = \\left(\\frac{e^t + e^{-t}}{2}\\right)^n\n",
    "$$\n",
    "\n",
    "$$\n",
    "\\begin{align}\n",
    "P(S_n \\geq a) &\\leq e^{-ta} \\left(\\frac{e^t + e^{-t}}{2}\\right)^n \\\\\n",
    "&\\leq e^{-\\frac{a^2}{2n}}\n",
    "\\end{align}\n",
    "$$\n",
    "\n",
    "---"
   ]
  }
 ],
 "metadata": {
  "kernelspec": {
   "display_name": "Python 3",
   "language": "python",
   "name": "python3"
  },
  "language_info": {
   "codemirror_mode": {
    "name": "ipython",
    "version": 3
   },
   "file_extension": ".py",
   "mimetype": "text/x-python",
   "name": "python",
   "nbconvert_exporter": "python",
   "pygments_lexer": "ipython3",
   "version": "3.6.4"
  }
 },
 "nbformat": 4,
 "nbformat_minor": 2
}
