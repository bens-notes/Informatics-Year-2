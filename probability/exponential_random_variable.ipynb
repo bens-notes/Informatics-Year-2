{
 "cells": [
  {
   "cell_type": "markdown",
   "metadata": {},
   "source": [
    "# Exponential Random Variable"
   ]
  },
  {
   "cell_type": "markdown",
   "metadata": {},
   "source": [
    "An exponential random variable with parameter $\\lambda > 0$ has a probabity density function:\n",
    "\n",
    "$$\n",
    "f(x) = \\begin{cases}\n",
    "\\lambda e^{-\\lambda x} & \\text{if } x \\geq 0 \\\\\n",
    "0 & \\text{if } x < 0\n",
    "\\end{cases}\n",
    "$$\n",
    "\n",
    "Exponential random variables arise as the distribution of the amount of time until a specific event."
   ]
  },
  {
   "cell_type": "markdown",
   "metadata": {},
   "source": [
    "## Cumulative distribution function"
   ]
  },
  {
   "cell_type": "markdown",
   "metadata": {},
   "source": [
    "$$\n",
    "\\begin{align}\n",
    "F(x) &= P(X \\leq x) \\\\\n",
    "&= \\int_0^x \\lambda e^{-\\lambda x} dx \\\\\n",
    "&= \\left[ -e^{-\\lambda x} \\right]^x_0 \\\\\n",
    "&= 1 - e^{-\\lambda x} \\quad x \\geq 0\n",
    "\\end{align}\n",
    "$$"
   ]
  },
  {
   "cell_type": "markdown",
   "metadata": {},
   "source": [
    "## Nth moment"
   ]
  },
  {
   "cell_type": "markdown",
   "metadata": {},
   "source": [
    "$$\n",
    "E(X^n) = \\int_0^\\infty x^n \\lambda e^{-\\lambda x} dx\n",
    "$$\n",
    "\n",
    "Integrating by parts\n",
    "\n",
    "$$\n",
    "\\begin{align}\n",
    "u &= x^n & v' &= \\lambda e^{\\lambda x} \\\\\n",
    "u' &= nx^{n-1} & v &= -e^{\\lambda x}\n",
    "\\end{align}\n",
    "$$\n",
    "\n",
    "We get:\n",
    "\n",
    "$$\n",
    "\\begin{align}\n",
    "E(X^n) &= \\left[ -x^n e^{\\lambda x} \\right]_0^\\infty - \\int_0^\\infty -e^{\\lambda x} n x^{n-1} dx \\\\\n",
    "&= 0 + \\frac{n}{\\lambda} \\int_0^{\\infty} \\lambda e^{\\lambda x} n x^{n-1} dx \\\\\n",
    "&= \\frac{n}{\\lambda} E(X^{n-1})\n",
    "\\end{align}\n",
    "$$"
   ]
  },
  {
   "cell_type": "markdown",
   "metadata": {},
   "source": [
    "## Expectation"
   ]
  },
  {
   "cell_type": "markdown",
   "metadata": {},
   "source": [
    "$$\n",
    "E(X) = \\frac{1}{\\lambda} E(X^0) = \\frac{1}{\\lambda}\n",
    "$$"
   ]
  },
  {
   "cell_type": "markdown",
   "metadata": {},
   "source": [
    "## Variation"
   ]
  },
  {
   "cell_type": "markdown",
   "metadata": {},
   "source": [
    "$$\n",
    "E(X^2) = \\frac{2}{\\lambda} E(X^1) = \\frac{2}{\\lambda} \\cdot \\frac{1}{\\lambda} = \\frac{2}{\\lambda^2}\n",
    "$$"
   ]
  },
  {
   "cell_type": "markdown",
   "metadata": {},
   "source": [
    "$$\n",
    "Var(X) = \\frac{2}{\\lambda^2} - \\left(\\frac{1}{\\lambda}\\right)^2 = \\frac{1}{\\lambda^2}\n",
    "$$"
   ]
  },
  {
   "cell_type": "markdown",
   "metadata": {},
   "source": [
    "---\n",
    "\n",
    "### Example\n",
    "\n",
    "Suppose 6 calls are made per hour, whats the probability the next call is made more than 10 minuets but less than 20?\n",
    "\n",
    "$$\n",
    "\\lambda = \\frac{6}{60} = \\frac{1}{10}\n",
    "$$\n",
    "\n",
    "Thus the time between the next call is exponential distributed with parameter $\\lambda = \\dfrac{1}{10}$\n",
    "\n",
    "$$\n",
    "\\begin{align}\n",
    "P(10 < X < 20) &= F(20) - F(10) \\\\\n",
    "&= e^{-1} - e^{-2} \\\\\n",
    "&\\approx 0.233\n",
    "\\end{align}\n",
    "$$\n",
    "\n",
    "---"
   ]
  },
  {
   "cell_type": "markdown",
   "metadata": {},
   "source": [
    "## Memoryless"
   ]
  },
  {
   "cell_type": "markdown",
   "metadata": {},
   "source": [
    "If we think $X$ is the lifetime of some instrument, the probability that the instrument lasts for $s+t$ hours given that it lasts $t$ hours is the same as the intial probability that it survives for atleast $s$ hours.\n",
    "\n",
    "$$\n",
    "P(X > s + t \\mid X > t) = P(X > s) \\quad \\text{for all } s, t \\geq 0\n",
    "$$"
   ]
  },
  {
   "cell_type": "markdown",
   "metadata": {},
   "source": [
    "## Hazard rate functions"
   ]
  },
  {
   "cell_type": "markdown",
   "metadata": {},
   "source": [
    "For a random variable $X$ with density function $f$ and distribution function $F$. The hazard rate function is defined as:\n",
    "\n",
    "$$\n",
    "\\lambda(t) = \\dfrac{f(t)}{1 - F(t)}\n",
    "$$\n",
    "\n",
    "The faliure rate function $\\lambda(x)$ uniquely determines the distribution function $F$:\n",
    "\n",
    "$$\n",
    "\\begin{align}\n",
    "\\int_0^t \\lambda(x) dx &= \\int_0^t \\dfrac{f(x)}{1 - F(x)} dx \\\\\n",
    "&= \\left[ - \\log(1 - F(x)) \\right]_0^x \\\\\n",
    "&= - \\log(1 - F(x)) + \\log(1 - F(0)) \\\\\n",
    "&= - \\log(1 - F(x))\n",
    "\\end{align}\n",
    "$$\n",
    "\n",
    "Thus:\n",
    "\n",
    "$$\n",
    "F(x) = 1 - \\exp \\left\\{ - \\int_0^x \\lambda(x) dx \\right\\}\n",
    "$$"
   ]
  },
  {
   "cell_type": "markdown",
   "metadata": {},
   "source": [
    "---\n",
    "\n",
    "### Example\n",
    "\n",
    "The lifetime $X$ (in years) of an item has a rate function $\\lambda_X(t) = t^2+t^4$ for $t > 0$. What is the probability that a $\\frac{1}{2}$ year old item will survive to age 1?\n",
    "\n",
    "$$\n",
    "\\begin{align}\n",
    "F_X(t) &= 1 - \\exp \\left\\{ - \\int_0^t t^2 + t^4 dt \\right\\} \\\\\n",
    "&= 1 - \\exp \\left\\{ - \\left[ \\frac{1}{3}t^3 + \\frac{1}{5}t^5 \\right]_0^t \\right\\} \\\\\n",
    "&= 1 - \\exp \\left\\{ - \\frac{1}{3}t^3 - \\frac{1}{5}t^5 \\right\\}\n",
    "\\end{align}\n",
    "$$\n",
    "\n",
    "$$\n",
    "\\begin{align}\n",
    "P(X > 1 \\mid X > 0.5) &= \\frac{P(X>1)}{P(X>0.5)} \\\\\n",
    "&\\approx \\frac{0.587}{0.953} \\\\\n",
    "&\\approx 0.616\n",
    "\\end{align}\n",
    "$$\n",
    "\n",
    "---"
   ]
  }
 ],
 "metadata": {
  "kernelspec": {
   "display_name": "Python 3",
   "language": "python",
   "name": "python3"
  },
  "language_info": {
   "codemirror_mode": {
    "name": "ipython",
    "version": 3
   },
   "file_extension": ".py",
   "mimetype": "text/x-python",
   "name": "python",
   "nbconvert_exporter": "python",
   "pygments_lexer": "ipython3",
   "version": "3.6.4"
  }
 },
 "nbformat": 4,
 "nbformat_minor": 2
}
