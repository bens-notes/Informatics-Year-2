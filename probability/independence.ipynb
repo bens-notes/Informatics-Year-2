{
 "cells": [
  {
   "cell_type": "markdown",
   "metadata": {},
   "source": [
    "# Independence"
   ]
  },
  {
   "cell_type": "markdown",
   "metadata": {},
   "source": [
    "For random variables $X$ and $Y$, they are independent if:\n",
    "$$\n",
    "P(a \\leq X \\leq b, c \\leq Y \\leq d) = P(a \\leq X \\leq b) P(c \\leq Y \\leq d) \\quad \\forall a, b, c, d \\in \\mathbb{R} : a < b, c < d\n",
    "$$\n",
    "\n",
    "From the axioms of probability, this is equivalent to:\n",
    "$$\n",
    "P(X \\leq x, Y \\leq y) = P(X \\leq x) P(Y \\leq y) \\quad \\forall x, y \\in \\mathbb{R}\n",
    "$$\n",
    "$$\n",
    "F_{X,Y}(x, y) = F_X(x) F_Y(y)\n",
    "$$"
   ]
  },
  {
   "cell_type": "markdown",
   "metadata": {},
   "source": [
    "Proposition: $X$ and $Y$ are independent iff\n",
    "$$\n",
    "f_{X,Y}(x, y) = f_X(x) f_Y(y) \\quad \\forall x, y \\in \\mathbb{R}\n",
    "$$\n",
    "\n",
    "Differentiating $F_{X, Y} = F_X(x) F_Y(y)$ with respect to $x$ and $y$ gives us:\n",
    "\n",
    "$$\n",
    "\\begin{align}\n",
    "\\frac{\\partial^2 F_{X,Y}(x,y)}{\\partial x \\partial y} &= \\frac{\\partial^2 F_{X}(x) F_{Y}(y)}{\\partial x \\partial y} \\\\\n",
    "f_{X,Y}(x,y) &= \\frac{\\partial^2 F_{X}(x)}{\\partial x} \\frac{\\partial F_{Y}(y)}{\\partial y} \\\\\n",
    "&= f_X(x) f_Y(y)\n",
    "\\end{align}\n",
    "$$\n",
    "\n",
    "Conversely, suppose that for all $x, y \\in \\mathbb{R}$\n",
    "\n",
    "$$\n",
    "f_{X,Y}(x, y) = f_X(x) f_Y(y)\n",
    "$$\n",
    "\n",
    "$$\n",
    "\\begin{align}\n",
    "F_{X,Y}(x, y) &= \\int_{-\\infty}^x \\int_{-\\infty}^y f_{X,Y}(x, y) dy dx\\\\\n",
    "&= \\int_{-\\infty}^x \\int_{-\\infty}^y f_{X}(x) f_{Y}(y) dy dx\\\\\n",
    "&= \\int_{-\\infty}^x f_{X}(x) dx \\int_{-\\infty}^y f_{Y}(y) dy\\\\\n",
    "&= F_X(x) F_Y(y)\n",
    "\\end{align}\n",
    "$$"
   ]
  },
  {
   "cell_type": "markdown",
   "metadata": {},
   "source": [
    "---\n",
    "\n",
    "### Example\n",
    "\n",
    "A man and woman arrive independently according to a time uniformly distributed between 1pm and 2pm. What is the probability that the first to arrive waits more than 10 minuets before the other arrives?\n",
    "\n",
    "$$\n",
    "X \\sim u(0, 60) \\quad Y \\sim u(0, 60)\n",
    "$$\n",
    "\n",
    "$$\n",
    "f_X(x) \\begin{cases}\n",
    "\\dfrac{1}{60} & \\text{if } 0 \\leq x \\leq 60 \\\\\n",
    "0 & \\text{otherwise}\n",
    "\\end{cases} \\quad f_Y(y) \\begin{cases}\n",
    "\\dfrac{1}{60} & \\text{if } 0 \\leq y \\leq 60 \\\\\n",
    "0 & \\text{otherwise}\n",
    "\\end{cases}\n",
    "$$\n",
    "\n",
    "$$\n",
    "\\begin{align}\n",
    "P(X + 10 < Y) + P(Y + 10 < X) &= 2 P(X + 10 < Y) \\\\\n",
    "&= 2 \\int_{10}^{60} \\int_{0}^{y-10} f_X(x) f_Y(y) dx dy \\\\\n",
    "&= 2 \\int_{10}^{60} f_Y(y) dy \\int_{0}^{y-10} f_X(x) dx \\\\\n",
    "&= 2 \\int_{10}^{60} f_Y(y) dy \\left[ \\frac{x}{60} \\right]_{0}^{y-10} \\\\\n",
    "&= \\frac{2}{60} \\left[ \\frac{\\frac{1}{2}y^2-10y}{60} \\right]_{10}^{60} \\\\\n",
    "&= \\frac{2}{60^2} \\left[ \\frac{1}{2} y^2-10y \\right]_{10}^{60} \\\\\n",
    "&= \\frac{25}{36} \\\\\n",
    "&\\approx 0.69\n",
    "\\end{align}\n",
    "$$\n",
    "\n",
    "---"
   ]
  }
 ],
 "metadata": {
  "kernelspec": {
   "display_name": "Python 3",
   "language": "python",
   "name": "python3"
  },
  "language_info": {
   "codemirror_mode": {
    "name": "ipython",
    "version": 3
   },
   "file_extension": ".py",
   "mimetype": "text/x-python",
   "name": "python",
   "nbconvert_exporter": "python",
   "pygments_lexer": "ipython3",
   "version": "3.6.4"
  }
 },
 "nbformat": 4,
 "nbformat_minor": 2
}
