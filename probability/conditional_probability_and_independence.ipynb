{
 "cells": [
  {
   "cell_type": "markdown",
   "metadata": {},
   "source": [
    "# Conditional Probability And Independence"
   ]
  },
  {
   "cell_type": "markdown",
   "metadata": {},
   "source": [
    "## Conditional probability"
   ]
  },
  {
   "cell_type": "markdown",
   "metadata": {},
   "source": [
    "$$\n",
    "P(F \\mid E) = \\dfrac{P(F \\cap E)}{P(E)} \\quad \\text{for } E \\ne \\emptyset\n",
    "$$"
   ]
  },
  {
   "cell_type": "markdown",
   "metadata": {},
   "source": [
    "---\n",
    "\n",
    "### Example\n",
    "\n",
    "A couple has two children, of which one was a girl, what is the probability that both children are girls?\n",
    "\n",
    "- Let $F$ denote \"both children are girls\"\n",
    "- Let $E$ denote \"one child was a girl\"\n",
    "- $F = \\{(g, g)\\}$\n",
    "- $E = \\{(b, g), (g, b), (g, g)\\}$\n",
    "- $S = \\{(b, b), (b, g), (g, b), (g, g)\\}$\n",
    "- $P(F \\mid E) = \\dfrac{\\frac{1}{4}}{\\frac{3}{4}} = \\dfrac{1}{3}$\n",
    "---"
   ]
  },
  {
   "cell_type": "markdown",
   "metadata": {},
   "source": [
    "## Independent events"
   ]
  },
  {
   "cell_type": "markdown",
   "metadata": {},
   "source": [
    "Two events E,F are said to be _independent_ if \n",
    "$$\n",
    "P(F \\cap E) = P(F)P(E)\n",
    "$$"
   ]
  },
  {
   "cell_type": "markdown",
   "metadata": {},
   "source": [
    "---\n",
    "\n",
    "### Example\n",
    "\n",
    "A fair coin is tossed twice. Let $E$ denote the event the first toss is heads, and $F$ denote the event the second toss is tails. Are $E$ and $F$ independent events?\n",
    "\n",
    "$P(E) = \\dfrac{1}{2}$\n",
    "\n",
    "$P(T) = \\dfrac{1}{2}$\n",
    "\n",
    "$P(F \\cap E) = \\dfrac{1}{2} \\times \\frac{1}{2} = \\dfrac{1}{4}$\n",
    "\n",
    "$\\dfrac{1}{4} = \\dfrac{1}{2} \\times \\dfrac{1}{2}$ thus $E$ and $F$ are independent\n",
    "\n",
    "---"
   ]
  },
  {
   "cell_type": "markdown",
   "metadata": {},
   "source": [
    "## Sequence of independent events"
   ]
  },
  {
   "cell_type": "markdown",
   "metadata": {},
   "source": [
    "A sequence $E_1, E_2, ..., E_n$ is said to be independent if for every $i_1 < i_2 < ... < i_r$ such that $i_j \\in \\{ 1, 2, ..., n \\}$ and $1 \\leq r \\leq n$\n",
    "$$\n",
    "P(E_{i_1} \\cap E_{i_2} \\cap ... \\cap E_{i_r}) = P(E_{i_1}) P(E_{i_2}) ... P(E_{i_r}) = \\prod^r_{j=1} P(E_{i_j})\n",
    "$$"
   ]
  },
  {
   "cell_type": "markdown",
   "metadata": {},
   "source": [
    "## Multiplication (or chain) rule for probability"
   ]
  },
  {
   "cell_type": "markdown",
   "metadata": {},
   "source": [
    "$$\n",
    "P(E_1 E_2 ... E_n) = P(E_1) P(E_2 \\mid E_1) ... P(E_n \\mid E_1 E_2 ... E_n)\n",
    "$$\n",
    "\n",
    "For a sequence of independent events:\n",
    "\n",
    "$$\n",
    "P(E_{i_1} E_{i_2} ... E_{i_n}) = P(E_{i_1}) P(E_{i_2}) ... P(E_{i_n}) = \\prod_{j=1}^r P(E_{i_j})\n",
    "$$"
   ]
  },
  {
   "cell_type": "markdown",
   "metadata": {},
   "source": [
    "---\n",
    "\n",
    "### Example\n",
    "\n",
    "52 cards are split into 4 piles, what is the probability that each pile has exactly one ace?\n",
    "\n",
    "- $E_1$ - ace of spades is in a pile\n",
    "- $E_2$ - ace of spades and ace of hearts are in diffrent piles\n",
    "- $E_3$ - ace of spades, ace of hearts and ace of diamonds are in diffrent piles\n",
    "- $E_4$ - all four aces are in diffrent piles\n",
    "\n",
    "By definition in $E_4 = E_1 \\cap E_2 \\cap E_3 \\cap E_4$ and from the multiplication rule $P(E_1 E_2 E_3 E_4) = P(E_1) P(E_2 \\mid E_1) P(E_3 \\mid E_1 E_2) P(E_4 \\mid E_1 E_2 E_3)$\n",
    "\n",
    "$P(E_1) = 1$\n",
    "\n",
    "$P(E_2 \\mid E_1) = \\dfrac{39}{51}$ (the pile containing ace of spaces has 12 _other_ cards)\n",
    "\n",
    "$P(E_3 \\mid E_1 E_2) = \\dfrac{26}{50}$ (pile containing ace of spaces/hearts has 24 _other_ cards)\n",
    "\n",
    "$P(E_4 \\mid E_3 E_2 E_1) = \\dfrac{13}{49}$\n",
    "\n",
    "$P(E_1 E_2 E_3 E_4) = 1 \\cdot \\dfrac{39}{51} \\cdot \\dfrac{26}{50} \\cdot \\dfrac{13}{49} \\approx 0.105$\n",
    "\n",
    "---"
   ]
  },
  {
   "cell_type": "markdown",
   "metadata": {},
   "source": [
    "## Law of total probability\n",
    "\n",
    "For a sample space of mutullay exclusive events\n",
    "$$\n",
    "S = F_1 \\cup F_2 \\cup ... \\cup F_n\n",
    "$$\n",
    "\n",
    "For any event $E \\subseteq S$\n",
    "$$\n",
    "P(E) = P(E \\mid F_1)P(F_1) + ... + P(E \\mid F_n)P(F_n)\n",
    "$$"
   ]
  },
  {
   "cell_type": "markdown",
   "metadata": {},
   "source": [
    "---\n",
    "\n",
    "### Example\n",
    "\n",
    "30% of the population is accident prone, in any 1 year period\n",
    "\n",
    "- 40% of accident-prone people has an accident\n",
    "- 20% of non accident-prone people has an accident\n",
    "\n",
    "What is the probability of a policy holder has an accident within a year?\n",
    "\n",
    "$P(\\text{accident}) = P(\\text{accident-prone}) \\cdot P(\\text{accident-prone has an accident}) + P(\\text{non accident-prone}) \\cdot P(\\text{non accident-prone has an accident})$\n",
    "\n",
    "$P(\\text{accident}) = 0.3 \\cdot 0.4 + (1-0.3) \\cdot 0.2 = 0.26$\n",
    "\n",
    "---"
   ]
  },
  {
   "cell_type": "markdown",
   "metadata": {},
   "source": [
    "## Bayes' formula"
   ]
  },
  {
   "cell_type": "markdown",
   "metadata": {},
   "source": [
    "For a sample space of mutullay exclusive events $S = F_1 \\cup F_2 \\cup ... \\cup F_n$\n",
    "\n",
    "$$\n",
    "P(F_j \\mid E) = \\frac{P(F_j \\cap E)}{P(E)} = \\frac{P(E \\mid F_j) P(F_j)}{P(E \\mid F_1) P(F_1) + ... + P(E \\mid F_n) P(F_n)}\n",
    "$$"
   ]
  },
  {
   "cell_type": "markdown",
   "metadata": {},
   "source": [
    "---\n",
    "\n",
    "### Example\n",
    "\n",
    "Their are three types of torches (20% are type I, 30% are type II, 50% are type III)\n",
    "\n",
    "- 70% of type I torches last more than 100 hrs\n",
    "- 40% of type II torches last more than 100 hrs\n",
    "- 30% of type III torches last more than 100 hrs\n",
    "\n",
    "Given a random torch lasts 100 hrs, what is the probability that it is type II?\n",
    "\n",
    "Let $E$ denote the event a torch lasts 100 hours.\n",
    "\n",
    "$P(E) = P(E \\mid \\text{Type I}) \\cdot P(\\text{Type I}) + P(E \\mid \\text{Type II}) \\cdot P(\\text{Type II}) + P(E \\mid \\text{Type III}) \\cdot P(\\text{Type III})$\n",
    "\n",
    "$P(E) = 0.7 \\times 0.2 + 0.4 \\times 0.3 + 0.3 \\times 0.5 \\approx 0.41$\n",
    "\n",
    "$P(\\text{Type II} \\mid E) = \\dfrac{P(E \\mid \\text{Type II}) P(\\text{Type II})}{P(E)}$\n",
    "\n",
    "$\\dfrac{0.4 \\times 0.3}{0.41} = 0.293$\n",
    "\n",
    "---"
   ]
  }
 ],
 "metadata": {
  "kernelspec": {
   "display_name": "Python 3",
   "language": "python",
   "name": "python3"
  },
  "language_info": {
   "codemirror_mode": {
    "name": "ipython",
    "version": 3
   },
   "file_extension": ".py",
   "mimetype": "text/x-python",
   "name": "python",
   "nbconvert_exporter": "python",
   "pygments_lexer": "ipython3",
   "version": "3.6.4"
  }
 },
 "nbformat": 4,
 "nbformat_minor": 2
}
