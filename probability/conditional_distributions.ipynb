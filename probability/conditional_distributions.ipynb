{
 "cells": [
  {
   "cell_type": "markdown",
   "metadata": {},
   "source": [
    "# Conditional Distributions"
   ]
  },
  {
   "cell_type": "markdown",
   "metadata": {},
   "source": [
    "The _conditional probability density function_ of $X$ given $Y = y$ is defined as:\n",
    "\n",
    "$$\n",
    "f_{X \\mid (Y = y)}(x) = \\frac{f_{X,Y}(x, y)}{f_Y(y)}\n",
    "$$\n",
    "\n",
    "Alternative notation is $f_{X\\mid Y}(x \\mid y) \\equiv f_{X \\mid (Y = y)}(x)$"
   ]
  },
  {
   "cell_type": "markdown",
   "metadata": {},
   "source": [
    "---\n",
    "\n",
    "### Example\n",
    "\n",
    "Let $X, Y$ be random variables with the joint density\n",
    "\n",
    "$$\n",
    "f_{X,Y}(x,y) = \\begin{cases}\n",
    "e^{-\\frac{x}{y}} e^{-y} & 0 < x,y \\\\\n",
    "0 & \\text{otherwise}\n",
    "\\end{cases}\n",
    "$$\n",
    "\n",
    "Find $P(X > 1 \\mid Y = y)$ when $y > 0$\n",
    "\n",
    "$e^{-\\frac{x}{y}} e^{-y}$ cannot be written as $g(x)h(y)$ thus it is not independent.\n",
    "\n",
    "When $y>0$\n",
    "\n",
    "$$\n",
    "\\begin{align}\n",
    "f_Y(y) &= \\int_0^\\infty e^{-\\frac{x}{y}} e^{-y} dx \\\\\n",
    "&= e^{-y} \\left[ -ye^{-\\frac{x}{y}} \\right]_0^\\infty \\\\\n",
    "&= ye^{-y}\n",
    "\\end{align}\n",
    "$$\n",
    "\n",
    "$$\n",
    "\\dfrac{e^{-\\frac{x}{y}} e^{-y}}{ye^{-y}} = \\dfrac{1}{y}e^{-\\frac{x}{y}}\n",
    "$$\n",
    "\n",
    "Thus\n",
    "\n",
    "$$\n",
    "f_{X \\mid (Y=y)}(x) = \\begin{cases}\n",
    "\\dfrac{1}{y}e^{-\\frac{x}{y}} & 0 < x, y \\\\\n",
    "0 & \\text{otherwise}\n",
    "\\end{cases}\n",
    "$$\n",
    "\n",
    "$$\n",
    "\\begin{align}\n",
    "P(X > 1 \\mid Y = y) &= \\int_1^\\infty \\frac{1}{y} e^{-\\frac{x}{y}} dx \\\\\n",
    "&= \\left[ e^{-\\frac{x}{y}} \\right]_1^\\infty \\\\\n",
    "&= e^{-\\frac{1}{y}}\n",
    "\\end{align}\n",
    "$$\n",
    "\n",
    "---"
   ]
  }
 ],
 "metadata": {
  "kernelspec": {
   "display_name": "Python 3",
   "language": "python",
   "name": "python3"
  },
  "language_info": {
   "codemirror_mode": {
    "name": "ipython",
    "version": 3
   },
   "file_extension": ".py",
   "mimetype": "text/x-python",
   "name": "python",
   "nbconvert_exporter": "python",
   "pygments_lexer": "ipython3",
   "version": "3.6.4"
  }
 },
 "nbformat": 4,
 "nbformat_minor": 2
}
