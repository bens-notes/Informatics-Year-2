{
 "cells": [
  {
   "cell_type": "markdown",
   "metadata": {},
   "source": [
    "# Hazard rate functions"
   ]
  },
  {
   "cell_type": "markdown",
   "metadata": {},
   "source": [
    "For a random variable $X$ with density function $f$ and distribution function $F$. The hazard rate function is defined as:\n",
    "\n",
    "$$\n",
    "\\lambda(t) = \\dfrac{f(t)}{1 - F(t)}\n",
    "$$\n",
    "\n",
    "The faliure rate function $\\lambda(x)$ uniquely determines the distribution function $F$:\n",
    "\n",
    "$$\n",
    "\\begin{align}\n",
    "\\int_0^t \\lambda(x) dx &= \\int_0^t \\dfrac{f(x)}{1 - F(x)} dx \\\\\n",
    "&= \\left[ - \\log(1 - F(x)) \\right]_0^x \\\\\n",
    "&= - \\log(1 - F(x)) + \\log(1 - F(0)) \\\\\n",
    "&= - \\log(1 - F(x))\n",
    "\\end{align}\n",
    "$$\n",
    "\n",
    "Thus:\n",
    "\n",
    "$$\n",
    "F(x) = 1 - \\exp \\left\\{ - \\int_0^x \\lambda(x) dx \\right\\}\n",
    "$$"
   ]
  },
  {
   "cell_type": "markdown",
   "metadata": {},
   "source": [
    "---\n",
    "\n",
    "### Example\n",
    "\n",
    "The lifetime $X$ (in years) of an item has a rate function $\\lambda_X(t) = t^2+t^4$ for $t > 0$. What is the probability that a $\\frac{1}{2}$ year old item will survive to age 1?\n",
    "\n",
    "$$\n",
    "\\begin{align}\n",
    "F_X(t) &= 1 - \\exp \\left\\{ - \\int_0^t t^2 + t^4 dt \\right\\} \\\\\n",
    "&= 1 - \\exp \\left\\{ - \\left[ \\frac{1}{3}t^3 + \\frac{1}{5}t^5 \\right]_0^t \\right\\} \\\\\n",
    "&= 1 - \\exp \\left\\{ - \\frac{1}{3}t^3 - \\frac{1}{5}t^5 \\right\\}\n",
    "\\end{align}\n",
    "$$\n",
    "\n",
    "$$\n",
    "\\begin{align}\n",
    "P(X > 1 \\mid X > 0.5) &= \\frac{P(X>1)}{P(X>0.5)} \\\\\n",
    "&\\approx \\frac{0.587}{0.953} \\\\\n",
    "&\\approx 0.616\n",
    "\\end{align}\n",
    "$$\n",
    "\n",
    "---"
   ]
  }
 ],
 "metadata": {
  "kernelspec": {
   "display_name": "Python 3",
   "language": "python",
   "name": "python3"
  },
  "language_info": {
   "codemirror_mode": {
    "name": "ipython",
    "version": 3
   },
   "file_extension": ".py",
   "mimetype": "text/x-python",
   "name": "python",
   "nbconvert_exporter": "python",
   "pygments_lexer": "ipython3",
   "version": "3.6.4"
  }
 },
 "nbformat": 4,
 "nbformat_minor": 2
}
