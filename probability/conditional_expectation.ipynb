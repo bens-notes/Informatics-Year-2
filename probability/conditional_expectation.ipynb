{
 "cells": [
  {
   "cell_type": "markdown",
   "metadata": {},
   "source": [
    "# Conditional Expectation"
   ]
  },
  {
   "cell_type": "markdown",
   "metadata": {},
   "source": [
    "- If the expectation of a random variable $X$ is expressed conditional on another random variable $Y$ without a particular value of $Y$ being specified, then the expectation of $E(X \\mid Y)$, is a function of the random variable $Y$ and hence is itself a random variable. \n",
    "- If the expectation of $X$ is expressed conditional on the occurrence of a particular value of $Y$, denoted $y$, then the conditional expectation $E(X \\mid Y = y)$ is a fixed value."
   ]
  },
  {
   "cell_type": "markdown",
   "metadata": {},
   "source": [
    "## Discrete Case"
   ]
  },
  {
   "cell_type": "markdown",
   "metadata": {},
   "source": [
    "$$\n",
    "P(X \\mid (Y = y) = x) = P(X = x \\mid Y = y) = \\frac{P_{X, Y}(x, y)}{P_Y(y)}\n",
    "$$\n",
    "\n",
    "The conditional expectation of $X$ given $Y = y$ is:\n",
    "\n",
    "$$\n",
    "E(X \\mid Y = y) = \\sum_x x P(X = y \\mid Y = y)\n",
    "$$"
   ]
  },
  {
   "cell_type": "markdown",
   "metadata": {},
   "source": [
    "In the discrete case $E(X) = E(E(X \\mid Y))$\n",
    "\n",
    "Proof\n",
    "\n",
    "$$\n",
    "\\begin{align}\n",
    "E(E(X \\mid Y)) &= \\sum_y E(X \\mid Y = y) P(Y = y) \\\\\n",
    "&= \\sum_y \\sum_x x P(X = x \\mid Y = y)P(Y = y) \\\\\n",
    "&= \\sum_x x \\sum_y P(X=x, Y=y) \\\\\n",
    "&= \\sum_x x P(X = x) \\\\\n",
    "&= E(X)\n",
    "\\end{align}\n",
    "$$"
   ]
  },
  {
   "cell_type": "markdown",
   "metadata": {},
   "source": [
    "---\n",
    "\n",
    "### Example\n",
    "\n",
    "A miner chooses an exit randomly (every time). If he chooses the first exit he gets to safety in 5 hours, if he chooses the second exit he loops back in 5 hours, if he chooses the third exit he loops back in 7 hours. What is the expected time to safety.\n",
    "\n",
    "Let $X$ be the time to saftey and $Y$ the choosen door.\n",
    "\n",
    "$$\n",
    "P(Y = 1) = P(Y = 2) = P(Y = 3) = \\frac{1}{3}\n",
    "$$\n",
    "\n",
    "Clearly $X$ depends on $Y$. To find $E(X)$ we will use $E(X) = E(E(X \\mid Y))$\n",
    "\n",
    "$$\n",
    "\\begin{align}\n",
    "E(X \\mid Y = 1) P(Y = 1) + E(X \\mid Y = 2) P(Y = 2) + E(X \\mid Y = 3) P(Y = 3) &= \\\\\n",
    "\\frac{1}{3} \\left[ E(X \\mid Y = 1) + E(X \\mid Y = 2) + E(X \\mid Y = 3) \\right] &= \\\\\n",
    "\\frac{1}{3} \\left[ 3 + (5 + E(X)) + (7 + E(X)) \\right] &= 5 + \\frac{2}{3} E(X) \\\\\n",
    "\\end{align}\n",
    "$$\n",
    "\n",
    "Thus $E(X)$ is 15 hours.\n",
    "\n",
    "---"
   ]
  },
  {
   "cell_type": "markdown",
   "metadata": {},
   "source": [
    "## Continuous Case"
   ]
  },
  {
   "cell_type": "markdown",
   "metadata": {},
   "source": [
    "Conditional expectation for continous random variables is:\n",
    "\n",
    "$$\n",
    "E(X \\mid Y = y) = \\int_{-\\infty}^{\\infty} x f_{X \\mid Y = y}(x) dx\n",
    "$$\n",
    "\n",
    "And the conditional joint density function is defined as:\n",
    "\n",
    "$$\n",
    "f_{X \\mid (Y = y)} = \\frac{f_{X, Y}(x,y)}{f_Y(y)}\n",
    "$$"
   ]
  },
  {
   "cell_type": "markdown",
   "metadata": {},
   "source": [
    "---\n",
    "\n",
    "### Example\n",
    "\n",
    "$$\n",
    "f_{X, Y}(x, y) = \\begin{cases}\n",
    "\\dfrac{e^{-x/y}e^{-y}}{y} & x > 0, 0 < y < \\infty \\\\\n",
    "0 & \\text{otherwise}\n",
    "\\end{cases}\n",
    "$$\n",
    "\n",
    "Compute $E(X \\mid Y = y)$\n",
    "\n",
    "$$\n",
    "\\begin{align}\n",
    "f_Y(y) &= \\int_0^\\infty f_{X, Y}(x, y)dx \\\\\n",
    "&= \\frac{e^{-y}}{y} \\int_0^\\infty e^{-x/y} dx\\\\\n",
    "&= e^{-y}\n",
    "\\end{align}\n",
    "$$\n",
    "\n",
    "Hence\n",
    "\n",
    "$$\n",
    "f_{X \\mid Y = y}(x) = \\begin{cases}\n",
    "\\dfrac{1}{y}e^{-x/y} & 0 < x, y \\\\\n",
    "0 & \\text{otherwise}\n",
    "\\end{cases}\n",
    "$$\n",
    "\n",
    "Thus\n",
    "\n",
    "$$\n",
    "\\begin{align}\n",
    "E(X \\mid Y = y) &= \\int_0^{\\infty} x f_{X \\mid Y = y} dx \\\\\n",
    "&= \\frac{1}{y} \\int_0^\\infty x e^{-x/y} dx\\\\\n",
    "&= - \\int_0^\\infty x \\frac{d}{dx} e^{-x/y} dx\\\\\n",
    "&= \\int_0^\\infty e^{-x/y} dx\\\\\n",
    "&= y\n",
    "\\end{align}\n",
    "$$\n",
    "\n",
    "Hence\n",
    "\n",
    "$$\n",
    "E(X \\mid Y = y) = \\begin{cases}\n",
    "y & y > 0 \\\\\n",
    "0 & y \\leq 0\n",
    "\\end{cases}\n",
    "$$"
   ]
  }
 ],
 "metadata": {
  "kernelspec": {
   "display_name": "Python 3",
   "language": "python",
   "name": "python3"
  },
  "language_info": {
   "codemirror_mode": {
    "name": "ipython",
    "version": 3
   },
   "file_extension": ".py",
   "mimetype": "text/x-python",
   "name": "python",
   "nbconvert_exporter": "python",
   "pygments_lexer": "ipython3",
   "version": "3.6.4"
  }
 },
 "nbformat": 4,
 "nbformat_minor": 2
}
