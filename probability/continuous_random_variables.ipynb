{
 "cells": [
  {
   "cell_type": "markdown",
   "metadata": {},
   "source": [
    "# Continuous Random Variables"
   ]
  },
  {
   "cell_type": "markdown",
   "metadata": {},
   "source": [
    "A discrete random variable has a countable set of values, a continuous random variable has an uncountable set of values. $X$ is said to be a _continuous_ random variable if their exists a _nonnegative_ function $f$ for all real $x \\in (-\\infty, \\infty)$ for any set $B$ of real numbers where:\n",
    "\n",
    "$$\n",
    "P(X \\in B) = \\int_B f(x) dx\n",
    "$$\n",
    "\n",
    "If we let $B = [a,b], we get:\n",
    "\n",
    "$$\n",
    "P(a \\leq X \\leq b) = \\int^a_b f(x) dx\n",
    "$$\n",
    "\n",
    "To find $P(X = a)$ set $b=a$\n",
    "\n",
    "$$\n",
    "P(X = a) = \\inf_a^a f(x) dx = 0\n",
    "$$\n",
    "\n",
    "Thus the probabity that a continous random variable assumes a fixed value is zero."
   ]
  },
  {
   "cell_type": "markdown",
   "metadata": {},
   "source": [
    "---\n",
    "\n",
    "### Example\n",
    "\n",
    "The probabibility density function for a continous random variable $X$ is:\n",
    "\n",
    "$$\n",
    "f(x) =\n",
    "\\begin{cases}\n",
    "C(4x-2x^2) & 0 < x < 2 \\\\\n",
    "0 & \\text{otherwise}\n",
    "\\end{cases}\n",
    "$$\n",
    "\n",
    "What is the value of C?\n",
    "\n",
    "$$\n",
    "\\begin{align}\n",
    "1 &= \\int_0^2 C(4x-2x^2) \\\\\n",
    "&= C \\int_0^2 4x-2x^2 \\\\\n",
    "&= C \\left[2x^2-\\frac{2}{3}x^3 \\right]_0^2 \\\\\n",
    "&= C \\left[0 - \\left(2 \\cdot 2^2 - \\frac{2}{3} \\cdot 2^3\\right) \\right] \\\\\n",
    "&= C \\left[0 - \\left(8 - \\frac{16}{3}\\right)\\right] \\\\\n",
    "&= C \\cdot \\frac{8}{3} \\\\\n",
    "C &= \\frac{3}{8}\n",
    "\\end{align}\n",
    "$$\n",
    "\n",
    "---"
   ]
  },
  {
   "cell_type": "markdown",
   "metadata": {},
   "source": [
    "## Cumulative density function"
   ]
  },
  {
   "cell_type": "markdown",
   "metadata": {},
   "source": [
    "The cumulative density function is defined as\n",
    "\n",
    "$$\n",
    "F(x) = P(X \\leq x)\n",
    "$$\n",
    "\n",
    "Thus for a continuos random variable\n",
    "\n",
    "$$\n",
    "F(x) = \\int_{-\\infty}^a f(x) dx\n",
    "$$"
   ]
  },
  {
   "cell_type": "markdown",
   "metadata": {},
   "source": [
    "---\n",
    "\n",
    "### Example\n",
    "\n",
    "If $X$ is a continous random variable with distribution function $F_X$ and density function $f_X$, find the density function $Y = 2X$.\n",
    "\n",
    "$$\n",
    "\\begin{align}\n",
    "F_Y(x) &= P(Y < x) \\\\\n",
    "&= P(2X < x) \\\\\n",
    "&= P\\left(X < \\frac{x}{2}\\right) \\\\\n",
    "&= F_X\\left(\\frac{x}{2}\\right)\n",
    "\\end{align}\n",
    "$$\n",
    "\n",
    "Differentiating $F_X\\left(\\dfrac{x}{2}\\right)$ gives us:\n",
    "\n",
    "$$\n",
    "f_Y(x) = \\frac{1}{2} f_X\\left(\\frac{x}{2}\\right)\n",
    "$$\n",
    "\n",
    "---"
   ]
  },
  {
   "cell_type": "markdown",
   "metadata": {},
   "source": [
    "## Expectation"
   ]
  },
  {
   "cell_type": "markdown",
   "metadata": {},
   "source": [
    "The expected value for a discrete random variable is:\n",
    "\n",
    "$$\n",
    "E(X) = \\sum_x x P(X = x)\n",
    "$$\n",
    "\n",
    "For a continous random variable\n",
    "\n",
    "$$\n",
    "f(x) dx \\approx P(x \\leq X \\leq x + dx) \\quad \\text{for small } dx\n",
    "$$\n",
    "\n",
    "Thus its easy to see that the expectation of a continous random variable is:\n",
    "\n",
    "$$\n",
    "E(X) = \\int_{-\\infty}^{\\infty} x f(x) dx\n",
    "$$"
   ]
  },
  {
   "cell_type": "markdown",
   "metadata": {},
   "source": [
    "---\n",
    "\n",
    "### Example\n",
    "\n",
    "The density function of $X$ is given by\n",
    "\n",
    "$$\n",
    "f(x) = \\begin{cases}\n",
    "1 & \\text{if } 0 \\leq x \\leq 1 \\\\\n",
    "0 & \\text{otherwise}\n",
    "\\end{cases}\n",
    "$$\n",
    "\n",
    "Find $E(e^X)$\n",
    "\n",
    "For $1 \\leq x \\leq e$\n",
    "\n",
    "$$\n",
    "\\begin{align}\n",
    "F_Y(x) &= P(Y \\leq x) \\\\\n",
    "&= P(e^X \\leq x) \\\\\n",
    "&= P(X \\leq \\log x) \\\\\n",
    "&= \\int_0^{\\log x} f(y) dy \\\\\n",
    "&= \\log x\n",
    "\\end{align}\n",
    "$$\n",
    "\n",
    "Differentiating $F_Y(x)$ we get\n",
    "\n",
    "$$\n",
    "f_Y(x) = \\frac{1}{x} \\quad 1 \\leq x \\leq e\n",
    "$$\n",
    "\n",
    "Finnally\n",
    "\n",
    "$$\n",
    "\\begin{align}\n",
    "E(e^X) &= \\int_{-\\infty}^{\\infty} x f_Y(x) dx \\\\\n",
    "&= \\int_1^e dx \\\\\n",
    "&= e - 1\n",
    "\\end{align}\n",
    "$$\n",
    "\n",
    "---"
   ]
  },
  {
   "cell_type": "markdown",
   "metadata": {},
   "source": [
    "## Expectation of a function"
   ]
  },
  {
   "cell_type": "markdown",
   "metadata": {},
   "source": [
    "For a continouse random variable $X$\n",
    "\n",
    "$$\n",
    "E(g(X)) = \\int_{-\\infty}^{\\infty} g(x)f(x) dx\n",
    "$$\n",
    "\n",
    "First by splitting the integration into two integrals:\n",
    "\n",
    "$$\n",
    "\\int_0^{\\infty} P(Y > y) dy = \\int_0^{\\infty} \\int_y^{\\infty} f_Y(x) dx dy\n",
    "$$\n",
    "\n",
    "And interchanging the order of intergration:\n",
    "\n",
    "$$\n",
    "\\begin{align}\n",
    "\\int_0^\\infty P(Y > y) &= \\int_0^\\infty \\left( \\int_0^x dy \\right) f_Y(x) dx \\\\\n",
    "&= \\int_0^\\infty x f_Y(x) dx \\\\\n",
    "&= E(Y)\n",
    "\\end{align}\n",
    "$$\n",
    "\n",
    "Using the above, for any non-negative function $g(x)$:\n",
    "\n",
    "$$\n",
    "\\begin{align}\n",
    "E(g(X)) &= \\int_0^\\infty P(g(X) > Y) dy \\\\\n",
    "&= \\int_0^\\infty \\int_{x:g(x)>y} f_Y(x) dx dy \\\\\n",
    "&= \\int_{x:g(x)>y} \\left( \\int_0^{g(x)} dy \\right) f_Y(x) dx \\\\\n",
    "&= \\int_{x:g(x)>y} g(x) f_Y(x) dx \\\\\n",
    "\\end{align}\n",
    "$$"
   ]
  },
  {
   "cell_type": "markdown",
   "metadata": {},
   "source": [
    "---\n",
    "\n",
    "### Example\n",
    "\n",
    "The density function of $X$ is given by\n",
    "\n",
    "$$\n",
    "f(x) = \\begin{cases}\n",
    "1 & \\text{if } 0 \\leq x \\leq 1 \\\\\n",
    "0 & \\text{otherwise}\n",
    "\\end{cases}\n",
    "$$\n",
    "\n",
    "Find $E(e^X)$\n",
    "\n",
    "$$\n",
    "\\begin{align}\n",
    "E(e^X) &= \\int_0^1 e^x dx \\\\\n",
    "&= \\left[ e^x \\right]_0^1 \\\\\n",
    "&= e^1 - e^0 \\\\\n",
    "&= e - 1\n",
    "\\end{align}\n",
    "$$\n",
    "\n",
    "---"
   ]
  }
 ],
 "metadata": {
  "kernelspec": {
   "display_name": "Python 3",
   "language": "python",
   "name": "python3"
  },
  "language_info": {
   "codemirror_mode": {
    "name": "ipython",
    "version": 3
   },
   "file_extension": ".py",
   "mimetype": "text/x-python",
   "name": "python",
   "nbconvert_exporter": "python",
   "pygments_lexer": "ipython3",
   "version": "3.6.4"
  }
 },
 "nbformat": 4,
 "nbformat_minor": 2
}
