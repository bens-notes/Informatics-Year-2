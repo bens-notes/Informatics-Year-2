{
 "cells": [
  {
   "cell_type": "markdown",
   "metadata": {},
   "source": [
    "# Binomial Random Variable"
   ]
  },
  {
   "cell_type": "markdown",
   "metadata": {},
   "source": [
    "## Bernoulli random variable"
   ]
  },
  {
   "cell_type": "markdown",
   "metadata": {},
   "source": [
    "Suppose a random experiment had two outcomes, success or failure. The experiment is successfull with probability $p$, let $X=1$ denote a success and $X=0$ denote a failure. The probability mass function is thus as follows:\n",
    "$$\n",
    "\\begin{align}\n",
    "P(X = 1) &= p \\\\\n",
    "P(X = 0) &= 1 - p\n",
    "\\end{align}\n",
    "$$\n",
    "$X$ is said to be a bernoulli random variable."
   ]
  },
  {
   "cell_type": "markdown",
   "metadata": {},
   "source": [
    "## Binomial random bariable"
   ]
  },
  {
   "cell_type": "markdown",
   "metadata": {},
   "source": [
    "Consider the same experiment performed for $n$ independent trials. Let $X$ denote the number of success in $n$ trials. The probability of $X = i$ is the probability of $i$ successes and $n-i$ failures times $\\binom{n}{i}$, the number of arrangements of $i$ successes and $n-i$ failures, the probability mass function is thus:\n",
    "\n",
    "$$\n",
    "\\begin{align}\n",
    "P(X = x) &= \\binom{n}{x} p^i (1-p)^{n-x} \\\\\n",
    "\\end{align}\n",
    "$$\n",
    "\n",
    "$X$ is said to be a binomial random variable, denoted as $X \\sim B(n, p)$ where $n$ and $p$ are parameters of the distribution. "
   ]
  },
  {
   "cell_type": "markdown",
   "metadata": {},
   "source": [
    "---\n",
    "\n",
    "### Example\n",
    "\n",
    "Each word in a $1000$ word document has a $0.04$ chance of being miss spelt, what is the probability that 5 words are miss spelt.\n",
    "\n",
    "Let $X$ denote the number of words miss spelt. Their are $1000$ trials with a $0.04$ chance of success thus:\n",
    "$$\n",
    "X \\sim B(1000, 0.04)\n",
    "$$\n",
    "Thus:\n",
    "$$\n",
    "P(X = 5) = \\binom{1000}{5} (0.04)^5 (1 - 0.04)^{1000-5} = 1.934 × 10^{-12}\n",
    "$$\n",
    "\n",
    "---"
   ]
  },
  {
   "cell_type": "markdown",
   "metadata": {},
   "source": [
    "## Expectation and variance of a binomial random variable"
   ]
  },
  {
   "cell_type": "markdown",
   "metadata": {},
   "source": [
    "First lets compute the nth moment:\n",
    "\n",
    "$$\n",
    "\\begin{align}\n",
    "E(n^k) &= \\sum_{x = 0}^n x^k \\binom{n}{x} p^x (1-p)^{n-x} \\\\\n",
    "&= \\sum_{x = 1}^n x^k \\binom{n}{x} p^x (1-p)^{n-x} \\\\\n",
    "&= \\sum_{x = 1}^n x^k \\frac{n!}{x!(n-x)!} p^x (1-p)^{n-x} \\\\\n",
    "&= \\sum_{x = 1}^n x^{k-1} \\frac{n!}{(x-1)!(n-x-1)!} p^x (1-p)^{n-x} \\\\\n",
    "&= np \\sum_{x = 1}^n x^{k-1} \\frac{(n-1)!}{(x-1)!(n-x-1)!} p^{x-1} (1-p)^{n-x} \\\\\n",
    "&= np \\sum_{x = 1}^n x^{k-1} \\binom{n-1}{x-1} p^{x-1} (1-p)^{n-x} \\\\\n",
    "\\end{align}\n",
    "$$\n",
    "\n",
    "Let $y = x - 1$\n",
    "\n",
    "$$\n",
    "\\begin{align}\n",
    "E(n^k) &= np \\sum_{y=0}^{n-1} (y+1)^{k-1} \\binom{n-1}{y} p^{y} (1-p)^{n-y-1} \\\\\n",
    "\\end{align}\n",
    "$$\n",
    "\n",
    "Notice $\\sum_{y=0}^{n-1} (y+1)^{k-1} \\binom{n-1}{y} p^{y} (1-p)^{n-y-1}$ is the expectation of $(Y + 1)^{k-1}$ where $Y \\sim B(n-1, p)$. Thus the nth moment is:\n",
    "\n",
    "$$\n",
    "E(x^n) = np \\cdot E((Y+1)^{k-1})\n",
    "$$\n",
    "\n",
    "Thus the expectation of a binomial random variable is:\n",
    "\n",
    "$$\n",
    "E(x) = np \\cdot E((Y+1)^0) = np\n",
    "$$\n",
    "\n",
    "And the variance:\n",
    "\n",
    "$$\n",
    "\\begin{align}\n",
    "Var(X) &= E(X^2) - E(X)^2 \\\\\n",
    "       &= np \\cdot E(Y+1) - (np)^2 \\\\\n",
    "       &= np \\cdot [E(Y)+E(1)] - (np)^2 \\\\\n",
    "       &= np \\cdot [(n-1)p+1] - (np)^2 \\\\\n",
    "       &= n(n-1)p^2 + np - n^2 p^2 \\\\\n",
    "       &= n^2 p^2 - n p^2 + np - n^2 p^2 \\\\\n",
    "       &= np - n p^2 \\\\\n",
    "       &= np(1 - p)\n",
    "\\end{align}\n",
    "$$"
   ]
  },
  {
   "cell_type": "markdown",
   "metadata": {},
   "source": [
    "---\n",
    "\n",
    "### Example\n",
    "\n",
    "What is the expected number of errors in the document\n",
    "\n",
    "$$\n",
    "E(X) = np = 1000 \\times 0.04 = 40\n",
    "$$\n",
    "\n",
    "---"
   ]
  }
 ],
 "metadata": {
  "kernelspec": {
   "display_name": "Python 3",
   "language": "python",
   "name": "python3"
  },
  "language_info": {
   "codemirror_mode": {
    "name": "ipython",
    "version": 3
   },
   "file_extension": ".py",
   "mimetype": "text/x-python",
   "name": "python",
   "nbconvert_exporter": "python",
   "pygments_lexer": "ipython3",
   "version": "3.6.4"
  }
 },
 "nbformat": 4,
 "nbformat_minor": 2
}
