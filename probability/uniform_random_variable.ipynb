{
 "cells": [
  {
   "cell_type": "markdown",
   "metadata": {},
   "source": [
    "# Uniform Random Variable"
   ]
  },
  {
   "cell_type": "markdown",
   "metadata": {},
   "source": [
    "$X$ is a unform random variable on the interval $(\\alpha, \\beta)$ if the probability density function is given by:\n",
    "\n",
    "$$\n",
    "f(x) = \\begin{cases}\n",
    "\\dfrac{1}{\\beta - \\alpha} & \\text{if } \\alpha < x < \\beta \\\\\n",
    "0 & \\text{otherwise}\n",
    "\\end{cases}\n",
    "$$"
   ]
  },
  {
   "cell_type": "markdown",
   "metadata": {},
   "source": [
    "## Distibution function"
   ]
  },
  {
   "cell_type": "markdown",
   "metadata": {},
   "source": [
    "For $\\alpha < x < \\beta$\n",
    "\n",
    "$$\n",
    "\\begin{align}\n",
    "F(x) &= \\int_\\alpha^x \\dfrac{1}{\\beta - \\alpha} dx \\\\\n",
    "&= \\dfrac{1}{\\beta - \\alpha} \\int_\\alpha^x dx \\\\\n",
    "&= \\dfrac{x - \\alpha}{\\beta - \\alpha}\n",
    "\\end{align}\n",
    "$$\n",
    "\n",
    "Thus the probability distribution function is:\n",
    "\n",
    "$$\n",
    "F(x) = \\begin{cases}\n",
    "0 & x \\leq \\alpha \\\\\n",
    "\\dfrac{x-\\alpha}{\\beta-\\alpha} & \\alpha < x < \\beta \\\\\n",
    "1 & x \\geq \\beta\n",
    "\\end{cases}\n",
    "$$"
   ]
  },
  {
   "cell_type": "markdown",
   "metadata": {},
   "source": [
    "---\n",
    "\n",
    "### Example\n",
    "\n",
    "Buses arrive at a specified stop at 7:00, 7:15, 7:30, 7:45. A passenger arrives at the stop at a time uniformly distributed between 7:00 and 7:30. What is the probabilty they wait less than 5 minuets.\n",
    "\n",
    "Let $X$ denote the number of minuets past 7:00 the passenger arrived.\n",
    "\n",
    "$$\n",
    "f_X = \\begin{cases}\n",
    "\\dfrac{1}{30} & \\text{if } 0 \\leq x \\leq 30 \\\\\n",
    "0 & \\text{otherwise}\n",
    "\\end{cases}\n",
    "$$\n",
    "\n",
    "If the passanger waited for less than 5 minuets they must have arrived between 7:10 and 7:15 or between 7:25 and 7:30 thus:\n",
    "\n",
    "$$\n",
    "\\begin{align}\n",
    "P(\\text{wait less than 5 minuets}) &= P(10 \\leq X \\leq 15) + P(25 \\leq X \\leq 30) \\\\\n",
    "&= F_X(15) - F_X(10) + F_X(30) - F_X(25) \\\\\n",
    "&= \\dfrac{15 - 0}{30 - 0} - \\dfrac{10 - 0}{30 - 0} + \\dfrac{30 - 0}{30 - 0} - \\dfrac{25 - 0}{30 - 0} \\\\\n",
    "&= \\dfrac{15}{30} - \\dfrac{10}{30} + \\dfrac{30}{30} - \\dfrac{25}{30} \\\\\n",
    "&= \\dfrac{1}{3} \\\\\n",
    "\\end{align}\n",
    "$$\n",
    "\n",
    "---"
   ]
  }
 ],
 "metadata": {
  "kernelspec": {
   "display_name": "Python 3",
   "language": "python",
   "name": "python3"
  },
  "language_info": {
   "codemirror_mode": {
    "name": "ipython",
    "version": 3
   },
   "file_extension": ".py",
   "mimetype": "text/x-python",
   "name": "python",
   "nbconvert_exporter": "python",
   "pygments_lexer": "ipython3",
   "version": "3.6.4"
  }
 },
 "nbformat": 4,
 "nbformat_minor": 2
}
