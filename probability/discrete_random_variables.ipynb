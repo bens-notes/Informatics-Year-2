{
 "cells": [
  {
   "cell_type": "markdown",
   "metadata": {},
   "source": [
    "# Discrete Random Variables"
   ]
  },
  {
   "cell_type": "markdown",
   "metadata": {},
   "source": [
    "## Random variable"
   ]
  },
  {
   "cell_type": "markdown",
   "metadata": {},
   "source": [
    "Given a sample space $S$, a random variable $Y$ with values in some set $\\mathcal{R}$\n",
    "$$\n",
    "Y : S \\rightarrow \\mathcal{R}\n",
    "$$\n",
    "where $\\mathcal{R} = $ $\\mathbb{N}$ or $\\mathbb{R}$ or $\\mathbb{R}^d$"
   ]
  },
  {
   "cell_type": "markdown",
   "metadata": {},
   "source": [
    "---\n",
    "\n",
    "### Example\n",
    "\n",
    "A coin is tossed 3 times, let Y denote the number of heads.\n",
    "\n",
    "$$\n",
    "\\begin{align}\n",
    "P(Y = 0) &= P(\\{T, T, T\\}) &= \\dfrac{1}{8} \\\\\n",
    "P(Y = 1) &= P(\\{H, T, T\\}, \\{T, H, T\\}, \\{T, T, H\\}) &= \\dfrac{3}{8} \\\\\n",
    "P(Y = 2) &= P(\\{H, H, T\\}, \\{H, T, H\\}, \\{T, H, H\\}) &= \\dfrac{3}{8} \\\\\n",
    "P(Y = 3) &= P(\\{H, H, H\\}) &= \\dfrac{1}{8}\n",
    "\\end{align}\n",
    "$$\n",
    "\n",
    "---"
   ]
  },
  {
   "cell_type": "markdown",
   "metadata": {},
   "source": [
    "## Expectation"
   ]
  },
  {
   "cell_type": "markdown",
   "metadata": {},
   "source": [
    "For a random variable $X = \\{x_1, x_2, ..., x_n\\}$ the expected value of $X$ is a weighted average of the possible values that $X$ can take on. \n",
    "\n",
    "$$\n",
    "E(X) = \\sum_{i=1,2,...,n} x_i \\cdot P(X = x_i)\n",
    "$$"
   ]
  },
  {
   "cell_type": "markdown",
   "metadata": {},
   "source": [
    "---\n",
    "\n",
    "### Example\n",
    "\n",
    "What is the expected value of a roll of a dice?\n",
    "\n",
    "$$\n",
    "\\begin{align}\n",
    "E(X) &= 1 \\cdot P(X = 1) + ... + 6 \\cdot P(X = 6) \\\\\n",
    "     &= 1 \\cdot \\dfrac{1}{6} + 2 \\cdot \\dfrac{1}{6} + ... + 6 \\cdot \\dfrac{1}{6} = \\dfrac{7}{2}  \n",
    "\\end{align}\n",
    "$$\n",
    "\n",
    "---"
   ]
  },
  {
   "cell_type": "markdown",
   "metadata": {},
   "source": [
    "## Expectation of a function"
   ]
  },
  {
   "cell_type": "markdown",
   "metadata": {},
   "source": [
    "$$\n",
    "E(g(X)) = \\sum_{i=1,2,...,n} g(x_i) \\cdot P(X = x_i)\n",
    "$$"
   ]
  },
  {
   "cell_type": "markdown",
   "metadata": {},
   "source": [
    "### Proof\n",
    "\n",
    "$$\n",
    "\\begin{align}\n",
    "\\sum_{i=1,2,...,n} g(x_i) \\cdot P(X = i) &= \\sum_j \\sum_{i:g(x_i)=y_j} g(x_i) \\cdot P(X = i) \\\\\n",
    "&= \\sum_j \\sum_{i:g(x_i)=y_j} y_j \\cdot P(X = i) \\\\\n",
    "&= \\sum_j y_j \\sum_{i:g(x_i)=y_j} P(X = i) \\\\\n",
    "&= \\sum_j y_j P(g(x) = y_j) \\\\\n",
    "&= E(g(x))\n",
    "\\end{align}\n",
    "$$"
   ]
  },
  {
   "cell_type": "markdown",
   "metadata": {},
   "source": [
    "---\n",
    "\n",
    "### Example\n",
    "\n",
    "What is the $E(X^2)$ of a roll of the dice?\n",
    "\n",
    "$$\n",
    "\\begin{align}\n",
    "E(X^2) &= 1^2 \\cdot P(X = 1) + ... + 6^2 \\cdot P(X = 6) \\\\\n",
    "       &= 1^2 \\cdot \\dfrac{1}{6} + 2^2 \\cdot \\dfrac{1}{6} + ... + 6^2 \\cdot \\dfrac{1}{6} = \\dfrac{91}{6} \n",
    "\\end{align}\n",
    "$$\n",
    "\n",
    "---"
   ]
  },
  {
   "cell_type": "markdown",
   "metadata": {},
   "source": [
    "## Variance"
   ]
  },
  {
   "cell_type": "markdown",
   "metadata": {},
   "source": [
    "$$\n",
    "Var(X) = E \\left[(X - E(X))^2 \\right]\n",
    "$$\n",
    "\n",
    "Or alternativly\n",
    "\n",
    "$$\n",
    "Var(X) = E(X^2) - E(X)^2\n",
    "$$"
   ]
  },
  {
   "cell_type": "markdown",
   "metadata": {},
   "source": [
    "---\n",
    "\n",
    "### Example\n",
    "\n",
    "What is the variance of a roll of a dice?\n",
    "\n",
    "$$\n",
    "Var(X) = E(X^2) - E(X)^2 = \\dfrac{91}{6} - \\left(\\dfrac{7}{2}\\right)^2 = \\dfrac{35}{12}\n",
    "$$\n",
    "\n",
    "---"
   ]
  },
  {
   "cell_type": "markdown",
   "metadata": {},
   "source": [
    "## Linearity of expectation"
   ]
  },
  {
   "cell_type": "markdown",
   "metadata": {},
   "source": [
    "The linearity of expectation is the following property:\n",
    "\n",
    "$$\n",
    "E(aX + bY) = aE(X) + bE(Y)\n",
    "$$\n",
    "\n",
    "regardless of weather they are independent.\n",
    "\n",
    "$$\n",
    "\\begin{align}\n",
    "E(aX + bY) &= \\sum_x \\sum_y (ax + by) P(X=x, Y=y) \\\\\n",
    "&= \\sum_x \\sum_y ax P(X=x, Y=y) + \\sum_y \\sum_x by P(X=x, Y=y) \\\\\n",
    "&= a \\sum_x x \\sum_y P(X=x, Y=y) + b \\sum_y y \\sum_x P(X=x, Y=y) \\\\\n",
    "\\end{align}\n",
    "$$\n",
    "\n",
    "$\\sum_y P(X=x, Y=y)$ is just $P(X = x)$ and $\\sum_x P(X=x, Y=y)$ is just $P(Y = y)$ so\n",
    "\n",
    "$$\n",
    "\\begin{align}\n",
    "E(aX + bY) &= a \\sum_x x P(X=x) + b \\sum_y y P(Y=y) \\\\\n",
    "&= aE(X) + bE(Y)\n",
    "\\end{align}\n",
    "$$"
   ]
  },
  {
   "cell_type": "markdown",
   "metadata": {},
   "source": [
    "## Covariance"
   ]
  },
  {
   "cell_type": "markdown",
   "metadata": {},
   "source": [
    "Covariance describes how two random variables vary together.\n",
    "\n",
    "$$\n",
    "Cov(X,Y) = E[(X - E(X))(Y - E(Y))]\n",
    "$$\n",
    "\n",
    "Or alternativly\n",
    "\n",
    "$$\n",
    "Cov(X,Y) = E(XY) - E(X)E(Y)\n",
    "$$"
   ]
  },
  {
   "cell_type": "markdown",
   "metadata": {},
   "source": [
    "## Other usefull properties"
   ]
  },
  {
   "cell_type": "markdown",
   "metadata": {},
   "source": [
    "$Var(aX) = a^2 Var(X)$\n",
    "\n",
    "$$\n",
    "\\begin{align}\n",
    "Var(aX) &= E(a^2 X^2) - E(aX)^2 \\\\\n",
    "&= a^2E(X^2) - (aE(X))^2 \\\\\n",
    "&= a^2E(X^2) - a^2 E(X)^2 \\\\\n",
    "&= a^2 [E(X^2) - E(X)^2] \\\\\n",
    "&= a^2 Var(X)\n",
    "\\end{align}\n",
    "$$"
   ]
  },
  {
   "cell_type": "markdown",
   "metadata": {},
   "source": [
    "$Cov(aX,bY) = ab Cov(X,Y)$\n",
    "\n",
    "$$\n",
    "\\begin{align}\n",
    "Cov(aX, bY) &= E(abXY) - E(aX) E(bY) \\\\\n",
    "&= abE(XY) -ab E(X) E(Y) \\\\\n",
    "&= ab[E(XY) - E(X) E(Y)] \\\\\n",
    "&= ab Cov(X, Y) \\\\\n",
    "\\end{align}\n",
    "$$"
   ]
  },
  {
   "cell_type": "markdown",
   "metadata": {},
   "source": [
    "If $X$ and $Y$ are independent, $E(XY) = E(X)E(Y)$\n",
    "\n",
    "Let $Z = XY$\n",
    "$$\n",
    "\\begin{align}\n",
    "E(XY) &= E(Z) \\\\\n",
    "&= \\sum_k z_k P(XY = z_k) \\\\\n",
    "&= \\sum_k z_k \\sum_{i, j: x_i y_j = z_k} P(X = x_i, Y = y_j) \\\\\n",
    "&= \\sum_k z_k \\sum_{i, j: x_i y_j = z_k} P(X = x_i, Y = y_j) \\\\\n",
    "&= \\sum_{k: x_i y_j = z_k} z_k \\sum_{i, j} P(X = x_i, Y = y_j) \\\\\n",
    "&= \\sum_{i, j} x_i y_j \\sum_{i, j} P(X = x_i, Y = y_j) \\\\\n",
    "&= \\sum_{i, j} x_i y_j P(X = x_i, Y = y_j) \\\\\n",
    "&= \\sum_{i, j} x_i y_j P(X = x_i)P(Y = y_j) \\\\\n",
    "&= \\sum_{i} x_i P(X = x_i) \\sum_{j} y_j P(Y = y_j) \\\\\n",
    "&= E(X)E(Y)\n",
    "\\end{align}\n",
    "$$"
   ]
  },
  {
   "cell_type": "markdown",
   "metadata": {},
   "source": [
    "If $X$ and $Y$ are independent, $Cov(X, Y) = 0$ (note $Cov(X, Y) = 0 \\nRightarrow X, Y$ are independent).\n",
    "\n",
    "$$\n",
    "\\begin{align}\n",
    "Cov(X) &= E(XY) - E(X)E(Y)\n",
    "\\end{align}\n",
    "$$\n",
    "\n",
    "Since $X, Y$ are independent we know that $E(XY) = E(X)E(Y)$ thus:\n",
    "\n",
    "$$\n",
    "\\begin{align}\n",
    "Cov(X) &= E(X)E(Y) - E(X)E(Y) \\\\\n",
    "&= 0\n",
    "\\end{align}\n",
    "$$\n"
   ]
  },
  {
   "cell_type": "markdown",
   "metadata": {},
   "source": [
    "$Var(X+Y) = Var(X) + Var(Y) + 2 Cov(X, Y)$\n",
    "\n",
    "$$\n",
    "\\begin{align}\n",
    "Var(X+Y) &= E((X+Y)^2) - E(X+Y)^2 \\\\\n",
    "&= E(X^2 + 2XY + Y^2) - E(X+Y)^2 \\\\\n",
    "&= E(X^2) + 2 E(XY) + E(Y^2) - (E(X)+E(Y))^2 \\\\\n",
    "&= E(X^2) + 2 E(XY) + E(Y^2) - [E(X)^2 + 2 E(X)E(Y) + E(Y)^2] \\\\\n",
    "&= E(X^2) - E(X)^2 + E(Y^2) - E(Y)^2 + 2 E(XY) - 2 E(X)E(Y) \\\\\n",
    "&= Var(X) + Var(Y) + 2 Cov(X, Y) \\\\\n",
    "\\end{align}\n",
    "$$"
   ]
  }
 ],
 "metadata": {
  "kernelspec": {
   "display_name": "Python 3",
   "language": "python",
   "name": "python3"
  },
  "language_info": {
   "codemirror_mode": {
    "name": "ipython",
    "version": 3
   },
   "file_extension": ".py",
   "mimetype": "text/x-python",
   "name": "python",
   "nbconvert_exporter": "python",
   "pygments_lexer": "ipython3",
   "version": "3.6.4"
  }
 },
 "nbformat": 4,
 "nbformat_minor": 2
}
