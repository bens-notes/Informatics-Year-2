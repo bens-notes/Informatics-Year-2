{
 "cells": [
  {
   "cell_type": "markdown",
   "metadata": {},
   "source": [
    "# Discrete Random Variables"
   ]
  },
  {
   "cell_type": "markdown",
   "metadata": {},
   "source": [
    "## Random variable"
   ]
  },
  {
   "cell_type": "markdown",
   "metadata": {},
   "source": [
    "Given a sample space $S$, a random variable $Y$ with values in some set $\\mathcal{R}$\n",
    "$$\n",
    "Y : S \\rightarrow \\mathcal{R}\n",
    "$$\n",
    "where $\\mathcal{R} = $ $\\mathbb{N}$ or $\\mathbb{R}$ or $\\mathbb{R}^d$"
   ]
  },
  {
   "cell_type": "markdown",
   "metadata": {},
   "source": [
    "---\n",
    "\n",
    "### Example\n",
    "\n",
    "A coin is tossed 3 times, let Y denote the number of heads.\n",
    "\n",
    "$$\n",
    "\\begin{align}\n",
    "P(Y = 0) &= P(\\{T, T, T\\}) &= \\dfrac{1}{8} \\\\\n",
    "P(Y = 1) &= P(\\{H, T, T\\}, \\{T, H, T\\}, \\{T, T, H\\}) &= \\dfrac{3}{8} \\\\\n",
    "P(Y = 2) &= P(\\{H, H, T\\}, \\{H, T, H\\}, \\{T, H, H\\}) &= \\dfrac{3}{8} \\\\\n",
    "P(Y = 3) &= P(\\{H, H, H\\}) &= \\dfrac{1}{8}\n",
    "\\end{align}\n",
    "$$\n",
    "\n",
    "---"
   ]
  },
  {
   "cell_type": "markdown",
   "metadata": {},
   "source": [
    "## Expectation"
   ]
  },
  {
   "cell_type": "markdown",
   "metadata": {},
   "source": [
    "For a random variable $X = \\{x_1, x_2, ..., x_n\\}$ the expected value of $X$ is a weighted average of the possible values that $X$ can take on. \n",
    "\n",
    "$$\n",
    "E(X) = \\sum_{i=1,2,...,n} x_i \\cdot P(X = x_i)\n",
    "$$"
   ]
  },
  {
   "cell_type": "markdown",
   "metadata": {},
   "source": [
    "---\n",
    "\n",
    "### Example\n",
    "\n",
    "What is the expected value of a roll of a dice?\n",
    "\n",
    "$$\n",
    "\\begin{align}\n",
    "E(X) &= 1 \\cdot P(X = 1) + ... + 6 \\cdot P(X = 6) \\\\\n",
    "     &= 1 \\cdot \\dfrac{1}{6} + 2 \\cdot \\dfrac{1}{6} + ... + 6 \\cdot \\dfrac{1}{6} = \\dfrac{7}{2}  \n",
    "\\end{align}\n",
    "$$\n",
    "\n",
    "---"
   ]
  },
  {
   "cell_type": "markdown",
   "metadata": {},
   "source": [
    "## Expectation of a function"
   ]
  },
  {
   "cell_type": "markdown",
   "metadata": {},
   "source": [
    "$$\n",
    "E(g(X)) = \\sum_{i=1,2,...,n} g(x_i) \\cdot P(X = x_i)\n",
    "$$"
   ]
  },
  {
   "cell_type": "markdown",
   "metadata": {},
   "source": [
    "### Proof\n",
    "\n",
    "$$\n",
    "\\begin{align}\n",
    "\\sum_{i=1,2,...,n} g(x_i) \\cdot P(X = i) &= \\sum_j \\sum_{i:g(x_i)=y_j} g(x_i) \\cdot P(X = i) \\\\\n",
    "&= \\sum_j \\sum_{i:g(x_i)=y_j} y_j \\cdot P(X = i) \\\\\n",
    "&= \\sum_j y_j \\sum_{i:g(x_i)=y_j} P(X = i) \\\\\n",
    "&= \\sum_j y_j P(g(x) = y_j) \\\\\n",
    "&= E(g(x))\n",
    "\\end{align}\n",
    "$$"
   ]
  },
  {
   "cell_type": "markdown",
   "metadata": {},
   "source": [
    "---\n",
    "\n",
    "### Example\n",
    "\n",
    "What is the $E(X^2)$ of a roll of the dice?\n",
    "\n",
    "$$\n",
    "\\begin{align}\n",
    "E(X^2) &= 1^2 \\cdot P(X = 1) + ... + 6^2 \\cdot P(X = 6) \\\\\n",
    "       &= 1^2 \\cdot \\dfrac{1}{6} + 2^2 \\cdot \\dfrac{1}{6} + ... + 6^2 \\cdot \\dfrac{1}{6} = \\dfrac{91}{6} \n",
    "\\end{align}\n",
    "$$\n",
    "\n",
    "---"
   ]
  },
  {
   "cell_type": "markdown",
   "metadata": {},
   "source": [
    "## Variance"
   ]
  },
  {
   "cell_type": "markdown",
   "metadata": {},
   "source": [
    "$$\n",
    "Var(X) = E \\left[(X - E(X))^2 \\right]\n",
    "$$\n",
    "\n",
    "Or alternativly\n",
    "\n",
    "$$\n",
    "Var(X) = E(X^2) - E(X)^2\n",
    "$$"
   ]
  },
  {
   "cell_type": "markdown",
   "metadata": {},
   "source": [
    "---\n",
    "\n",
    "### Example\n",
    "\n",
    "What is the variance of a roll of a dice?\n",
    "\n",
    "$$\n",
    "Var(X) = E(X^2) - E(X)^2 = \\dfrac{91}{6} - \\left(\\dfrac{7}{2}\\right)^2 = \\dfrac{35}{12}\n",
    "$$\n",
    "\n",
    "---"
   ]
  }
 ],
 "metadata": {
  "kernelspec": {
   "display_name": "Python 3",
   "language": "python",
   "name": "python3"
  },
  "language_info": {
   "codemirror_mode": {
    "name": "ipython",
    "version": 3
   },
   "file_extension": ".py",
   "mimetype": "text/x-python",
   "name": "python",
   "nbconvert_exporter": "python",
   "pygments_lexer": "ipython3",
   "version": "3.6.4"
  }
 },
 "nbformat": 4,
 "nbformat_minor": 2
}
