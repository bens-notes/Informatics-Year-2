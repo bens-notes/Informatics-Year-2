{
 "cells": [
  {
   "cell_type": "markdown",
   "metadata": {},
   "source": [
    "# Hypergeometric Random Variable"
   ]
  },
  {
   "cell_type": "markdown",
   "metadata": {},
   "source": [
    "Consider an urn with $N$ balls, of which $m$ are white and $N-m$ are black. If $X$ denotes the number of white balls selected then:\n",
    "\n",
    "$$\n",
    "P(X = i) = \\frac{\\displaystyle\\binom{m}{i} \\binom{N-m}{n-i}}{\\displaystyle\\binom{N}{n}} \\quad i = 0, 1, ..., n\n",
    "$$\n",
    "\n",
    "Their are:\n",
    "\n",
    "- $\\displaystyle\\binom{m}{i}$ ways of selecting $i$ white balls from $m$ white balls\n",
    "- $\\displaystyle\\binom{N-m}{n-i}$ ways of selcting the other $n-i$ balls\n",
    "- $\\displaystyle\\binom{N}{n}$ ways of selecting $n$ balls from a collection of size $N$\n",
    "\n",
    "Thus the probabilty mass function follows."
   ]
  },
  {
   "cell_type": "markdown",
   "metadata": {},
   "source": [
    "---\n",
    "\n",
    "### Example\n",
    "\n",
    "A lot of size 10 is rejected if a sample of 3 are all nondefective. 30% of batches have 4 defective components and 70% of batches have only 1 defective component, what proportion of lots are rejected?\n",
    "\n",
    "$$\n",
    "\\begin{align}\n",
    "P(A) &= P(A \\mid \\text{lot has 4 defectives}) \\times 0.3 + P(A \\mid \\text{lot has 1 defective}) \\times 0.7 \\\\\n",
    "&= \\dfrac{\\displaystyle\\binom{4}{0} \\binom{6}{3}}{\\displaystyle\\binom{10}{3}} \\cdot 0.3 + \\dfrac{\\displaystyle\\binom{1}{0} \\binom{9}{3}}{\\displaystyle\\binom{10}{3}} \\cdot 0.7 \\\\\n",
    "&= \\frac{54}{100}\n",
    "\\end{align}\n",
    "$$\n",
    "\n",
    "---"
   ]
  },
  {
   "cell_type": "markdown",
   "metadata": {},
   "source": [
    "## Nth moment"
   ]
  },
  {
   "cell_type": "markdown",
   "metadata": {},
   "source": [
    "$$\n",
    "\\begin{align}\n",
    "E(X^k) &= \\sum_{i=0}^n i^k P(X=i) \\\\\n",
    "&= \\sum_{i=0}^n i^k \\left[ \\frac{\\displaystyle\\binom{m}{i} \\binom{N-m}{n-i}}{\\displaystyle\\binom{N}{n}} \\right] \\\\\n",
    "\\end{align}\n",
    "$$\n",
    "\n",
    "Using the identitys $i \\displaystyle\\binom{m}{i} = m \\binom{m-1}{i-1}$ and $n \\displaystyle\\binom{N}{n} = N \\binom{N-1}{n-1}$\n",
    "\n",
    "$$\n",
    "\\begin{align}\n",
    "E(X^k) &= \\frac{nm}{N} \\sum_{i=1}^n i^{k-1} \\left[ \\frac{\\displaystyle\\binom{m-1}{i-1} \\binom{N-m}{n-i}}{\\displaystyle\\binom{N-1}{n-1}} \\right] \\\\\n",
    "\\end{align}\n",
    "$$\n",
    "\n",
    "Let $j = i - 1$\n",
    "\n",
    "$$\n",
    "\\begin{align}\n",
    "E(X^k) &= \\frac{nm}{N} \\sum_{j=0}^{n-1} (j+1)^{k-1} \\left[ \\frac{\\displaystyle\\binom{m-1}{j} \\binom{N-m}{n-1-j}}{\\displaystyle\\binom{N-1}{n-1}} \\right] \\\\\n",
    "&= \\frac{nm}{N} E((Y+1)^{k-1})\n",
    "\\end{align}\n",
    "$$\n",
    "\n",
    "where $Y$ is a hypergeometric random variable with parameters $n-1$, $N-1$ and $m-1$."
   ]
  },
  {
   "cell_type": "markdown",
   "metadata": {},
   "source": [
    "## Expectation"
   ]
  },
  {
   "cell_type": "markdown",
   "metadata": {},
   "source": [
    "$$\n",
    "\\begin{align}\n",
    "E(X) &= \\frac{nm}{N} E((Y+1)^0) = \\frac{nm}{N}\n",
    "\\end{align}\n",
    "$$"
   ]
  },
  {
   "cell_type": "markdown",
   "metadata": {},
   "source": [
    "## Variance"
   ]
  },
  {
   "cell_type": "markdown",
   "metadata": {},
   "source": [
    "$$\n",
    "\\begin{align}\n",
    "Var(X) &= E(X^2) - E(X)^2 \\\\\n",
    "&= \\frac{nm}{N} E((Y+1)^1) - \\left(\\frac{nm}{N}\\right)^2 \\\\\n",
    "&= \\frac{nm}{N} \\left(\\frac{(n-1)(m-1)}{(N-1)} + 1\\right) - \\left(\\frac{nm}{N}\\right)^2 \\\\\n",
    "&= \\frac{nm}{N} \\left(\\frac{(n-1)(m-1)}{(N-1)} + 1 - \\frac{nm}{N}\\right)\\\\\n",
    "\\end{align}\n",
    "$$\n",
    "\n",
    "Letting $p = \\dfrac{m}{N}$ and using the identity\n",
    "\n",
    "$$\n",
    "\\frac{m-1}{N-1} = \\frac{Np-1}{N-1} = p - \\frac{1-p}{N-1}\n",
    "$$\n",
    "\n",
    "We get the following:\n",
    "\n",
    "$$\n",
    "\\begin{align}\n",
    "Var(X) &= np \\left[ (n-1)p - (n-1)\\frac{1-p}{N-1} + 1 - np \\right] \\\\\n",
    "&= np(1-p)\\left( 1 - \\frac{n-1}{N-1} \\right)\n",
    "\\end{align}\n",
    "$$\n",
    "\n",
    "Notice that $E(X) = np$ and is the same as selecting balls with replacement (with a binomial random variable), and that when $N$ is large $Var(X) \\approx np(1-p)$ and is approximatly the same as selecting balls with replacement."
   ]
  }
 ],
 "metadata": {
  "kernelspec": {
   "display_name": "Python 3",
   "language": "python",
   "name": "python3"
  },
  "language_info": {
   "codemirror_mode": {
    "name": "ipython",
    "version": 3
   },
   "file_extension": ".py",
   "mimetype": "text/x-python",
   "name": "python",
   "nbconvert_exporter": "python",
   "pygments_lexer": "ipython3",
   "version": "3.6.4"
  }
 },
 "nbformat": 4,
 "nbformat_minor": 2
}
