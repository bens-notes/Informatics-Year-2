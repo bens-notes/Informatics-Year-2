{
 "cells": [
  {
   "cell_type": "markdown",
   "metadata": {},
   "source": [
    "# Momoment Generating Functions"
   ]
  },
  {
   "cell_type": "markdown",
   "metadata": {},
   "source": [
    "For a random variable $X$, the moment generating function is\n",
    "\n",
    "$$\n",
    "M_X :  t \\rightarrow E(e^{tX}), t \\in \\mathbb{R}\n",
    "$$\n",
    "\n",
    "Using the fact that $\\displaystyle e^z = \\sum_{n=0}^\\infty \\frac{z^n}{n!}$ we get\n",
    "\n",
    "$$\n",
    "M_X(t) = E\\left( \\sum_{n=0}^\\infty \\frac{t^n X^n}{n!} \\right) = \\sum_{n=0}^\\infty \\frac{E(X^n)}{n!} t^n\n",
    "$$\n",
    "\n",
    "If we set $t=0$\n",
    "\n",
    "$$\n",
    "E(X^n) = E\\left( \\frac{d^n e^{tX}}{dt^n} \\right) = E\\left( \\frac{d^n M_X(t)}{dt^n} \\right) = M_X^{(n)}(0)\n",
    "$$"
   ]
  },
  {
   "cell_type": "markdown",
   "metadata": {},
   "source": [
    "For $X_1, ..., X_n$ independent random variables then\n",
    "\n",
    "$$\n",
    "M_{X_1 + ... + X_n}(t) = M_{X_1}(t) ... M_{X_n}(t)\n",
    "$$\n",
    "\n",
    "Proof\n",
    "\n",
    "$$\n",
    "\\begin{align}\n",
    "M_{X_1 + ... + X_n}(t) &= E(e^{t(X_1 + ... + X_n)} \\\\\n",
    "&= E(e^{t X_1} ... e^{tX_n}) \\\\\n",
    "&= E(e^{tX_1}) ... E(e^{tX_n})\\\\\n",
    "&= M_{X_1}(t) ... M_{X_n}(t)\n",
    "\\end{align}\n",
    "$$"
   ]
  },
  {
   "cell_type": "markdown",
   "metadata": {},
   "source": [
    "---\n",
    "\n",
    "### Example\n",
    "\n",
    "Using moment generating functions, find $E(X)$ where $X \\sim B(n, p)$.\n",
    "\n",
    "Recall that $(a + b)^n = \\displaystyle\\sum_{k=0}^n \\binom{n}{k} a^k b^{n-k}$\n",
    "\n",
    "$$\n",
    "\\begin{align}\n",
    "M_X(t) &= E(e^{tX}) \\\\\n",
    "&= \\sum_{k=0}^n e^{tk} P(X=k) \\\\\n",
    "&= \\sum_{k=0}^n \\binom{n}{k} (e^tp)^k (1-p)^{n-k} \\\\\n",
    "&= (e^tp + 1 - p)^n\n",
    "\\end{align}\n",
    "$$\n",
    "\n",
    "$$\n",
    "\\begin{align}\n",
    "E(X) &= M_X'(0) \\\\\n",
    "&= \\frac{d}{dx} (e^tp + 1 - p)^n \\\\\n",
    "&= n(e^tp + 1 - p)^{n-1} \\cdot pe^t \\Big|_{t=0} \\\\\n",
    "&= np\n",
    "\\end{align}\n",
    "$$\n",
    "\n",
    "---"
   ]
  },
  {
   "cell_type": "markdown",
   "metadata": {},
   "source": [
    "---\n",
    "\n",
    "### Example\n",
    "\n",
    "Find the moment generating function for $X$ where $X \\sim \\mathcal{N}(\\mu, \\sigma^2)$\n",
    "\n",
    "$$\n",
    "\\begin{align}\n",
    "M_X(t) &= E(e^{tX}) \\\\\n",
    "&= \\int_{-\\infty}^\\infty e^{tX} \\cdot \\frac{e^{-\\frac{(x-\\mu)^2}{2 \\sigma^2}}}{2\\pi\\sigma} \\\\\n",
    "&= \\int_{-\\infty}^\\infty e^{tX} \\cdot \\frac{e^{-\\frac{x^2-2\\mu x + \\mu^2}{2 \\sigma^2}}}{2\\pi\\sigma} \\\\\n",
    "&= \\int_{-\\infty}^\\infty \\frac{1}{2\\pi\\sigma} \\cdot e^{tX} \\cdot {e^{-\\frac{x^2-2\\mu x + \\mu^2}{2 \\sigma^2}}} \\\\\n",
    "&= \\int_{-\\infty}^\\infty \\frac{1}{2\\pi\\sigma} \\cdot {e^{-\\frac{x^2-2\\mu x + \\mu^2 - 2\\sigma^2tx}{2 \\sigma^2}}} \\\\\n",
    "&= \\int_{-\\infty}^\\infty \\frac{1}{2\\pi\\sigma} \\cdot {e^{-\\frac{x^2-2(\\mu + \\sigma^2t) x + (\\mu + \\sigma^2 t)^2}{2 \\sigma^2}}} \\cdot e^{\\frac{2 \\mu \\sigma^2 t + \\sigma^4 t^2}{2 \\sigma^2}} \\\\\n",
    "&= e^{\\mu + \\frac{1}{2} \\sigma^2 t^2} \\int_{-\\infty}^\\infty \\frac{1}{2\\pi\\sigma} \\cdot {e^{\\frac{x^2-2(\\mu + \\sigma^2t) x + (\\mu + \\sigma^2 t)^2}{2 \\sigma^2}}} \\\\\n",
    "\\end{align}\n",
    "$$\n",
    "\n",
    "Defining $\\tilde{\\mu} = \\mu + \\sigma^2 t$\n",
    "\n",
    "$$\n",
    "\\begin{align}\n",
    "M_X(t)\n",
    "&= e^{\\mu + \\frac{1}{2} \\sigma^2 t^2} \\int_{-\\infty}^\\infty \\frac{1}{2\\pi\\sigma} \\cdot e^{\\frac{(x-\\tilde{\\mu})^2}{2\\sigma^2}} \\\\\n",
    "&= e^{\\mu + \\frac{1}{2} \\sigma^2 t^2} \\\\\n",
    "\\end{align}\n",
    "$$\n",
    "\n",
    "---"
   ]
  },
  {
   "cell_type": "markdown",
   "metadata": {},
   "source": [
    "## Centred moments\n",
    "\n",
    "1. Expectation - $E(X)$\n",
    "\n",
    "    Can be thought of as an averge over infinitly many samples\n",
    "2. Variance - $E(X - E(X))^2$\n",
    "\n",
    "    The average discrepancy between the values of $X$ and its expectation.\n",
    "3. Skewness = $E(X - E(X))^3$\n",
    "\n",
    "    The lopsidedness of the distribution, symetric distributions will be zero, distributions skewed left will be negaitive, distributions skewed right will be positive.\n",
    "4. Kurtosis - $E(X - E(X))^4$\n",
    "\n",
    "    The heaviness of the tail, compared to a normal distribution of the same variance."
   ]
  }
 ],
 "metadata": {
  "kernelspec": {
   "display_name": "Python 3",
   "language": "python",
   "name": "python3"
  },
  "language_info": {
   "codemirror_mode": {
    "name": "ipython",
    "version": 3
   },
   "file_extension": ".py",
   "mimetype": "text/x-python",
   "name": "python",
   "nbconvert_exporter": "python",
   "pygments_lexer": "ipython3",
   "version": "3.6.4"
  }
 },
 "nbformat": 4,
 "nbformat_minor": 2
}
