{
 "cells": [
  {
   "cell_type": "markdown",
   "metadata": {},
   "source": [
    "## Central limit theorem"
   ]
  },
  {
   "cell_type": "markdown",
   "metadata": {},
   "source": [
    "Let $X_1, X_2, ..., X_n$ be a sequence of independent random variables with sample mean\n",
    "\n",
    "$$\n",
    "S_n = \\frac{X_1 + X_2 + ... + X_n}{n}\n",
    "$$\n",
    "\n",
    "where $\\mu = E(S_n)$ and $\\dfrac{\\sigma^2}{n} = Var(S_n)$, then\n",
    "\n",
    "$$\n",
    "P\\left( \\frac{S_n - \\mu}{\\sqrt{Var(S_n - \\mu)}} \\right) \\rightarrow^d Z \\sim \\mathcal{N}(0, 1) \\quad \\text{ as } n \\rightarrow \\infty\n",
    "$$\n",
    "\n",
    "$\\rightarrow^d$ denotes \"convergence\". This is a generalization of the DeMoive Laplass theorem."
   ]
  },
  {
   "cell_type": "markdown",
   "metadata": {},
   "source": [
    "---\n",
    "\n",
    "### Example\n",
    "\n",
    "Mean time to mark each script is 20 minuets and variance 16 minuets, what is the approximate probability to mark atleast 25 exam scripts in 450 minuets.\n",
    "\n",
    "$$\n",
    "\\begin{align}\n",
    "P(X \\leq 450) &= P\\left(\\frac{X-(20 \\cdot 25)}{\\sqrt{25 \\cdot 16}} \\leq \\frac{450-(20 \\cdot 25)}{\\sqrt{25 \\cdot 16}}\\right) \\\\\n",
    "&\\approx \\phi(-2.5) \\\\\n",
    "&\\approx 0.0175\n",
    "\\end{align}\n",
    "$$\n",
    "\n",
    "---"
   ]
  },
  {
   "cell_type": "markdown",
   "metadata": {},
   "source": [
    "---\n",
    "\n",
    "### Example\n",
    "\n",
    "For a normal random variable $Z \\sim \\mathcal{N}(0, 1)$, $M_Z(t) = e^{\\frac{t^2}{2}}$ we know that from Chernoffs bound\n",
    "\n",
    "$$\n",
    "P(Z \\geq a) \\leq e^{-ta} e^{\\frac{t^2}{2}} = e^{-ta + \\frac{1}{2}t^2}\n",
    "$$\n",
    "\n",
    "What is the sharpest bound be can obtain?\n",
    "\n",
    "The best bound will be when $e^{-ta + \\frac{1}{2}t^2}$ is minimized \n",
    "\n",
    "$$\n",
    "\\frac{d}{dt}(e^{-ta + \\frac{1}{2}t^2}) = e^{t - a}\n",
    "$$\n",
    "\n",
    "$e^{t-a}$ is minimized when $t = a$, hence the sharpest bound is\n",
    "\n",
    "$$\n",
    "e^{-ta + \\frac{1}{2}t^2} = e^{-\\frac{1}{2}a^2}\n",
    "$$\n",
    "\n",
    "---"
   ]
  },
  {
   "cell_type": "markdown",
   "metadata": {},
   "source": [
    "---\n",
    "\n",
    "### Example\n",
    "\n",
    "A gambler wins $+1$ or $-1$ on each play with equal probability\n",
    "\n",
    "- Each play is independent\n",
    "- $S_n = X_1 + X_2 + ... + X_n = $ total winnings  \n",
    "\n",
    "What is the probability of winning more than $a > 0$?\n",
    "\n",
    "Since $S_n = X_1 + X_2 + ... + X_n$\n",
    "\n",
    "$$\n",
    "E(e^{tX_1}) = \\frac{1}{2}(e^t + e^{-t}) \\implies M_{S_n}(t) = E(e^{tS_n}) = \\left(\\frac{e^t + e^{-t}}{2}\\right)^n\n",
    "$$\n",
    "\n",
    "$$\n",
    "\\begin{align}\n",
    "P(S_n \\geq a) &\\leq e^{-ta} \\left(\\frac{e^t + e^{-t}}{2}\\right)^n \\\\\n",
    "&\\leq e^{-\\frac{a^2}{2n}}\n",
    "\\end{align}\n",
    "$$\n",
    "\n",
    "---"
   ]
  }
 ],
 "metadata": {
  "kernelspec": {
   "display_name": "Python 3",
   "language": "python",
   "name": "python3"
  },
  "language_info": {
   "codemirror_mode": {
    "name": "ipython",
    "version": 3
   },
   "file_extension": ".py",
   "mimetype": "text/x-python",
   "name": "python",
   "nbconvert_exporter": "python",
   "pygments_lexer": "ipython3",
   "version": "3.6.4"
  }
 },
 "nbformat": 4,
 "nbformat_minor": 2
}
