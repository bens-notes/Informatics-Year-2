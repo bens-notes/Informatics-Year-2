{
 "cells": [
  {
   "cell_type": "markdown",
   "metadata": {},
   "source": [
    "# Possion Random Variable"
   ]
  },
  {
   "cell_type": "markdown",
   "metadata": {},
   "source": [
    "A random variable $X$ with parameter $\\lambda$ is said to be a _Possion_ random variable if its probabilty mass function is:\n",
    "\n",
    "$$\n",
    "P(X = x) = \\frac{e^{- \\lambda} \\lambda^x}{x!} \\quad x = 0, 1, 3, 4, ...\n",
    "$$\n",
    "\n",
    "Denoted as $X \\sim Po(\\lambda)$"
   ]
  },
  {
   "cell_type": "markdown",
   "metadata": {},
   "source": [
    "## Expectation"
   ]
  },
  {
   "cell_type": "markdown",
   "metadata": {},
   "source": [
    "$$\n",
    "\\begin{align}\n",
    "E(X) &= \\sum_{x=0}^\\infty x \\frac{e^{-\\lambda} \\lambda^x}{x!} \\\\\n",
    "&= e^{-\\lambda} \\sum_{x=0}^\\infty x \\frac{\\lambda^x}{x!} \\\\\n",
    "&= e^{-\\lambda} \\sum_{x=1}^\\infty x \\frac{\\lambda^x}{x!} \\\\\n",
    "&= \\lambda e^{-\\lambda} \\sum_{x=1}^\\infty \\frac{\\lambda^{x-1}}{(x-1)!} \\\\\n",
    "&= \\lambda e^{-\\lambda} \\sum_{x=0}^\\infty \\frac{\\lambda^{x}}{x!}\n",
    "\\end{align}\n",
    "$$\n"
   ]
  },
  {
   "cell_type": "markdown",
   "metadata": {},
   "source": [
    "From calculus, we know $\\sum_{j=0}^\\infty \\frac{\\lambda^j}{j!} = e^\\lambda$, thus:"
   ]
  },
  {
   "cell_type": "markdown",
   "metadata": {},
   "source": [
    "$$\n",
    "E(X) = \\lambda e^{-\\lambda} e^{\\lambda} = \\lambda\n",
    "$$"
   ]
  },
  {
   "cell_type": "markdown",
   "metadata": {},
   "source": [
    "## Second moment"
   ]
  },
  {
   "cell_type": "markdown",
   "metadata": {},
   "source": [
    "$$\n",
    "\\begin{align}\n",
    "E(X^2) &= \\sum_{x=0}^\\infty x^2 \\frac{e^{-\\lambda} \\lambda^x}{x!} \\\\\n",
    "&= \\sum_{x=1}^\\infty x^2 \\frac{e^{-\\lambda} \\lambda^x}{x!} \\\\\n",
    "&= \\lambda e^{-\\lambda} \\sum_{x=1}^\\infty x \\frac{\\lambda^{x-1}}{(x-1)!} \\\\\n",
    "&= \\lambda e^{-\\lambda} \\sum_{x=1}^\\infty \\frac{d}{d\\lambda} \\left[ \\frac{\\lambda^{x}}{(x-1)!} \\right] \\\\\n",
    "&= \\lambda e^{-\\lambda} \\frac{d}{d\\lambda} \\left[ \\sum_{x=1}^\\infty \\frac{\\lambda^{x}}{(x-1)!} \\right] \\\\\n",
    "&= \\lambda e^{-\\lambda} \\frac{d}{d\\lambda} \\left[ \\lambda \\sum_{x=1}^\\infty \\frac{\\lambda^{x-1}}{(x-1)!} \\right] \\\\\n",
    "&= \\lambda e^{-\\lambda} \\frac{d}{d\\lambda} \\left[ \\lambda \\sum_{x=0}^\\infty \\frac{\\lambda^{x}}{x!} \\right] \\\\\n",
    "&= \\lambda e^{-\\lambda} \\frac{d}{d\\lambda} \\left[ \\lambda e^{\\lambda} \\right] \\\\\n",
    "&= \\lambda e^{-\\lambda} (\\lambda e^\\lambda + e^\\lambda) \\\\\n",
    "&= \\lambda^2 + \\lambda \\\\\n",
    "\\end{align}\n",
    "$$"
   ]
  },
  {
   "cell_type": "markdown",
   "metadata": {},
   "source": [
    "## Variation"
   ]
  },
  {
   "cell_type": "markdown",
   "metadata": {},
   "source": [
    "$$\n",
    "\\begin{align}\n",
    "Var(X) &= E(X^2) - E(X)^2 \\\\\n",
    "       &= (\\lambda^2 + \\lambda) - \\lambda \\\\\n",
    "       &= \\lambda^2\n",
    "\\end{align}\n",
    "$$"
   ]
  },
  {
   "cell_type": "markdown",
   "metadata": {},
   "source": [
    "## Possion approximation of the binomial"
   ]
  },
  {
   "cell_type": "markdown",
   "metadata": {},
   "source": [
    "If $n$ is very large and $p$ is very small, then the possion distribution provides a good approximation where $\\lambda = np$.\n",
    "\n",
    "$$\n",
    "P(X = k) = \\binom{n}{k} p^k (1-p)^{n-k}\n",
    "$$\n",
    "\n",
    "Subbing in $np = \\lambda$\n",
    "\n",
    "$$\n",
    "\\begin{align}\n",
    "P(X = k) &= \\frac{(np)^k}{k!} \\frac{n!}{(n-k)!n^k} \\left(1 - \\frac{\\lambda}{n}\\right)^n \\left(1 - \\frac{\\lambda}{n}\\right)^{-n} \\quad k = 0, 1, 2, ..., n \\\\\n",
    "         &\\approx \\frac{\\lambda^k}{k!} \\cdot 1 \\cdot e^{-\\lambda} \\cdot 1 \\\\\n",
    "         &= \\frac{\\lambda^k}{k!} e^{-\\lambda}\n",
    "\\end{align}\n",
    "$$"
   ]
  },
  {
   "cell_type": "markdown",
   "metadata": {},
   "source": [
    "---\n",
    "\n",
    "### Example\n",
    "\n",
    "Theirs a 10% chance an item is defective in a batch of 10. What is the probability that at most one item is defective?\n",
    "\n",
    "Using binomial:\n",
    "\n",
    "$$\n",
    "\\begin{align}\n",
    "P(X \\leq 1) &= \\binom{10}{0} (0.1)^0 (0.9)^{10} + \\binom{10}{1} (0.1)^1 (0.9)^{9} \\\\\n",
    "            &\\approx 0.7361\n",
    "\\end{align}\n",
    "$$\n",
    "\n",
    "Using poisson:\n",
    "\n",
    "$$\n",
    "\\begin{align}\n",
    "P(X \\leq 1) &\\approx \\frac{1^0 \\times e^{-1}}{0!} + \\frac{1^1 \\times e^{-1}}{1!} \\\\\n",
    "            &= 2e^{-1} \\\\\n",
    "            &\\approx 0.7358\n",
    "\\end{align}\n",
    "$$\n",
    "\n",
    "---"
   ]
  }
 ],
 "metadata": {
  "kernelspec": {
   "display_name": "Python 3",
   "language": "python",
   "name": "python3"
  },
  "language_info": {
   "codemirror_mode": {
    "name": "ipython",
    "version": 3
   },
   "file_extension": ".py",
   "mimetype": "text/x-python",
   "name": "python",
   "nbconvert_exporter": "python",
   "pygments_lexer": "ipython3",
   "version": "3.6.4"
  }
 },
 "nbformat": 4,
 "nbformat_minor": 2
}
