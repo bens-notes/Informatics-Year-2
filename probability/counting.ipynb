{
 "cells": [
  {
   "cell_type": "markdown",
   "metadata": {},
   "source": [
    "# Counting"
   ]
  },
  {
   "cell_type": "markdown",
   "metadata": {},
   "source": [
    "## Basic Counting Principle"
   ]
  },
  {
   "cell_type": "markdown",
   "metadata": {},
   "source": [
    "If $r$ experiments are performed. The first experiment has $n_1$ outcomes, the second $n_2$ outcomes, and so on. In total their are $n_1 \\cdot n_2 \\cdots n_r$ outcomes in $r$ experiments."
   ]
  },
  {
   "cell_type": "markdown",
   "metadata": {},
   "source": [
    "---\n",
    "\n",
    "### Example\n",
    "\n",
    "How many license plates are possible if the first 3 places are letters and the final 4 are numbers and no letters or numbers are repeated\n",
    "\n",
    "$$\n",
    "26 \\cdot 25 \\cdot 24 \\cdot 10 \\cdot 9 \\cdot 8 \\cdot 7 = 78'624'000\n",
    "$$\n",
    "\n",
    "---"
   ]
  },
  {
   "cell_type": "markdown",
   "metadata": {},
   "source": [
    "## Permutations"
   ]
  },
  {
   "cell_type": "markdown",
   "metadata": {},
   "source": [
    "A permutation is an ordered arrangement of some objects. Given $n$ objects, by the counting princible their are $n$ ways to choose the first, $n-1$ ways to choose the second thus their are $n(n-1)(n-2) \\cdots 3 \\cdot 2 \\cdot 1 = n!$ permutations."
   ]
  },
  {
   "cell_type": "markdown",
   "metadata": {},
   "source": [
    "---\n",
    "\n",
    "### Example\n",
    "\n",
    "How many arrangements are their of 4 maths books, 3 chemistry books, 2 history books and 1 language book if all the books with the same subject are placed together\n",
    "\n",
    "- There are $4!$ orderings of math books.\n",
    "- There are $3!$ orderings of chemistry books.\n",
    "- There are $2!$ orderings of history books.\n",
    "- There are $1!$ orderings of language books.\n",
    "- Their are 4 subjects, thus their are $4!$ orderings of subjects.\n",
    "- Thus, by the counting principle, their are $4! \\cdot 4! \\cdot 3! \\cdot 2! \\cdot 1! = 6912$ orderings.\n",
    "\n",
    "---"
   ]
  },
  {
   "cell_type": "markdown",
   "metadata": {},
   "source": [
    "## Permutations With Repetition"
   ]
  },
  {
   "cell_type": "markdown",
   "metadata": {},
   "source": [
    "For $n$ objects where of which $n_1$ are alike, $n_2$ are alike, ..., $n_r$ are alike their are:\n",
    "\n",
    "$$\n",
    "\\frac{n!}{n_1! \\; n_2! \\; ... \\; n_r!}\n",
    "$$\n",
    "\n",
    "permutations. We start with $n!$ permutations, then remove all the permutations of objects that are alike."
   ]
  },
  {
   "cell_type": "markdown",
   "metadata": {},
   "source": [
    "---\n",
    "\n",
    "### Example\n",
    "How many signals of 9 flags can be made from 4 white flags, 3 red flags, and 2 blue flags?\n",
    "\n",
    "$$\n",
    "\\frac{9!}{4! \\; 3! \\; 2!} = 1260\n",
    "$$\n",
    "\n",
    "---"
   ]
  },
  {
   "cell_type": "markdown",
   "metadata": {},
   "source": [
    "## Combination"
   ]
  },
  {
   "cell_type": "markdown",
   "metadata": {},
   "source": [
    "A combination is the number of different unordered groups of $r$ elements that can be made from $n$ objects. Their are $n(n-1)\\cdots(n-r+1)$ ways of choosing $r$ ordered elements, thus we divide by the number of orderings of $r$ to obtain:\n",
    "\n",
    "$$\n",
    "\\frac{n(n-1)\\cdots(n-r+1)}{r!} = \\frac{n!}{(n-r)!r!} = \\binom{n}{r}\n",
    "$$"
   ]
  },
  {
   "cell_type": "markdown",
   "metadata": {},
   "source": [
    "### Usefull Identity\n",
    "\n",
    "$$\n",
    "\\binom{n}{r} = \\binom{n-1}{r-1} + \\binom{n-1}{r} \\quad 1 \\leq r \\leq n\n",
    "$$"
   ]
  },
  {
   "cell_type": "markdown",
   "metadata": {},
   "source": [
    "How many commites of 2 women and 3 men can be formed from 5 women and 7 men given 2 men refuse to work with each other?\n",
    "\n",
    "- Their are $\\displaystyle\\binom{7}{3} = 35$ groups of men, however $\\displaystyle\\binom{2}{2} \\cdot \\displaystyle\\binom{5}{1} =5$ of those groups contain the two men refusing to work with each other, thus their are $35 - 5 = 30$ groups of men.\n",
    "- Their are $\\displaystyle\\binom{5}{2} = 10$ groups of women.\n",
    "- Thus their are $30 \\cdot 10 = 300$ possible committees."
   ]
  },
  {
   "cell_type": "markdown",
   "metadata": {},
   "source": [
    "## Binomial Theorem"
   ]
  },
  {
   "cell_type": "markdown",
   "metadata": {},
   "source": [
    "$$\n",
    "(x+y)^n = \\sum_{k=0}^n \\binom{n}{k} x^k y^{n-k}\n",
    "$$"
   ]
  },
  {
   "cell_type": "markdown",
   "metadata": {},
   "source": [
    "### Proof\n",
    "\n",
    "When $n = 1$:\n",
    "$$\n",
    "\\begin{align*}\n",
    "(x+y)^1 &= \\sum_{k=0}^1 \\binom{1}{k} x^k y^{1-k} \\\\\n",
    "        &= \\binom{1}{0} x^0 y^{1-0} + \\binom{1}{1} x^1 y^{1-1} \\\\\n",
    "        &= y + x \\\\\n",
    "        &= (x+y)^1\n",
    "\\end{align*}\n",
    "$$\n",
    "Assume $(x+y)^{n-1} = \\displaystyle\\sum_{k=0}^{n-1} \\binom{n-1}{k} x^k y^{n-1-k}$ holds.\n",
    "$$\n",
    "\\begin{align*}\n",
    "(x+y)^n &= (x+y) (x+y)^{n-1} \\\\\n",
    "        &= (x+y) \\sum_{k=0}^{n-1} \\binom{n-1}{k} x^k y^{n-1-k} \\\\\n",
    "        &= \\left( x \\sum_{k=0}^{n-1} \\binom{n-1}{k} x^k y^{n-1-k} \\right) + \n",
    "           \\left( y \\sum_{k=0}^{n-1} \\binom{n-1}{k} x^k y^{n-1-k} \\right)\\\\\n",
    "        &= \\left( \\sum_{k=0}^{n-1} \\binom{n-1}{k} x^{k+1} y^{n-(k+1)} \\right) + \n",
    "           \\left( \\sum_{k=0}^{n-1} \\binom{n-1}{k} x^k y^{n-k} \\right)\\\\\n",
    "\\end{align*}\n",
    "$$\n",
    "Let $i = k + 1$\n",
    "$$\n",
    "\\begin{align*}\n",
    "&= \\left( \\sum_{i=1}^{n} \\binom{n-1}{i - 1} x^{i} y^{n-i} \\right) + \n",
    "   \\left( \\sum_{i=0}^{n-1} \\binom{n-1}{i} x^{i} y^{n-i} \\right)\\\\\n",
    "&= x^n + \\left( \\sum_{i=1}^{n-1} \\binom{n-1}{i - 1} x^{i} y^{n-i} \\right) + \n",
    "   \\left( \\sum_{i=1}^{n-1} \\binom{n-1}{i} x^{i} y^{n-i} \\right) + y^n \\\\\n",
    "&= x^n + y^n + \\left( \\sum_{i=1}^{n-1} \\left[ \\binom{n-1}{i - 1} + \\binom{n-1}{i} \\right] \\right) x^{i} y^{n-i} \\\\\n",
    "&= x^n + y^n + \\left[ \\sum_{i=1}^{n-1} \\binom{n}{i} \\right] x^{i} y^{n-i} \\\\\n",
    "&= \\sum_{i=0}^{n} \\binom{n}{i} x^{i} y^{n-i} \\\\\n",
    "\\end{align*}\n",
    "$$"
   ]
  },
  {
   "cell_type": "markdown",
   "metadata": {},
   "source": [
    "---\n",
    "\n",
    "### Example\n",
    "\n",
    "Expand $(x+y)^3$\n",
    "\n",
    "$$\n",
    "\\begin{align}\n",
    "(x+y)^3 &= \\sum_{k=0}^{3} \\binom{3}{k} x^{k} y^{n-k} \\\\\n",
    "        &= \\binom{3}{0} x^{0} y^{3} + \\binom{3}{1} x^{1} y^{2} + \\binom{3}{2} x^{2} y^{1} + \\binom{3}{3} x^{3} y^{0} \\\\\n",
    "        &= y^3 + 3xy^2 + 3x^2y  + x^3\n",
    "\\end{align}\n",
    "$$\n",
    "\n",
    "---"
   ]
  },
  {
   "cell_type": "markdown",
   "metadata": {},
   "source": [
    "## Multinomial Coefficients\n",
    "\n",
    "A set of $n$ items is split into $r$ groups of size $n_1, n_2, ..., n_r$ respectively (where $\\sum_{i=1}^r n_i = n$). Their are $\\binom{n}{n_1}$ choices for the first group, $\\binom{n-n_1}{n_2}$ choices for the second group, it follows from the counting principle their are:\n",
    "\n",
    "\\begin{align*}\n",
    "    &\\binom{n}{n_1} \\binom{n - n_1}{n_2} \\cdots \\binom{n-n_1-n_2-\\cdots-n_{r-1}}{n_r} \\\\\n",
    "    &= \\frac{n!}{(n-n_1)!n_1!} \\frac{(n-n_1)!}{(n-n_1-n_2)!n_2!} \\cdots \\frac{(n-n_1-n_2-\\cdots-n_{r-1})!}{0!n_r!} \\\\\n",
    "    &= \\frac{n!}{n_1! \\; n_2! \\; \\cdots \\; n_r!} \\\\\n",
    "    &= \\binom{n}{n_1, n_2, \\cdots, n_r}\n",
    "\\end{align*}\n",
    "possible divisions."
   ]
  },
  {
   "cell_type": "markdown",
   "metadata": {},
   "source": [
    "---\n",
    "\n",
    "### Example\n",
    "\n",
    "10 children divide themselves into 2 groups of 5, how many different divisions are their?\n",
    "\n",
    "\n",
    "- Their are $\\displaystyle\\binom{10}{5,5} = 252$ ways of splitting 5 children into one team, and 5 into another\n",
    "- Theri are $2! = 2$ orderings of teams, $(A, B)$ and $(B, A)$\n",
    "- Thus their are $\\dfrac{252}{2} = 126$ different divisions (since ordering doesn't matter).\n",
    "\n",
    "---"
   ]
  },
  {
   "cell_type": "markdown",
   "metadata": {},
   "source": [
    "## Multinomail Theorem"
   ]
  },
  {
   "cell_type": "markdown",
   "metadata": {},
   "source": [
    "Using multinomial coefficents we can extend the definition of the binomial theorem to:\n",
    "\n",
    "$$\n",
    "(x_1 + x_2 + \\cdots + x_r)^n = \\sum_{n_1+n_2+\\cdots+n_r=n} \\binom{n}{n_1,n_2, \\cdots,n_r} x_1^{n_1} x_2^{n_2} \\cdots x_r^{n_r}\n",
    "$$"
   ]
  }
 ],
 "metadata": {
  "kernelspec": {
   "display_name": "Python 3",
   "language": "python",
   "name": "python3"
  },
  "language_info": {
   "codemirror_mode": {
    "name": "ipython",
    "version": 3
   },
   "file_extension": ".py",
   "mimetype": "text/x-python",
   "name": "python",
   "nbconvert_exporter": "python",
   "pygments_lexer": "ipython3",
   "version": "3.6.4"
  }
 },
 "nbformat": 4,
 "nbformat_minor": 2
}
