{
 "cells": [
  {
   "cell_type": "markdown",
   "metadata": {},
   "source": [
    "# Axioms of Probability"
   ]
  },
  {
   "cell_type": "markdown",
   "metadata": {},
   "source": [
    "## Sample space"
   ]
  },
  {
   "cell_type": "markdown",
   "metadata": {},
   "source": [
    "The set of all possible outcomes of an experiment denoted by $S$, known as the _sample space_."
   ]
  },
  {
   "cell_type": "markdown",
   "metadata": {},
   "source": [
    "## Event"
   ]
  },
  {
   "cell_type": "markdown",
   "metadata": {},
   "source": [
    "A subset of the sample space, $E$. If the outcome of the experiment is contained within $E$."
   ]
  },
  {
   "cell_type": "markdown",
   "metadata": {},
   "source": [
    "## Three axioms of propbability"
   ]
  },
  {
   "cell_type": "markdown",
   "metadata": {},
   "source": [
    "### _Axiom 1_\n",
    "$$\n",
    "0 \\leq P(E) \\leq 1\n",
    "$$\n",
    "\n",
    "### _Axiom 2_\n",
    "$$\n",
    "P(S) = 1\n",
    "$$\n",
    "\n",
    "### _Axiom 3_\n",
    "$$\n",
    "P\\left( \\bigcup_{i=1}^\\infty E_i \\right) = \\sum_{i=1}^\\infty P(E_i)\n",
    "$$\n",
    "Where $E_1, E_2, ...$ are mutually exclusive ($E_i E_j = \\emptyset$ where $i \\neq j$)."
   ]
  },
  {
   "cell_type": "markdown",
   "metadata": {},
   "source": [
    "## Complement of an event"
   ]
  },
  {
   "cell_type": "markdown",
   "metadata": {},
   "source": [
    "$$\n",
    "P\\left(E^C\\right) = 1 - P(E)\n",
    "$$"
   ]
  },
  {
   "cell_type": "markdown",
   "metadata": {},
   "source": [
    "## DeMorgen's Law"
   ]
  },
  {
   "cell_type": "markdown",
   "metadata": {},
   "source": [
    "$$\n",
    "(E_1 \\cup E_2 \\cup \\cdots \\cup E_n)^C = E_1 \\cap E_2 \\cap \\cdots \\cap E_n\n",
    "$$\n",
    "$$\n",
    "(E_1 \\cap E_2 \\cap \\cdots \\cap E_n)^C = E_1 \\cup E_2 \\cup \\cdots \\cup E_n\n",
    "$$"
   ]
  },
  {
   "cell_type": "markdown",
   "metadata": {},
   "source": [
    "## Inclusion–Exclusion Principle"
   ]
  },
  {
   "cell_type": "markdown",
   "metadata": {},
   "source": [
    "$$\n",
    "P(E \\cup F) = P(E) + P(F) - P(EF)\n",
    "$$"
   ]
  },
  {
   "cell_type": "markdown",
   "metadata": {},
   "source": [
    "## Generalized Inclusion–Exclusion Principle"
   ]
  },
  {
   "cell_type": "markdown",
   "metadata": {},
   "source": [
    "$$\n",
    "\\begin{align*}\n",
    "P(E_1 \\cup E_2 \\cup \\cdots \\cup E_n) = &\\sum_1^n P(E_i) \\; + \\; \\cdots \\; + \\; (-1)^{r+1} \\sum_{i_1 < i_2 < \\cdots < i_r} P(E_{i_1} E_{i_2} \\cdots E_{i_r}) \\; + \\; \\cdots \\; + \\\\\n",
    "& (-1)^{n+1} P(E_1 E_2 \\cdots E_n)\n",
    "\\end{align*}\n",
    "$$"
   ]
  },
  {
   "cell_type": "markdown",
   "metadata": {},
   "source": [
    "## Sample Spaces With Equally Likely Outcomes"
   ]
  },
  {
   "cell_type": "markdown",
   "metadata": {},
   "source": [
    "In many experiments it is natural to assume all outcomes in the sample space $S = \\{1, 2, ..., N\\}$, thus:\n",
    "$$\n",
    "P(\\{1\\}) = P(\\{2\\}) = \\cdots = P(\\{N\\})\n",
    "$$\n",
    "Thus from axioms 2 and 3:\n",
    "$$\n",
    "P(\\{i\\}) = \\frac{1}{N} \\quad i = 1, 2, ..., N\n",
    "$$\n",
    "Thus from axiom 3, for any event $E$:\n",
    "$$\n",
    "P(E) = \\frac{\\text{number of outcomes in }E}{\\text{number of outcomes in }S}\n",
    "$$"
   ]
  },
  {
   "cell_type": "markdown",
   "metadata": {},
   "source": [
    "---\n",
    "\n",
    "## Example\n",
    "\n",
    "If 3 balls are randomly drawn from a bowl containing 6 white and 5 black balls, what is the probability that one is white and two are black.\n",
    "\n",
    "- Their are $\\displaystyle\\binom{11}{3} = 165$ outcomes in the sample space.\n",
    "- The number of outcomes in $E$ is $\\displaystyle\\binom{6}{1} \\binom{5}{2} = 60$.\n",
    "- The probability of $E$ is thus $P(E) = \\dfrac{60}{165} = \\dfrac{4}{11}$\n",
    "\n",
    "---"
   ]
  },
  {
   "cell_type": "markdown",
   "metadata": {},
   "source": [
    "---\n",
    "\n",
    "## Example\n",
    "\n",
    "Compute the probability that if 10 married couples are seated at random at a round table, then no wife sits next to her husband.\n",
    "\n",
    "- Let $E_i$, $i=1, 2, ..., 10$ denote the event the $i^{th}$ couple sits next to eachother.\n",
    "- Thus the desired probability is $1 - P \\left( \\displaystyle\\bigcup_{i=1}^{10} E_i \\right)$\n",
    "- By the inclusion–exclusion principle\n",
    "\n",
    "    $\\begin{align*}\n",
    "    P \\left( \\displaystyle\\bigcup_{i=1}^{10} E_i \\right) = &\\displaystyle\\sum_1^{10} P(E_i) \\; + \\; \\cdots \\; + \\; (-1)^{n+1} \\displaystyle\\sum_{i_1 < i_2 < \\cdots < i_n} P(E_{i_1} E_{i_2} \\cdots E_{i_n}) \\; + \\; \\cdots \\; + \\; \\\\ &(-1)^{11} P(E_1 E_2 \\cdots E_{10})\n",
    "    \\end{align*}$\n",
    "- Consider $n$ married couples as single entities, thus their are $20-n$ entities around the table.\n",
    "- Clearly their are $(20 - n - 1)!$ arrangements.\n",
    "- Each couple can be arranged in two different ways thus their are $2^n(20 - n - 1)!$ arrangements.\n",
    "- $\\displaystyle\\binom{10}{1} 2^1 \\frac{18!}{19!} - \\binom{10}{2} 2^2 \\frac{17!}{19!} + \\binom{10}{3} 2^3 \\frac{17!}{19!} - \\cdots - \\binom{10}{10} 2^{10} \\frac{9!}{19!} \\approx 0.6605$\n",
    "- Thus the desired probability $1 - 0.6605 = 0.3395$\n",
    "\n",
    "---"
   ]
  }
 ],
 "metadata": {
  "kernelspec": {
   "display_name": "Python 3",
   "language": "python",
   "name": "python3"
  },
  "language_info": {
   "codemirror_mode": {
    "name": "ipython",
    "version": 3
   },
   "file_extension": ".py",
   "mimetype": "text/x-python",
   "name": "python",
   "nbconvert_exporter": "python",
   "pygments_lexer": "ipython3",
   "version": "3.6.4"
  }
 },
 "nbformat": 4,
 "nbformat_minor": 2
}
