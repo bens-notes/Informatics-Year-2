{
 "cells": [
  {
   "cell_type": "markdown",
   "metadata": {},
   "source": [
    "# Markov's and Chebyshev's Inequality"
   ]
  },
  {
   "cell_type": "markdown",
   "metadata": {},
   "source": [
    "## Markov's Inequailty"
   ]
  },
  {
   "cell_type": "markdown",
   "metadata": {},
   "source": [
    "If $X \\geq 0$ then for all $a > 0$\n",
    "\n",
    "$$\n",
    "P(X \\geq a) \\leq \\frac{E(X)}{a}\n",
    "$$\n",
    "\n",
    "Proof\n",
    "$$\n",
    "\\begin{align}\n",
    "E(X) &= \\int_0^\\infty x f(x) dx \\\\\n",
    "&= \\int_0^a x f(x) dx + \\int_a^\\infty x f(x) dx \\\\\n",
    "&\\geq \\int_0^a x f(x) dx + \\int_a^\\infty a f(x) dx \\\\\n",
    "&\\geq \\int_a^\\infty a f(x) dx \\\\\n",
    "&\\geq a \\int_a^\\infty f(x) dx \\\\\n",
    "&= a P(X \\geq a)\n",
    "\\end{align}\n",
    "$$\n",
    "\n",
    "Thus\n",
    "\n",
    "$$\n",
    "P(X \\geq a) \\leq \\frac{E(X)}{a}\n",
    "$$"
   ]
  },
  {
   "cell_type": "markdown",
   "metadata": {},
   "source": [
    "---\n",
    "\n",
    "### Example\n",
    "\n",
    "Using markov's inequality find the upper bound for $P(X > 3)$ where $Z \\sim Exp(\\lambda)$\n",
    "\n",
    "$$\n",
    "E(X) = \\frac{1}{\\lambda}\\\\\n",
    "P(X \\geq 3) \\leq \\frac{1}{3\\lambda}\n",
    "$$\n",
    "\n",
    "---"
   ]
  },
  {
   "cell_type": "markdown",
   "metadata": {},
   "source": [
    "## Chebyshev's Inequality"
   ]
  },
  {
   "cell_type": "markdown",
   "metadata": {},
   "source": [
    "If $\\mu = E(X)$ then for all $a > 0$\n",
    "\n",
    "$$\n",
    "P(|X - \\mu| \\geq a) \\leq \\frac{Var(X)}{a^2}\n",
    "$$"
   ]
  },
  {
   "cell_type": "markdown",
   "metadata": {},
   "source": [
    "Proof, let $Z = (X- \\mu)^2$. Clearly $Z$ is positive, thus we can apply Markov's inequality\n",
    "\n",
    "$$\n",
    "\\begin{align}\n",
    "P(Z \\geq a^2) &= \\frac{E(Z)}{a^2}\\\\\n",
    "&= \\frac{E((X-\\mu)^2)}{a^2} \\\\\n",
    "&= \\frac{Var(X)}{a^2}\n",
    "\\end{align}\n",
    "$$\n",
    "\n",
    "$P(Z \\geq a^2) = P((X - \\mu)^2 \\geq a^2) = P(|X - \\mu| \\geq a)$ thus\n",
    "\n",
    "$$\n",
    "P(|X - \\mu| \\geq a) \\leq \\frac{Var(X)}{a^2}\n",
    "$$"
   ]
  },
  {
   "cell_type": "markdown",
   "metadata": {},
   "source": [
    "---\n",
    "\n",
    "### Example\n",
    "\n",
    "Let $X$ denote the number of cars produced in a week. If $E(X) = 50$ estimate the probability that more than 75 cars are made in a week\n",
    "\n",
    "$X \\geq 0$ (cant make negative cars) so we can use Markov's inequality\n",
    "\n",
    "$$\n",
    "\\begin{align}\n",
    "P(X > 75) &\\leq \\frac{E(X)}{75}\\\\\n",
    "&= \\frac{50}{75} \\\\\n",
    "&= \\frac{2}{3}\n",
    "\\end{align}\n",
    "$$\n",
    "\n",
    "---"
   ]
  },
  {
   "cell_type": "markdown",
   "metadata": {},
   "source": [
    "---\n",
    "\n",
    "### Example\n",
    "\n",
    "Suppose $Var(X) = 25$. Give a lower bound on the probability that between 40 and 60 cars are produced each week\n",
    "\n",
    "$$\n",
    "\\begin{align}\n",
    "P(40 < X < 60) &= P(|X - 50| < 10) \\\\\n",
    "&= 1 - P(|X - 50| \\geq 10) \\\\\n",
    "&\\geq 1 - \\frac{Var(X)}{10^2} \\\\\n",
    "&= 1 - \\frac{25}{100} \\\\\n",
    "&= \\frac{3}{4}\n",
    "\\end{align}\n",
    "$$\n",
    "\n",
    "---"
   ]
  },
  {
   "cell_type": "markdown",
   "metadata": {},
   "source": [
    "## Chernoff bounds"
   ]
  },
  {
   "cell_type": "markdown",
   "metadata": {},
   "source": [
    "Let $X$ be a random variable with $M_X(t) = E(e^{tX})$ moment generating function\n",
    "\n",
    "1. $P(X \\geq a) \\leq e^{-ta} M_X(t)$ for all $t \\geq 0$\n",
    "2. $P(X \\leq a) \\leq e^{-ta} M_X(t)$ for all $t < 0$\n",
    "\n",
    "Proof, let $Z = e^{tX}$, if $t>0$ then $Z \\geq 0$ and $Z$ is an increasing function, thus\n",
    "\n",
    "$$\n",
    "X \\geq a \\iff Z \\geq e^{ta}\n",
    "$$\n",
    "\n",
    "Appling Markovs inequality\n",
    "\n",
    "$$\n",
    "\\begin{align}\n",
    "P(X \\geq a) &= P(Z \\geq e^{ta}) \\\\\n",
    "&\\leq \\frac{E(Z)}{e^{ta}} \\\\\n",
    "&= \\frac{M_X(t)}{e^{ta}}\n",
    "\\end{align}\n",
    "$$\n",
    "\n",
    "If $t < 0$ then $Z \\geq 0$ but $Z$ is a decreasing function, thus\n",
    "\n",
    "$$\n",
    "X \\leq a \\iff Z \\geq e^{ta}\n",
    "$$"
   ]
  }
 ],
 "metadata": {
  "kernelspec": {
   "display_name": "Python 3",
   "language": "python",
   "name": "python3"
  },
  "language_info": {
   "codemirror_mode": {
    "name": "ipython",
    "version": 3
   },
   "file_extension": ".py",
   "mimetype": "text/x-python",
   "name": "python",
   "nbconvert_exporter": "python",
   "pygments_lexer": "ipython3",
   "version": "3.6.4"
  }
 },
 "nbformat": 4,
 "nbformat_minor": 2
}
