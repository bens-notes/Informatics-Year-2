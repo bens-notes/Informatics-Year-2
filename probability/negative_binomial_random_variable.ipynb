{
 "cells": [
  {
   "cell_type": "markdown",
   "metadata": {},
   "source": [
    "# Negative Binomial Random Variable"
   ]
  },
  {
   "cell_type": "markdown",
   "metadata": {},
   "source": [
    "Suppose we have inpendent trials each with a probability $p$ of success are performed until $r$ successes. Let $X$ denote the number of trials required, then the probability mass function will be:\n",
    "\n",
    "$$\n",
    "P(X = n) = \\binom{n-1}{r-1} p^r (1-p)^{n-r} \\quad n = r, r+1, ...\n",
    "$$\n",
    "\n",
    "In order to have $r$ successes in $n$ trials, their must be $r-1$ successes in $n-1$ trials and the nth trial is a success. From the binomail distribution:\n",
    "\n",
    "$$\n",
    "P(r-1 \\text{ successes in } n-1 \\text{ trials}) = \\binom{r-1}{n-1}p^{r-1}(1-p)^{n-r}\n",
    "$$\n",
    "\n",
    "And from the defintion:\n",
    "\n",
    "$$\n",
    "P(\\text{success in the nth trial}) = p\n",
    "$$\n",
    "\n",
    "Thus giving us the probability mass function above."
   ]
  },
  {
   "cell_type": "markdown",
   "metadata": {},
   "source": [
    "## Nth moment"
   ]
  },
  {
   "cell_type": "markdown",
   "metadata": {},
   "source": [
    "$$\n",
    "\\begin{align}\n",
    "E(X^k) = \\sum_{n=r}^{\\infty} n^k \\binom{n-1}{r-1} p^r (1-p)^{n-r}\n",
    "\\end{align}\n",
    "$$\n",
    "\n",
    "Since $\\displaystyle n\\binom{n-1}{r-1} = r \\binom{n}{r}$\n",
    "\n",
    "$$\n",
    "\\begin{align}\n",
    "E(X^k) = \\frac{r}{p} \\sum_{n=r}^{\\infty} n^{k-1} \\binom{n}{r} p^{r+1} (1-p)^{n-r}\n",
    "\\end{align}\n",
    "$$\n",
    "\n",
    "Let $m = n + 1$\n",
    "\n",
    "$$\n",
    "\\begin{align}\n",
    "E(X^k) &= \\frac{r}{p} \\sum_{m=r+1}^{\\infty} (n-1)^{k-1} \\binom{m-1}{r} p^{r+1} (1-p)^{m-(r+1)} \\\\\n",
    "&= \\frac{r}{p} E((Y-1)^{k-1})\n",
    "\\end{align}\n",
    "$$\n",
    "\n",
    "Where $Y$ is a negative binomail random variable with parameters $r+1$ and $p$."
   ]
  },
  {
   "cell_type": "markdown",
   "metadata": {},
   "source": [
    "## Expectation"
   ]
  },
  {
   "cell_type": "markdown",
   "metadata": {},
   "source": [
    "$$\n",
    "E(X) = \\frac{r}{p} E((Y-1)^0) = \\frac{r}{p}\n",
    "$$"
   ]
  },
  {
   "cell_type": "markdown",
   "metadata": {},
   "source": [
    "## Variance"
   ]
  },
  {
   "cell_type": "markdown",
   "metadata": {},
   "source": [
    "$$\n",
    "\\begin{align}\n",
    "E(X^2) &= \\frac{r}{p} E((Y-1)^1) \\\\\n",
    "&= \\frac{r}{p} E(Y-1) \\\\\n",
    "&= \\frac{r}{p} \\left(\\frac{r+1}{p} - 1\\right)\n",
    "\\end{align}\n",
    "$$\n",
    "\n",
    "$$\n",
    "\\begin{align}\n",
    "Var(X) &= E(X^2) - E(X)^2 \\\\\n",
    "&= \\frac{r}{p} \\left(\\frac{r+1}{p} - 1\\right) - \\left( \\frac{r}{p} \\right)^2 \\\\\n",
    "&= \\frac{r(1-p)}{p^2}\n",
    "\\end{align}\n",
    "$$"
   ]
  }
 ],
 "metadata": {
  "kernelspec": {
   "display_name": "Python 3",
   "language": "python",
   "name": "python3"
  },
  "language_info": {
   "codemirror_mode": {
    "name": "ipython",
    "version": 3
   },
   "file_extension": ".py",
   "mimetype": "text/x-python",
   "name": "python",
   "nbconvert_exporter": "python",
   "pygments_lexer": "ipython3",
   "version": "3.6.4"
  }
 },
 "nbformat": 4,
 "nbformat_minor": 2
}
