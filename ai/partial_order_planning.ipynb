{
 "cells": [
  {
   "cell_type": "markdown",
   "metadata": {},
   "source": [
    "# Parital-Order Planning"
   ]
  },
  {
   "cell_type": "markdown",
   "metadata": {},
   "source": [
    "State-space planning algorthms consider totally ordered sequence of actions. Partial-order planning works by:\n",
    "\n",
    "1. Add actions to a plan without order unless necessary\n",
    "2. Combine independent subsequences\n",
    "\n",
    "Consider putting on socks and shoes:\n",
    "\n",
    "![](res/partial_order_planning.png)"
   ]
  },
  {
   "cell_type": "markdown",
   "metadata": {},
   "source": [
    "## As a search problem"
   ]
  },
  {
   "cell_type": "markdown",
   "metadata": {},
   "source": [
    "POP plans consist of:\n",
    "- _Actions_, intialy constains $Start$ with no preconditions with effect being the initial state and $Finish$ with no effects and preconditon being the goal literals\n",
    "- _Ordering_ constraints on actions $A \\prec B$ ($A$ must occor before $B$)\n",
    "- _Causal links_ between actions $A \\xrightarrow{p} B$ (p is precondition of $B$ and effect of $A$) If we insert action $C$ with effect $\\neg p$ we get $C \\prec A$ and $B \\prec C$.\n",
    "- _Open preconditions_ set of conditions not yet acheived (plan formed when set is empty)"
   ]
  },
  {
   "cell_type": "markdown",
   "metadata": {},
   "source": [
    "## Example"
   ]
  },
  {
   "cell_type": "markdown",
   "metadata": {},
   "source": [
    "Consider the problem of replacing a flat tire:\n",
    "\n",
    "- $Init(At(Flat, Axle) \\land At(Spare, Trunk))$\n",
    "- $Goal(At(Spare, Axle))$\n",
    "- $Action(Remove(Spare, Trunk), PRECOND: At(Spare, Trunk), EFFECT: \\neg At(Spare, Trunk) \\land At(Spare, Ground))$\n",
    "- $Action(PutOn(Spare, Axle), PRECOND: At(Spare, Ground) \\land \\neg At(Flat Axle),EFFECT: \\neg At(Spare, Ground) \\land At(Spare, Axle))$\n",
    "- $Action(LeaveOvernight(), PRECOND:, EFFECT: \\neg At(Spare, Ground) \\land \\neg At(Spare, Axle) \\land \\neg At(Spare, Trunk) \\land \\neg At(Flat, Ground) \\land \\neg At(Flat, Axle))$\n",
    "\n",
    "1. The precondition of $Goal$ is $At(Spare, Axle)$ of which only one action is aceives which is $PutOn$.\n",
    "2. The open preconditions are now the preconditions of $PutOn$\n",
    "3. The condition $At(Spare, Ground)$ can only be acheived by $Remove$\n",
    "4. Removes preconditions added to open preconditions\n",
    "5. The condition $\\neg At(Flat, Axle)$ has two possible actions $LeaveOvernight$ however it must happen after $Remove$, $PutOn$ and $Finish$ since they all have preconditions with $At(a,b)$ and $LeaveOvernight$ removes all objects.\n",
    "6. $Remove$ does not have this problem\n",
    "7. Open preconditions are empty so POP plan is complete\n",
    "\n",
    "![](res/pop_plan.png)"
   ]
  }
 ],
 "metadata": {
  "kernelspec": {
   "display_name": "Python 3",
   "language": "python",
   "name": "python3"
  },
  "language_info": {
   "codemirror_mode": {
    "name": "ipython",
    "version": 3
   },
   "file_extension": ".py",
   "mimetype": "text/x-python",
   "name": "python",
   "nbconvert_exporter": "python",
   "pygments_lexer": "ipython3",
   "version": "3.6.4"
  }
 },
 "nbformat": 4,
 "nbformat_minor": 2
}
