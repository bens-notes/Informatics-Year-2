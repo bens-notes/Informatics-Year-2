{
 "cells": [
  {
   "cell_type": "markdown",
   "metadata": {},
   "source": [
    "# Handling Non-Deterministic Outcomes"
   ]
  },
  {
   "cell_type": "markdown",
   "metadata": {},
   "source": [
    "## Methods for handling indeterminacy"
   ]
  },
  {
   "cell_type": "markdown",
   "metadata": {},
   "source": [
    "- Sensorless/conformant planning: achieve goal in all possible circumstances (relies on coercion)\n",
    "- Contingency planning: for partially observable and non-deterministic enviroments, includes sensing actions and different paths for different circumstances\n",
    "- Online planning and replanning: during execution check if plan requires revision and replan"
   ]
  },
  {
   "cell_type": "markdown",
   "metadata": {},
   "source": [
    "## Percept"
   ]
  },
  {
   "cell_type": "markdown",
   "metadata": {},
   "source": [
    "A percept schema models an agents sensors. They are made of two parts, what the agent will know given some preconditions for example:\n",
    "\n",
    "$$\n",
    "Precept(Color(x, c), PRECOND: Object(x), InView(x))\n",
    "$$\n",
    "\n",
    "If $x$ is and object and in view, we will know the color of it."
   ]
  },
  {
   "cell_type": "markdown",
   "metadata": {},
   "source": [
    "## Belief States"
   ]
  },
  {
   "cell_type": "markdown",
   "metadata": {},
   "source": [
    "Since we dont have full-observability, we cant be sure about things in our enviroment. To represent unceritaity in states we can obmit it from a logical sentence, for example $Has(Lemon, Ben) \\land Has(Lemonade, Ben)$ says nothing about wether we have oranges or not (we dont know until we percept)."
   ]
  },
  {
   "cell_type": "markdown",
   "metadata": {},
   "source": [
    "## Contingent planning example"
   ]
  },
  {
   "cell_type": "markdown",
   "metadata": {},
   "source": [
    "Consider painting a chair and table the same color:\n",
    "\n",
    "$$\n",
    "\\begin{align}\n",
    "[&LookAt(Table), LookAt(Chair), \\\\\n",
    "&if Color(Table, c) \\land Color(Chair c) then NoOp \\\\\n",
    "&\\quad else [RemoveLid(C_1), LookAt(C_1), RemoveLid(C_2), LookAt(C_2), \\\\\n",
    "&\\quad \\quad if Color(Chair, c) \\land Color(can, c) then Paint(Table, can) \\\\\n",
    "&\\quad \\quad else if Color(Table, c) \\land Color(can, c) then Paint(Chair, can) \\\\\n",
    "&\\quad \\quad else [Paint(Chair, C_1), Paint(Table, C_1)] \\\\\n",
    "\\end{align}\n",
    "$$\n",
    "\n",
    "Note variables are existentially quantified."
   ]
  },
  {
   "cell_type": "markdown",
   "metadata": {},
   "source": [
    "## Conditional Effects"
   ]
  },
  {
   "cell_type": "markdown",
   "metadata": {},
   "source": [
    "Some actions dont have deterministic effects (most action in the real world). For example consider $Suck$ action of a robot vacuum cleaner.\n",
    "\n",
    "$$\n",
    "Action(Suck, PRECOND:, EFFECT: (when AtL: CleanL) \\land (when AtR: CleanR))\n",
    "$$\n",
    "\n",
    "What room is cleaned depends on were the robot is.\n",
    "\n",
    "$$\n",
    "Action(Left, PRECOND: AtR, EFFECT: AtL \\lor (AtL \\land (when CleanL: \\neg CleanL))\n",
    "$$\n",
    "\n",
    "When the robot moves left it may end in the left room or end in the left room but deposit some dirt."
   ]
  },
  {
   "cell_type": "markdown",
   "metadata": {},
   "source": [
    "## Games against nature"
   ]
  },
  {
   "cell_type": "markdown",
   "metadata": {},
   "source": [
    "In the case were we have conditional effects it is like we are playing a game against nature, simular to adversarial search. A solution is a subtree were all leaves are goal states and includes all outcomes at each node. Consider a robot vacuum cleaner that starts in the right room, wants to go left (with both rooms clean) however it sometimes deposits dirt at its destination, the solution is:\n",
    "\n",
    "![](res/dm_vacuum.png)\n",
    "\n",
    "Consider the case were we might fail to move, the solution would then be cyclic:\n",
    "\n",
    "![](res/cyclic_vacuum.png)"
   ]
  }
 ],
 "metadata": {
  "kernelspec": {
   "display_name": "Python 3",
   "language": "python",
   "name": "python3"
  },
  "language_info": {
   "codemirror_mode": {
    "name": "ipython",
    "version": 3
   },
   "file_extension": ".py",
   "mimetype": "text/x-python",
   "name": "python",
   "nbconvert_exporter": "python",
   "pygments_lexer": "ipython3",
   "version": "3.6.4"
  }
 },
 "nbformat": 4,
 "nbformat_minor": 2
}
