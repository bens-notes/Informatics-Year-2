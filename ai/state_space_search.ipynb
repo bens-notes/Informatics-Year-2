{
 "cells": [
  {
   "cell_type": "markdown",
   "metadata": {},
   "source": [
    "# State-Space Search"
   ]
  },
  {
   "cell_type": "markdown",
   "metadata": {},
   "source": [
    "## Forward State-Space Search"
   ]
  },
  {
   "cell_type": "markdown",
   "metadata": {},
   "source": [
    "If the search space is finite we can use a graph search algorithum with the start state as the root of the tree and the child nodes are the state after all applicables actions are taken. If the algorithm is complete (such as A*) this will be a complete graph planning algorithm, however we dont resolve the irrelevant state action problem, and the efficeny depends on high quality heuristics, consider:\n",
    "- 10 airports with 5 planes each, 20 pieces of cargo\n",
    "- each 50 planes can fly to 9 airports were 300 packages can be unloaded/loaded\n",
    "- in each state their are $50 \\cdot 9 \\cdot 200 \\approx 10000$ executable actions\n",
    "- depth first / bredth first infesible here"
   ]
  },
  {
   "cell_type": "markdown",
   "metadata": {},
   "source": [
    "## Backward State-Space Search"
   ]
  },
  {
   "cell_type": "markdown",
   "metadata": {},
   "source": [
    "With backward state space search the root node is the goal and child nodes are states were executing a single action will lead the parent node. This search excludes irrelevant actions since all nodes must lead to the goal state however it can be difficult to generate predecessors due to the planning representation.\n",
    "\n",
    "- if the goal is $At(C_1, B) \\land ... \\land At(C_20, B)$\n",
    "- the only action that acheives the sub goal $At(C_1, B)$ is $Unload(C_1, p B)$ (note $p$ is not specified)\n",
    "- thus the predecessor to the goal must include $In(C_1, p) \\land At(p, B) \\land \\neg At(C_1, B)$ ($\\neg At(C_1, B)$ prevents irrelevant actions)"
   ]
  },
  {
   "cell_type": "markdown",
   "metadata": {},
   "source": [
    "## Heuristics"
   ]
  },
  {
   "cell_type": "markdown",
   "metadata": {},
   "source": [
    "Heuristics for state-space search fall into two catogories:\n",
    "1. Divide and conquer (subgoal decomposition)\n",
    "    - optimistic (admissible) if negative interactions exist (subplan deletes goal achieved by other subplan)\n",
    "    - pessimistic (inadmissible) if positive interactions exist (subplans contain redundant actions)\n",
    "2. Derive relaxed problem\n",
    "    - drop all preconditions (if all actions are applicable and subgoals are independent then prediction is easier)\n",
    "    - remove all negative effects (count minimum number of actions so the union satisfies goals)\n",
    "    - empty delete lists (run simple planning problem to compute heuristic value)"
   ]
  }
 ],
 "metadata": {
  "kernelspec": {
   "display_name": "Python 3",
   "language": "python",
   "name": "python3"
  },
  "language_info": {
   "codemirror_mode": {
    "name": "ipython",
    "version": 3
   },
   "file_extension": ".py",
   "mimetype": "text/x-python",
   "name": "python",
   "nbconvert_exporter": "python",
   "pygments_lexer": "ipython3",
   "version": "3.6.4"
  }
 },
 "nbformat": 4,
 "nbformat_minor": 2
}
