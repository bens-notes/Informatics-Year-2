{
 "cells": [
  {
   "cell_type": "markdown",
   "metadata": {},
   "source": [
    "# Planning"
   ]
  },
  {
   "cell_type": "markdown",
   "metadata": {},
   "source": [
    "The task of comming up with a sequence of actions that will achieve a goal"
   ]
  },
  {
   "cell_type": "markdown",
   "metadata": {},
   "source": [
    "## Classical planning"
   ]
  },
  {
   "cell_type": "markdown",
   "metadata": {},
   "source": [
    "Classical planning involves enviroments that are:\n",
    "\n",
    "- fully observable\n",
    "- deterministic\n",
    "- finite\n",
    "- static\n",
    "- discrete"
   ]
  },
  {
   "cell_type": "markdown",
   "metadata": {},
   "source": [
    "## Why planning?\n",
    "\n",
    "Consider a search-based problem-solving agent. It uses algorithums such as bredth/depth first search to find a solution in the search space. The search space of real world problems is very large however and search algorthums dont scale well when the branching factor and max depth grow large. \n",
    "\n",
    "Consider a logic-based problem-solving agent. They way we descripe a problem allows us to form sub goals i.e. $Has(Bread)\\; \\&\\& \\;Has(Milk)$ and we have automated inference to find a solution. However their is no sence of quaility of plan for example $p$ is the same as $a, a^{-1}, p$ where $a, p$ are actions. Most problems will require first-order logic over propositional logic however first-order logic raises the tractability problem, their is no algorithm that show a plan is valid.\n",
    "\n",
    "Thus we need a logic that is more powerfull than propositional logic that is still tractable."
   ]
  },
  {
   "cell_type": "markdown",
   "metadata": {},
   "source": [
    "## PDDL"
   ]
  },
  {
   "cell_type": "markdown",
   "metadata": {},
   "source": [
    "PDDL or planning domain definition language is expressive enough to cover intresting problems, and restrictive enough to allow efficent algorithms. It is compossed of:\n",
    "\n",
    "- _States_ represented as conjunction of propositional function free first order positive literals i.e. $Happy \\land Sunshine, At(Plane_1, Melbourn) \\land At(Plane_2, Sydney)$\n",
    "- _Goals_ a partial description of a state, which allows negation variables etc i.e. $\\neg Happy, At(x, SFO), Love(Father(Fred), Fred)$\n",
    "- _Actions_ are composed of:\n",
    "    - Action name and parameter list i.e. $Fly(p, from, to)$\n",
    "    - Precondition represented as conjunction of positive and negative literals (all varaibles must occor in parameter list) i.e. $At(p, from) \\land Plane(p) \\land Airport(from) \\land Airport(to)$\n",
    "    - Effect represented as conjunction of positive and negative literals i.e. $\\neg At(p, from) \\land At(p, to)$ (anything not listed stays the same)"
   ]
  },
  {
   "cell_type": "markdown",
   "metadata": {},
   "source": [
    "## Semantics"
   ]
  },
  {
   "cell_type": "markdown",
   "metadata": {},
   "source": [
    "- $s \\models At(P_1, SFO) \\iff At(P_1, SFO) \\in s$\n",
    "- $s \\models \\neg At(P_1, SFO) \\iff At(P_1, SFO) \\not\\in s$\n",
    "- $s \\models \\phi(x) \\iff$ their is a ground term $d$ such that $s \\models \\phi \\left[ x / d \\right]$\n",
    "- $s \\models \\phi \\land \\mu \\iff s \\models \\phi \\land s \\models \\mu$"
   ]
  },
  {
   "cell_type": "markdown",
   "metadata": {},
   "source": [
    "Any actions is _applicable_ if the parameters can be substituted with ground terms to make the precondition true. For example:\n",
    "\n",
    "$$\n",
    "At(P_1, Melbourne) \\land At(P_2, Sydney) \\land Plane(P_1) \\land Plane(P_2) \\land Airport(Sydney) \\land Airport(Melbourne) \\land Airport(Hearthrow)\n",
    "$$\n",
    "\n",
    "Satisfies\n",
    "\n",
    "$$\n",
    "At(p, from) \\land Plane(p) \\land Airport(from) \\land Airport(to)\n",
    "$$\n",
    "\n",
    "With substitution\n",
    "\n",
    "$$\n",
    "\\left\\{ p / P_2, from / Sydney, to / Heathrow \\right\\}\n",
    "$$\n",
    "\n",
    "Applying the effect gives the resulting state:\n",
    "\n",
    "$$\n",
    "At(P_1, Melbourne) \\land At(P_2, Hearthrow) \\land Plane(P_1) \\land Plane(P_2) \\land Airport(Sydney) \\land Airport(Melbourne) \\land Airport(Hearthrow)\n",
    "$$\n"
   ]
  }
 ],
 "metadata": {
  "kernelspec": {
   "display_name": "Python 3",
   "language": "python",
   "name": "python3"
  },
  "language_info": {
   "codemirror_mode": {
    "name": "ipython",
    "version": 3
   },
   "file_extension": ".py",
   "mimetype": "text/x-python",
   "name": "python",
   "nbconvert_exporter": "python",
   "pygments_lexer": "ipython3",
   "version": "3.6.4"
  }
 },
 "nbformat": 4,
 "nbformat_minor": 2
}
