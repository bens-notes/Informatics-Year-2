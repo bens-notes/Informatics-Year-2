{
 "cells": [
  {
   "cell_type": "markdown",
   "metadata": {},
   "source": [
    "# Bayesian Networks"
   ]
  },
  {
   "cell_type": "markdown",
   "metadata": {},
   "source": [
    "Bayesian network is a directed acyclic graph with nodes annoteded with porbability information. Nodes represent the cumulative probability distribution of a random variable and how it depends on its parents $P(X \\mid Parent(X))$, thus links are variables that have direct effects on each other.\n",
    "\n",
    "![](res/b_network.png)\n",
    "\n",
    "This network shows that \n",
    "- If we know that the alarm went of, the probability that Mary calls is independent of if John calls. \n",
    "- John and Mary cannot observe and earthquake or burglary, otherwise they would need links."
   ]
  },
  {
   "cell_type": "markdown",
   "metadata": {},
   "source": [
    "## Semantics"
   ]
  },
  {
   "cell_type": "markdown",
   "metadata": {},
   "source": [
    "A bayesian network is a compact representation of a joint probability distribution. For example the probability that $P(JohnCalls \\land MaryCalls \\land Alarm \\land \\neg Burglary \\land \\neg Earthquake)$ can be computed as follows:\n",
    "\n",
    "$$\n",
    "\\begin{align}\n",
    "P(JohnCalls \\land MaryCalls &\\land Alarm \\land \\neg Burglary \\land \\neg Earthquake) \\\\\n",
    "&= P(JohnCalls \\mid Alarm) \\times P(MaryCalls \\mid Alarm) \\times P(Alarm \\mid (\\neg Burglary \\land \\neg Earthquake) \\times P(\\neg Burglary) \\times P(\\neg Earthquake) \\\\\n",
    "&= 0.9 \\cdot 0.7 \\cdot 0.001 \\cdot 0.999 \\cdot 0.998 \\\\\n",
    "&= 0.00062\n",
    "\\end{align}\n",
    "$$\n",
    "\n",
    "To see why this is the case recall that\n",
    "$$\n",
    "P(X_1, ..., X_n) = P(X_n \\mid X_{n-1}, ..., X_1) P(X_{n-1}, ..., X_1)\n",
    "$$\n",
    "\n",
    "Repeated applying this (chain rule):\n",
    "$$\n",
    "\\begin{align}\n",
    "P(X_1, ..., X_n) &= P(X_n \\mid X_{n-1}, ..., X_1) \\times P(X_{n-1} \\mid X_{n-2}, ..., X_1) \\times ... \\times P(X_2 \\mid X_1) \\times P(X_1) \\\\\n",
    "&= \\prod^n_{i=1} P(X_i \\mid X_{i-1}, ..., X_1)\n",
    "\\end{align}\n",
    "$$\n",
    "\n",
    "So long as the nodes are labelled appropriatly $P(X_i \\mid X_{i-1}, ..., X_1) = P(X_i \\mid Parents(X_i))$ since any $X_i$ not in $Parent(X_i)$ is independent (thus can be ignored). For example $P(MaryCalls \\mid JohnCalls, Alarm, Earthquake, Burglary) = P(MaryCalls \\mid Alarm)$"
   ]
  },
  {
   "cell_type": "markdown",
   "metadata": {},
   "source": [
    "## Independence Relations"
   ]
  },
  {
   "cell_type": "markdown",
   "metadata": {},
   "source": [
    "As we saw above a node is conditionaly independent of its non-descendants (given its parents), for example\n",
    "- JohnCalls is conditionally independent of Burglary given Alarm\n",
    "- JohnCalls is conditionally independent of MaryCalls given Alarm\n",
    "\n",
    "Further we can say a node is conditionally independent of all other nodes given its _markov blanket_, that is a nodes parents, children and childrens parents."
   ]
  },
  {
   "cell_type": "markdown",
   "metadata": {},
   "source": [
    "## Noisy-OR"
   ]
  },
  {
   "cell_type": "markdown",
   "metadata": {},
   "source": [
    "If the variables are continuous we can describe them with probability distributions such as the normal distribution, however if we have a random variables with many discrete cases we can use noisy-or to reduce the size of the representation.\n",
    "\n",
    "Consider the following\n",
    "\n",
    "$$\n",
    "P(\\neg fever \\mid cold, \\neg flu, \\neg malaria) = 0.6 \\\\\n",
    "P(\\neg fever \\mid \\neg cold, flu, \\neg malaria) = 0.2 \\\\\n",
    "P(\\neg fever \\mid \\neg cold, \\neg flu, malaria) = 0.1\n",
    "$$\n",
    "\n",
    "Where certain factors inhibit cold, flu and malaria from causing fever. If we make the assumption that the inhibitors are independent, then we can derive \n",
    "\n",
    "$$\n",
    "P(\\neg fever \\mid cold, flu, \\neg malaria) = P(\\neg fever \\mid cold, \\neg flu, \\neg malaria) P(\\neg fever \\mid \\neg cold, flu, \\neg malaria)\n",
    "$$ \n",
    "\n",
    "The probability of the cold and flu inhibitors both preventing a fever is the product of the individual inhibitors (since we assumed their independent).\n",
    "\n",
    "If their was $k$ discrete cases we only need to store $k$ values rather than all $2^k$ values."
   ]
  }
 ],
 "metadata": {
  "kernelspec": {
   "display_name": "Python 3",
   "language": "python",
   "name": "python3"
  },
  "language_info": {
   "codemirror_mode": {
    "name": "ipython",
    "version": 3
   },
   "file_extension": ".py",
   "mimetype": "text/x-python",
   "name": "python",
   "nbconvert_exporter": "python",
   "pygments_lexer": "ipython3",
   "version": "3.6.4"
  }
 },
 "nbformat": 4,
 "nbformat_minor": 2
}
