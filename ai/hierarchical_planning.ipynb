{
 "cells": [
  {
   "cell_type": "markdown",
   "metadata": {},
   "source": [
    "# Hierarchical Planning"
   ]
  },
  {
   "cell_type": "markdown",
   "metadata": {},
   "source": [
    "Hierarchical planning works by creating higher level plans, then refining them with action refinements. "
   ]
  },
  {
   "cell_type": "markdown",
   "metadata": {},
   "source": [
    "## Higher level actions"
   ]
  },
  {
   "cell_type": "markdown",
   "metadata": {},
   "source": [
    "Higher level actions (HLA's) are a sequence of actions or nested HLA's. For example for the HLA $Go(Home, SFO)$ two refinements are:\n",
    "\n",
    "$\n",
    "\\begin{align}\n",
    "Refinement(&Go(Home, SFO), \\\\\n",
    "&PRECOND: At(Car, Home), \\\\\n",
    "&STEPS: [Drive(Home, SFOLongTermParking), Shuttle(SFOLongTermParking, SFO)]\n",
    "\\end{align}\n",
    "$\n",
    "\n",
    "$\n",
    "\\begin{align}\n",
    "Refinement(&Go(Home, SFO), \\\\\n",
    "&PRECOND: Cash, At(Home), \\\\\n",
    "&STEPS: [Taxi(Home, SFO)]\n",
    "\\end{align}\n",
    "$"
   ]
  },
  {
   "cell_type": "markdown",
   "metadata": {},
   "source": [
    "## Higher level plans"
   ]
  },
  {
   "cell_type": "markdown",
   "metadata": {},
   "source": [
    "Higher level plans (HLP) are a sequence of HLAs. The agent choises the which implementation of which HLA to execute."
   ]
  },
  {
   "cell_type": "markdown",
   "metadata": {},
   "source": [
    "## Searching HLPs"
   ]
  },
  {
   "cell_type": "markdown",
   "metadata": {},
   "source": [
    "A primitive method would be breadth first search:\n",
    "- Start plan $P$ with HLA $A$\n",
    "- Take first HLA $B$ in $P$\n",
    "- Do a breadth-first search to find reinement of $B$ whos preconditions are satisfied by the prior action in $P$\n",
    "- Replace $B$ in $P$ with its refinement\n",
    "- Continue until $P$ has no HLAs and either\n",
    "    - $P$'s outcome is the goal, thus return $P$\n",
    "    - $P$'s outcome is not the goal, thus return _failure_\n",
    "    \n",
    "The problems are that it considers many irrelevant actions, and doesnt make good use of the HLA structure."
   ]
  },
  {
   "cell_type": "markdown",
   "metadata": {},
   "source": [
    "## Reach"
   ]
  },
  {
   "cell_type": "markdown",
   "metadata": {},
   "source": [
    "$s' \\in REACH(s, h) \\iff s'$ is reachable from at least on of HLA $h$'s refinement, given the initial state $s$. Exapanding this to a sequence of $[h1, h2]$:\n",
    "\n",
    "$$\n",
    "REACH(s, [h_1, h_2]) = \\bigcup_{s' \\in REACH(s, h_1)} REACH(s', h_2)\n",
    "$$\n",
    "\n",
    "A HLP $p$ acieves its goal $g$ given an initial state $s$ iff $\\exists s'$ such that\n",
    "\n",
    "$$\n",
    "s' \\models g \\text{ and } s' \\in REACH(s, p)\n",
    "$$"
   ]
  },
  {
   "cell_type": "markdown",
   "metadata": {},
   "source": [
    "To define reach we add the following notation:\n",
    "\n",
    "- $\\tilde{+}A$: can possibly add $A$ (or leave $A$ unchanged)\n",
    "- $\\tilde{-}A$: can possibly delete $A$ (or leave $A$ unchanged)\n",
    "- $\\tilde{\\pm}$: can possible add $A$ or delete $A$ (or leave $A$ unchanged)\n",
    "\n",
    "So the reach of $GoHome$ includes $\\tilde{-} Cash$ (taking a taxi) and similarly for the car. We cannot choose $\\neg Cash \\land At(Car, SFOParking)$ however, thus we need to extend to approximate descriptions."
   ]
  },
  {
   "cell_type": "markdown",
   "metadata": {},
   "source": [
    "## Approximate refinement"
   ]
  },
  {
   "cell_type": "markdown",
   "metadata": {},
   "source": [
    "Opternistic description: $REACH^+(s,h)$\n",
    "- Union of all refinements\n",
    "- Includes $\\tilde{-}Cash$ and $\\tilde{+}At(Car, SFOParking)$\n",
    "- Overgenerates reachable states\n",
    "\n",
    "Pessimistic Description: $REACH^-(s,h)$\n",
    "- Only effect that occor in all refinements\n",
    "- Does not include $\\tilde{-}Cash$ or $\\tilde{+}At(Car, SFOParking)$\n",
    "- Undergenerates reachable states\n",
    "\n",
    "Thus\n",
    "\n",
    "$$\n",
    "REACH^-(s,h) \\subseteq REACH(s,h) \\subseteq REACH^+(s,h)\n",
    "$$"
   ]
  }
 ],
 "metadata": {
  "kernelspec": {
   "display_name": "Python 3",
   "language": "python",
   "name": "python3"
  },
  "language_info": {
   "codemirror_mode": {
    "name": "ipython",
    "version": 3
   },
   "file_extension": ".py",
   "mimetype": "text/x-python",
   "name": "python",
   "nbconvert_exporter": "python",
   "pygments_lexer": "ipython3",
   "version": "3.6.4"
  }
 },
 "nbformat": 4,
 "nbformat_minor": 2
}
