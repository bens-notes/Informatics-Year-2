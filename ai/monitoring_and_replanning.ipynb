{
 "cells": [
  {
   "cell_type": "markdown",
   "metadata": {},
   "source": [
    "# Monitoring And Replanning"
   ]
  },
  {
   "cell_type": "markdown",
   "metadata": {},
   "source": [
    "Unbounded indeterminacy in realistic enviroments means we need some way of monitoring and replanning in order to acheive larger goals.\n",
    "\n",
    "Execution monitoring checks if things are going to plan\n",
    "- _Action monitoring_ checks if the next action is feasible\n",
    "- _Plan monitoring_ checks whether remainder of plan is feasible\n",
    "\n",
    "Replanning is the processes of finding a new plan in the event of a problem."
   ]
  }
 ],
 "metadata": {
  "kernelspec": {
   "display_name": "Python 3",
   "language": "python",
   "name": "python3"
  },
  "language_info": {
   "codemirror_mode": {
    "name": "ipython",
    "version": 3
   },
   "file_extension": ".py",
   "mimetype": "text/x-python",
   "name": "python",
   "nbconvert_exporter": "python",
   "pygments_lexer": "ipython3",
   "version": "3.6.4"
  }
 },
 "nbformat": 4,
 "nbformat_minor": 2
}
