{
 "cells": [
  {
   "cell_type": "markdown",
   "metadata": {},
   "source": [
    "# Exact Inference In Bayesian Networks"
   ]
  },
  {
   "cell_type": "markdown",
   "metadata": {},
   "source": [
    "We want to compute the posterior probability, that is $P(X \\mid e)$ given a query varaible $X$, evidenve variables $E$ and non-evidence/hidden variables $Y$. For example $P(Burglary \\mid JohnCalls = true, MaryCalls = true)$"
   ]
  },
  {
   "cell_type": "markdown",
   "metadata": {},
   "source": [
    "## Inference by enumeration"
   ]
  },
  {
   "cell_type": "markdown",
   "metadata": {},
   "source": [
    "We can compute any conditionaly probability by summing joint probability terms:\n",
    "\n",
    "$$\n",
    "P(X \\mid e) = \\alpha P(X, e) = \\alpha \\sum_y P(X, e, y)\n",
    "$$\n",
    "\n",
    "For example, for the query $P(Burglary \\mid JohnCalls = true, MaryCalls = true)$\n",
    "\n",
    "$$\n",
    "\\begin{align}\n",
    "P(Burglary \\mid JohnCalls = true, MaryCalls = true) &= \\alpha P(B, j, m) \\\\\n",
    "&= \\alpha \\sum_{e} \\sum_{a} P(B, e, a, j, m)\n",
    "\\end{align}\n",
    "$$\n",
    "\n",
    "Now using the structure of out bayesian network\n",
    "\n",
    "$$\n",
    "P(B \\mid j, m) = \\alpha \\sum_e \\sum_a P(b) P(e) P(a \\mid b, e) P(j \\mid a) P(m \\mid a)\n",
    "$$\n",
    "\n",
    "Finnaly, to improve efficany we can move out terms that dont depend on the sums\n",
    "\n",
    "$$\n",
    "P(B \\mid j, m) = \\alpha P(b) \\sum_e P(e) \\sum_a  P(a \\mid b, e) P(j \\mid a) P(m \\mid a)\n",
    "$$\n",
    "\n",
    "The evaluation of the expression:\n",
    "\n",
    "![](res/exact_inference_tree.png)\n",
    "\n",
    "Notice that several things are recomputed during evaluation."
   ]
  },
  {
   "cell_type": "markdown",
   "metadata": {},
   "source": [
    "## Variable elimination algorithm"
   ]
  },
  {
   "cell_type": "markdown",
   "metadata": {},
   "source": [
    "Variable elimination works by storing results after doing the calculation once.\n",
    "\n",
    "$$\n",
    "P(B \\mid j, m) = \\alpha \\underbrace{P(b)}_{f_1(B)} \\sum_e \\underbrace{P(e)}_{f_2(E)} \\sum_a \\underbrace{P(a \\mid b, e)}_{f_3(A, B, E)} \\underbrace{P(j \\mid a)}_{f_4(A)} \\underbrace{P(m \\mid a)}_{f_5(A)}\n",
    "$$\n",
    "\n",
    "Each part is annotated with a factor. A factor is a matrix indexed with argument variables, for example $f_5(A)$ corresponds to $P(m \\mid a)$ and depends only on $A$ because $m$ is fixed thus:\n",
    "\n",
    "$$\n",
    "f_5(A) = \\begin{bmatrix}\n",
    "P(m \\mid a) & P(m \\mid \\neg a)\n",
    "\\end{bmatrix}\n",
    "$$\n",
    "\n",
    "$f_3(A, B, E)$ would be a $2 \\times 2 \\times 2$ matrix.\n",
    "\n",
    "Before we can use the factors, we will define pointwise product, which yeilds the product for union of variables in its arguments:\n",
    "\n",
    "$$\n",
    "f(X_1, ... X_i, Y_1 ... Y_j, Z_1 ... Z_k) = f_1(X_1, ... X_i, Y_1 ... Y_j) f(Y_1 ... Y_j, Z_1 ... Z_k)\n",
    "$$\n",
    "\n",
    "Consider this example:\n",
    "\n",
    "![](res/pointwise_product.png)\n",
    "\n",
    "Now using pointwise product we can simplifify the prior\n",
    "\n",
    "$$\n",
    "\\begin{align}\n",
    "P(B \\mid j, m) &= \\alpha f_1(B) \\sum_e f_2(E) \\sum_a f_3(A, B, E) f_4(A) f_5(A) \\\\\n",
    "&= \\alpha f_1(B) \\sum_e f_2(E) \\sum_a f_6(A, B, E) \\\\\n",
    "&= \\alpha f_1(B) \\sum_e f_2(E) f_7(B, E) \\\\\n",
    "&= \\alpha f_1(B) \\sum_e f_8(B, E) \\\\\n",
    "&= \\alpha f_1(B) f_8(B)\n",
    "\\end{align}\n",
    "$$"
   ]
  }
 ],
 "metadata": {
  "kernelspec": {
   "display_name": "Python 3",
   "language": "python",
   "name": "python3"
  },
  "language_info": {
   "codemirror_mode": {
    "name": "ipython",
    "version": 3
   },
   "file_extension": ".py",
   "mimetype": "text/x-python",
   "name": "python",
   "nbconvert_exporter": "python",
   "pygments_lexer": "ipython3",
   "version": "3.6.4"
  }
 },
 "nbformat": 4,
 "nbformat_minor": 2
}
