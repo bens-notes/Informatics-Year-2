{
 "cells": [
  {
   "cell_type": "markdown",
   "metadata": {},
   "source": [
    "# Acting Under Uncertainty"
   ]
  },
  {
   "cell_type": "markdown",
   "metadata": {},
   "source": [
    "So far we have looked at planning were we can list all finite outcomes, however realistic problems have unbounded outcomes with associated likelyhoods. If someone has toothache, it doesnt apply they have a cavity, there are many problem.\n",
    "\n",
    "One solution is to express degrees of belief in propositions using probability theory, any ignorance in the domain is lost in the noise of the probability distribution.\n",
    "\n",
    "Agents have _prefrences_ over _outcomes_ of plans. We employ _utility theory_ to reason about prefrences based of _degree of usefulness_.\n",
    "\n",
    "An agent is rational iff it chooses the action the yields the highest expected utility, averaged over all possible outcomes of the action."
   ]
  },
  {
   "cell_type": "markdown",
   "metadata": {},
   "source": [
    "## Design for a decision-theoretical agent"
   ]
  },
  {
   "cell_type": "markdown",
   "metadata": {},
   "source": [
    "A decision-theoretical agent is characterized by the following perception-action loop:\n",
    "\n",
    "1. Update belief state based on previous action and percept.\n",
    "2. Calculate outcome probabilities for actions given action descriptions and belief states\n",
    "3. Select action with highest expected utility given probabilities of outcomes and utility information.\n"
   ]
  }
 ],
 "metadata": {
  "kernelspec": {
   "display_name": "Python 3",
   "language": "python",
   "name": "python3"
  },
  "language_info": {
   "codemirror_mode": {
    "name": "ipython",
    "version": 3
   },
   "file_extension": ".py",
   "mimetype": "text/x-python",
   "name": "python",
   "nbconvert_exporter": "python",
   "pygments_lexer": "ipython3",
   "version": "3.6.4"
  }
 },
 "nbformat": 4,
 "nbformat_minor": 2
}
