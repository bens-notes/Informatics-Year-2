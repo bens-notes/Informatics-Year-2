{
 "cells": [
  {
   "cell_type": "markdown",
   "metadata": {},
   "source": [
    "# AVL Trees"
   ]
  },
  {
   "cell_type": "markdown",
   "metadata": {},
   "source": [
    "An implementation of dictionarys using a hash table has a worst case of $\\Theta(n)$, however in practice the worst case is rare. If you cannot afford to hit the worst case however an AVL tree provides an $\\Theta(\\lg n)$ implementation."
   ]
  },
  {
   "cell_type": "markdown",
   "metadata": {},
   "source": [
    "## Binary Tree"
   ]
  },
  {
   "cell_type": "markdown",
   "metadata": {},
   "source": [
    "In this example we will have integer keys and string values. As long as the keys are comparable, any types can be used for the key and values."
   ]
  },
  {
   "cell_type": "markdown",
   "metadata": {},
   "source": [
    "Here is an implementation for insertItem. If the root is null, then we are at a leaf node, and the `key` `value` pair is inserted, otherwise we compare the key and go left or right."
   ]
  },
  {
   "cell_type": "markdown",
   "metadata": {},
   "source": [
    "## Binary Search Tree"
   ]
  },
  {
   "cell_type": "markdown",
   "metadata": {},
   "source": [
    "Before we consider AVL trees, lets look at a `findElement` implementation using binary search trees.\n",
    "\n",
    "```\n",
    "Algorithum findElement(k)\n",
    "    if isEmpty(T) then\n",
    "        return NO_SUCH_KEY\n",
    "    else\n",
    "        u <- root\n",
    "        while (u is not null) and (u.key != k) do\n",
    "            if k < u.key then\n",
    "                u <- u.left\n",
    "            else\n",
    "                u <- u.right\n",
    "        end while\n",
    "        if (u is not null) and (u.key = k) then\n",
    "            return u.element\n",
    "        else\n",
    "            return NO_SUCH_KEY\n",
    "```\n",
    "\n",
    "In the worst case, the while loop will step through the longest chain of nodes to a leaf node at the bottom of the tree. The longest path in a tree is the height of the tree, thus for the run time is $O(h)$ where $h$ is the height of the tree. In fact `insertItem` and `removeItem` implementations are also $O(h)$."
   ]
  },
  {
   "cell_type": "code",
   "execution_count": 1,
   "metadata": {},
   "outputs": [
    {
     "data": {
      "application/vnd.jupyter.widget-view+json": {
       "model_id": "ed68bf0164d3494a8a8defe989182647",
       "version_major": 2,
       "version_minor": 0
      },
      "text/html": [
       "<p>Failed to display Jupyter Widget of type <code>VBox</code>.</p>\n",
       "<p>\n",
       "  If you're reading this message in the Jupyter Notebook or JupyterLab Notebook, it may mean\n",
       "  that the widgets JavaScript is still loading. If this message persists, it\n",
       "  likely means that the widgets JavaScript library is either not installed or\n",
       "  not enabled. See the <a href=\"https://ipywidgets.readthedocs.io/en/stable/user_install.html\">Jupyter\n",
       "  Widgets Documentation</a> for setup instructions.\n",
       "</p>\n",
       "<p>\n",
       "  If you're reading this message in another frontend (for example, a static\n",
       "  rendering on GitHub or <a href=\"https://nbviewer.jupyter.org/\">NBViewer</a>),\n",
       "  it may mean that your frontend doesn't currently support widgets.\n",
       "</p>\n"
      ],
      "text/plain": [
       "VBox(children=(Button(description='Add random node', style=ButtonStyle()), Output()))"
      ]
     },
     "metadata": {},
     "output_type": "display_data"
    }
   ],
   "source": [
    "from random import randrange\n",
    "import ipywidgets as widgets\n",
    "from IPython.display import display, clear_output\n",
    "\n",
    "\n",
    "class Node():\n",
    "    def __init__(self, key, value):\n",
    "        self.key = key\n",
    "        self.value = value\n",
    "        self.left = None\n",
    "        self.right = None\n",
    "        self.parent = None\n",
    "        \n",
    "    def height(self):\n",
    "        if self.left is None and self.right is None:\n",
    "            return 1\n",
    "        elif self.left is None:\n",
    "            return 1 + self.right.height()\n",
    "        elif self.right is None:\n",
    "            return 1 + self.left.height()\n",
    "        else:\n",
    "            return 1 + max(self.left.height(), self.right.height())\n",
    "        \n",
    "    def insert(self, node):\n",
    "        if node.key > self.key:\n",
    "            self.right = node\n",
    "            node.parent = self\n",
    "        else:\n",
    "            self.left = node\n",
    "            node.parent = self\n",
    "        \n",
    "    def __str__(self, level=0, prefix=\"\"):\n",
    "        ret = \"\\t\"*level + \"{}{}\".format(prefix, repr(self.value))\n",
    "        ret += \"\\n\"\n",
    "        if self.left:\n",
    "            ret += self.left.__str__(level+1, \"l:\")\n",
    "        if self.right:\n",
    "            ret += self.right.__str__(level+1, \"r:\")\n",
    "        return ret\n",
    "        \n",
    "def insertItem(root, key, value):\n",
    "    u = root\n",
    "    while True:\n",
    "        if key > u.key:\n",
    "            if u.right is None:\n",
    "                break\n",
    "            u = u.right\n",
    "        else:\n",
    "            if u.left is None:\n",
    "                break\n",
    "            u = u.left\n",
    "    \n",
    "    u.insert(Node(key, value))\n",
    "        \n",
    "root = Node(500, \"ROOT\")\n",
    "\n",
    "button = widgets.Button(description=\"Add random node\")\n",
    "out = widgets.Output()\n",
    "\n",
    "def insertRandom():\n",
    "    value = randrange(1000)\n",
    "    insertItem(root, value, str(value))\n",
    "    with out:\n",
    "        clear_output()\n",
    "        print(root)\n",
    "        print(\"Height: \", root.height())\n",
    "        \n",
    "[insertRandom() for i in range(5)]\n",
    "button.on_click(lambda b: insertRandom())\n",
    "widgets.VBox([button, out])"
   ]
  },
  {
   "cell_type": "markdown",
   "metadata": {},
   "source": [
    "If $h < n$ then the binary search implementation seems to be an improvement on hashtables however the tree can be _unbalanced_. In the worst case a tree storing $n$ items would have a height $n$ (essentially a linked list)."
   ]
  },
  {
   "cell_type": "code",
   "execution_count": null,
   "metadata": {},
   "outputs": [],
   "source": [
    "root2 = Node(1, \"1\")\n",
    "[insertItem(root2, i, str(i)) for i in range(2, 6)]\n",
    "print(root2)"
   ]
  },
  {
   "cell_type": "markdown",
   "metadata": {},
   "source": [
    "## Balancing"
   ]
  },
  {
   "cell_type": "markdown",
   "metadata": {},
   "source": [
    "AVL trees are an extension on binary trees, which keep the tree balanced by maintaining the following property\n",
    "\n",
    "> A vertex is balanced if the heights of its children differ by at most one.\n",
    "\n",
    "With this constraint, the height of an $n$ element AVL tree is $O(\\lg n)$.\n",
    "\n",
    "For $h \\in \\mathbb{N}$, let $n(h)$ denote the minimum number of items stored in an AVL tree of height $h$. By induction we will show that $n(h) > 2^{h/2} - 1$.\n",
    "\n",
    "$n(1) = 1 > \\sqrt{2} - 1$ and $n(2) = 2 > 2 - 1$, so the base cases hold. Suppose $h \\geq 3$ and that $n(h) > 2^{h/2} - 1$ holds for $h-1$ and $h-2$. We observe that\n",
    "\n",
    "$$\n",
    "n(h) \\geq 1 + n(h-1) + n(h-2)\n",
    "$$\n",
    "\n",
    "That is the minumum number of items stored in a tree of height $h$ is atleast as much as the sub trees (which by the balancing property cannot differ by more than 1) plus 1 for the root node. By the inductive hypothesis:\n",
    "\n",
    "$$\n",
    "\\begin{align}\n",
    "n(h) &\\geq 1 + (2^{\\frac{h-1}{2}} - 1) + (2^{\\frac{h-2}{2}} - 1) \\\\\n",
    "&= 2^{\\frac{h-1}{2}} + 2^{\\frac{h-2}{2}} - 1 \\\\\n",
    "&= (2^{-\\frac{1}{2}} + 2^{-1}) 2^{h/2} - 1 \\\\\n",
    "&> 2^{h/2} - 1\n",
    "\\end{align}\n",
    "$$\n",
    "\n",
    "Thus for every tree of height $h$, $n \\geq n(h) > 2^{h/2} - 1$, thus:\n",
    "\n",
    "$$\n",
    "\\begin{align}\n",
    "n &> 2^{h/2} - 1 \\\\\n",
    "n + 1 &> 2^{h/2} \\\\\n",
    "\\lg (n + 1) &> \\frac{h}{2} \\\\\n",
    "h &< 2 \\lg (n + 1) \\\\\n",
    "&= O(\\lg n)\n",
    "\\end{align}\n",
    "$$"
   ]
  },
  {
   "cell_type": "markdown",
   "metadata": {},
   "source": [
    "## Insertion"
   ]
  },
  {
   "cell_type": "markdown",
   "metadata": {},
   "source": [
    "Insertion into an AVL tree is not as simple as a binary tree, since the tree needs to be balanced after the insertion. To insert a node we start with normal binary tree insertion, which is $O(h) = O(\\lg n)$, then we repair the tree if it is no longer balanced. If the tree is no longer balanced, the error will be somewhere in the path between the new node and the root, thus we move back up the tree looking for an error. \n",
    "\n",
    "If $z$ is not balanced then its children must differ in height by 2 or more. Let $y$ be the child with greater height, if both children of $y$ have the same height, then the height of $y$ hasnt changed, thus $z$ is still balanced, which is a contraditiction. Thus the new node is in the subtree of $y$ with the largest height which we will call $x$. To repair the tree we do 1 of 4 diffrent rotation operations.\n",
    "\n",
    "### Left-Left heavy\n",
    "- The left sub-tree of the left child grew.\n",
    "- To balance: Right rotation around the root.\n",
    "\n",
    "![](res/left-left-heavy.png)\n",
    "\n",
    "### Left-Right heavy\n",
    "- The right sub-tree of the left child grew.\n",
    "- To balance: Left rotation around child, then right rotation around root.\n",
    "\n",
    "![](res/left-right-heavy.png)\n",
    "\n",
    "### Right-Left heavy\n",
    "- The left sub-tree of the right child grew.\n",
    "- To balance: right rotation around child, then  left rotation around root.\n",
    "    \n",
    "![](res/right-left-heavy.png)\n",
    "\n",
    "### Right-Right heavy\n",
    "- The right sub-tree of the right child grew.\n",
    "- To balance: Left rotation around root.\n",
    "\n",
    "![](res/right-right-heavy.png)"
   ]
  },
  {
   "cell_type": "code",
   "execution_count": null,
   "metadata": {},
   "outputs": [],
   "source": [
    "from copy import copy\n",
    "\n",
    "class BalancedNode(Node):\n",
    "    def rr_rot(self):\n",
    "        temp = copy(self.parent.right);\n",
    "        self.parent.right = temp.left;\n",
    "        temp.left = parent;"
   ]
  }
 ],
 "metadata": {
  "kernelspec": {
   "display_name": "Python 3",
   "language": "python",
   "name": "python3"
  },
  "language_info": {
   "codemirror_mode": {
    "name": "ipython",
    "version": 3
   },
   "file_extension": ".py",
   "mimetype": "text/x-python",
   "name": "python",
   "nbconvert_exporter": "python",
   "pygments_lexer": "ipython3",
   "version": "3.5.2"
  }
 },
 "nbformat": 4,
 "nbformat_minor": 2
}
