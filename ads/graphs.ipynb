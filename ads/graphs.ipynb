{
 "cells": [
  {
   "cell_type": "markdown",
   "metadata": {},
   "source": [
    "# Graphs"
   ]
  },
  {
   "cell_type": "markdown",
   "metadata": {},
   "source": [
    "A graph $G$ is comprised of two sets $V$ (the set of vertices) and $E$ (the set of edges $E \\subseteq V \\times V$). For an edge $e = (u, v)$ we say $e$ is directed from $u$ to $v$. $G$ is undirected if $\\forall v, w \\in V$\n",
    "\n",
    "$$\n",
    "(v, w) \\in E \\iff (w, v) \\in E\n",
    "$$"
   ]
  },
  {
   "cell_type": "markdown",
   "metadata": {},
   "source": [
    "## Adjacency matrix"
   ]
  },
  {
   "cell_type": "markdown",
   "metadata": {},
   "source": [
    "An adjacency matrix is an $n \\times n$ matrix\n",
    "\n",
    "$$\n",
    "A = (a_{ij})_{0 \\leq i, j \\leq n-1}\n",
    "$$\n",
    "\n",
    "where \n",
    "\n",
    "$$\n",
    "a_{ij} = \\begin{cases}\n",
    "1 & \\text{if their is an edge from $i$ to $j$} \\\\\n",
    "0 & \\text{otherwise}\n",
    "\\end{cases}\n",
    "$$\n",
    "\n",
    "For example:\n",
    "\n",
    "![](res/adjacency_matrix.png)"
   ]
  },
  {
   "cell_type": "markdown",
   "metadata": {},
   "source": [
    "## Adjacency list"
   ]
  },
  {
   "cell_type": "markdown",
   "metadata": {},
   "source": [
    "An array of lists, each entry in the array is adjacent to all elements in the list, for example:\n",
    "\n",
    "![](res/adjacency_list.png)"
   ]
  },
  {
   "cell_type": "markdown",
   "metadata": {},
   "source": [
    "## Adjacency Matrices vs Adjaceny Lists"
   ]
  },
  {
   "cell_type": "markdown",
   "metadata": {},
   "source": [
    "|     | Adjacency matrix | Adjacency lists |\n",
    "| --- | ---------------- | --------------- |\n",
    "| Space | $\\Theta(n^2)$ | $\\Theta(n + m)$ |\n",
    "| Time to check if $w$ is adjacent to $v$ | $\\Theta(1)$ | $\\Theta(1 + out(v))$ |\n",
    "| Time to visit all $w$ adjacent to $v$ | $\\Theta(n)$ | $\\Theta(1 + out(v))$ |\n",
    "| Time to visit all edges | $\\Theta(n^2)$ | $\\Theta(n + m)$ |"
   ]
  },
  {
   "cell_type": "markdown",
   "metadata": {},
   "source": [
    "## General graph search strategy"
   ]
  },
  {
   "cell_type": "markdown",
   "metadata": {},
   "source": [
    "The general strategy to transverse a graph is as follows\n",
    "\n",
    "```\n",
    "Alogrithm searchFromVertex(G, v)\n",
    "    mark v\n",
    "    put v onto schedule S\n",
    "    while schedule S is not empty do\n",
    "        remove a vertex v from S\n",
    "        for all w adjacent to v do\n",
    "            if w is not marked then\n",
    "                mark w\n",
    "                put w onto schedule S\n",
    "```\n",
    "\n",
    "We mark vertices that we have visited so we eventually terminate. `searchFromVertex` transverses all vertices connected to `v`, but if the graph has disconnected components, `searchFromVertex` wont visit them, thus we need an outer routing:\n",
    "\n",
    "```\n",
    "Algorithm search(G)\n",
    "    initilize schedule S\n",
    "    for all v in V do\n",
    "        if v in not marked then\n",
    "            searchFromVertex(G, v)\n",
    "```"
   ]
  },
  {
   "cell_type": "markdown",
   "metadata": {},
   "source": [
    "## Breadth first search"
   ]
  },
  {
   "cell_type": "markdown",
   "metadata": {},
   "source": [
    "Breadth first search visits all neighbors of a vertex $v$ before visting the neighbors neigbors. To acheive this we use the general strategy where the schedule is a queue."
   ]
  },
  {
   "cell_type": "markdown",
   "metadata": {},
   "source": [
    "## Depth first search"
   ]
  },
  {
   "cell_type": "markdown",
   "metadata": {},
   "source": [
    "Visit the first neighbor of $v$, then the first neigbor of the neigbor, and so on until you reach the max depth, then backtrack and visit the other neighbors. To acheive this we use the general stratergt where the schedule is a stack.\n",
    "\n",
    "Since DFS uses a stack we can convert it easily into a recusive form:\n",
    "\n",
    "```\n",
    "Algorithm dfs(G)\n",
    "    for all v in V do\n",
    "        if v in not marked then\n",
    "            dfsFromVertex(G, v)\n",
    "            \n",
    "Algorithm dfsFromVertex(G, v)\n",
    "    mark v\n",
    "    for all w adjacent to v do\n",
    "        if w is not marked then\n",
    "            dfsFromVertex(G, w)\n",
    "```"
   ]
  },
  {
   "cell_type": "markdown",
   "metadata": {},
   "source": [
    "## Runtime of DFS"
   ]
  },
  {
   "cell_type": "markdown",
   "metadata": {},
   "source": [
    "First note that each vertex gets marked exactly once, thus `dfsFromVertex` is executed once on every vertex. We can then say the runtime is $\\Theta(n)$ (n calls to `dfsFromVertex` plus the time for $n$ calls to `dfsFromVertex`.\n",
    "\n",
    "`dfsFromVertex` has a runtime of $\\Theta(1 + out(v))$ (since we loop over all adjacent vertices from $v$.\n",
    "\n",
    "Finnaly we can compute the overall runtime:\n",
    "\n",
    "$$\n",
    "\\begin{align}\n",
    "T(n, m) &= \\Theta(n) + \\sum_{v \\in V} \\Theta(1 + out(v)) \\\\\n",
    "&= \\Theta\\left(n + \\sum_{v \\in V} 1 + out(v)\\right)\\\\\n",
    "&= \\Theta\\left(n + n + \\sum_{v \\in V} out(n) \\right) \\\\\n",
    "&= \\Theta(n + m)\n",
    "\\end{align}\n",
    "$$"
   ]
  }
 ],
 "metadata": {
  "kernelspec": {
   "display_name": "Python 3",
   "language": "python",
   "name": "python3"
  },
  "language_info": {
   "codemirror_mode": {
    "name": "ipython",
    "version": 3
   },
   "file_extension": ".py",
   "mimetype": "text/x-python",
   "name": "python",
   "nbconvert_exporter": "python",
   "pygments_lexer": "ipython3",
   "version": "3.6.4"
  }
 },
 "nbformat": 4,
 "nbformat_minor": 2
}
