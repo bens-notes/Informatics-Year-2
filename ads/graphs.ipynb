{
 "cells": [
  {
   "cell_type": "markdown",
   "metadata": {},
   "source": [
    "# Graphs"
   ]
  },
  {
   "cell_type": "markdown",
   "metadata": {},
   "source": [
    "A graph $G$ is comprised of two sets $V$ (the set of vertices) and $E$ (the set of edges $E \\subseteq V \\times V$). For an edge $e = (u, v)$ we say $e$ is directed from $u$ to $v$. $G$ is undirected if $\\forall v, w \\in V$\n",
    "\n",
    "$$\n",
    "(v, w) \\in E \\iff (w, v) \\in E\n",
    "$$"
   ]
  },
  {
   "cell_type": "markdown",
   "metadata": {},
   "source": [
    "## Adjacency matrix"
   ]
  },
  {
   "cell_type": "markdown",
   "metadata": {},
   "source": [
    "An adjacency matrix is an $n \\times n$ matrix\n",
    "\n",
    "$$\n",
    "A = (a_{ij})_{0 \\leq i, j \\leq n-1}\n",
    "$$\n",
    "\n",
    "where \n",
    "\n",
    "$$\n",
    "a_{ij} = \\begin{cases}\n",
    "1 & \\text{if their is an edge from $i$ to $j$} \\\\\n",
    "0 & \\text{otherwise}\n",
    "\\end{cases}\n",
    "$$\n",
    "\n",
    "For example:\n",
    "\n",
    "![](res/adjacency_matrix.png)"
   ]
  },
  {
   "cell_type": "markdown",
   "metadata": {},
   "source": [
    "## Adjacency list"
   ]
  },
  {
   "cell_type": "markdown",
   "metadata": {},
   "source": [
    "An array of lists, each entry in the array is adjacent to all elements in the list, for example:\n",
    "\n",
    "![](res/adjacency_list.png)"
   ]
  },
  {
   "cell_type": "markdown",
   "metadata": {},
   "source": [
    "## Adjacency Matrices vs Adjaceny Lists"
   ]
  },
  {
   "cell_type": "markdown",
   "metadata": {},
   "source": [
    "|     | Adjacency matrix | Adjacency lists |\n",
    "| --- | ---------------- | --------------- |\n",
    "| Space | $\\Theta(n^2)$ | $\\Theta(n + m)$ |\n",
    "| Time to check if $w$ is adjacent to $v$ | $\\Theta(1)$ | $\\Theta(1 + out(v))$ |\n",
    "| Time to visit all $w$ adjacent to $v$ | $\\Theta(n)$ | $\\Theta(1 + out(v))$ |\n",
    "| Time to visit all edges | $\\Theta(n^2)$ | $\\Theta(n + m)$ |"
   ]
  },
  {
   "cell_type": "markdown",
   "metadata": {},
   "source": [
    "## General graph search strategy"
   ]
  },
  {
   "cell_type": "markdown",
   "metadata": {},
   "source": [
    "The general strategy to transverse a graph is as follows\n",
    "\n",
    "```\n",
    "Alogrithm searchFromVertex(G, v)\n",
    "    mark v\n",
    "    put v onto schedule S\n",
    "    while schedule S is not empty do\n",
    "        remove a vertex v from S\n",
    "        for all w adjacent to v do\n",
    "            if w is not marked then\n",
    "                mark w\n",
    "                put w onto schedule S\n",
    "```\n",
    "\n",
    "We mark vertices that we have visited so we eventually terminate. `searchFromVertex` transverses all vertices connected to `v`, but if the graph has disconnected components, `searchFromVertex` wont visit them, thus we need an outer routing:\n",
    "\n",
    "```\n",
    "Algorithm search(G)\n",
    "    initilize schedule S\n",
    "    for all v in V do\n",
    "        if v in not marked then\n",
    "            searchFromVertex(G, v)\n",
    "```"
   ]
  },
  {
   "cell_type": "markdown",
   "metadata": {},
   "source": [
    "## Breadth first search"
   ]
  },
  {
   "cell_type": "markdown",
   "metadata": {},
   "source": [
    "Breadth first search visits all neighbors of a vertex $v$ before visting the neighbors neigbors. To acheive this we use the general strategy where the schedule is a queue."
   ]
  },
  {
   "cell_type": "markdown",
   "metadata": {},
   "source": [
    "## Depth first search"
   ]
  },
  {
   "cell_type": "markdown",
   "metadata": {},
   "source": [
    "Visit the first neighbor of $v$, then the first neigbor of the neigbor, and so on until you reach the max depth, then backtrack and visit the other neighbors. To acheive this we use the general stratergt where the schedule is a stack.\n",
    "\n",
    "Since DFS uses a stack we can convert it easily into a recusive form:\n",
    "\n",
    "```\n",
    "Algorithm dfs(G)\n",
    "    for all v in V do\n",
    "        if v in not marked then\n",
    "            dfsFromVertex(G, v)\n",
    "            \n",
    "Algorithm dfsFromVertex(G, v)\n",
    "    mark v\n",
    "    for all w adjacent to v do\n",
    "        if w is not marked then\n",
    "            dfsFromVertex(G, w)\n",
    "```"
   ]
  },
  {
   "cell_type": "markdown",
   "metadata": {},
   "source": [
    "## Runtime of DFS"
   ]
  },
  {
   "cell_type": "markdown",
   "metadata": {},
   "source": [
    "First note that each vertex gets marked exactly once, thus `dfsFromVertex` is executed once on every vertex. We can then say the runtime is $\\Theta(n)$ (n calls to `dfsFromVertex` plus the time for $n$ calls to `dfsFromVertex`.\n",
    "\n",
    "`dfsFromVertex` has a runtime of $\\Theta(1 + out(v))$ (since we loop over all adjacent vertices from $v$.\n",
    "\n",
    "Finnaly we can compute the overall runtime:\n",
    "\n",
    "$$\n",
    "\\begin{align}\n",
    "T(n, m) &= \\Theta(n) + \\sum_{v \\in V} \\Theta(1 + out(v)) \\\\\n",
    "&= \\Theta\\left(n + \\sum_{v \\in V} 1 + out(v)\\right)\\\\\n",
    "&= \\Theta\\left(n + n + \\sum_{v \\in V} out(n) \\right) \\\\\n",
    "&= \\Theta(n + m)\n",
    "\\end{align}\n",
    "$$"
   ]
  },
  {
   "cell_type": "markdown",
   "metadata": {},
   "source": [
    "## Connected components"
   ]
  },
  {
   "cell_type": "markdown",
   "metadata": {},
   "source": [
    "We can use DFS to find all the connected components of an (undirected) graph.\n",
    "\n",
    "```\n",
    "Algorithm connComp(G)\n",
    "    for all v in V do\n",
    "        if v is not marked marked then\n",
    "            print \"new component\"\n",
    "            ccFromVertex(G, v)\n",
    "            \n",
    "Algorithm ccFromVertex(G, v)\n",
    "    mark v\n",
    "    print v\n",
    "    for all w adjacent to v do\n",
    "        if v is not marked marked then\n",
    "            ccFromVertex(G, v)\n",
    "```"
   ]
  },
  {
   "cell_type": "markdown",
   "metadata": {},
   "source": [
    "## Topological Sorting"
   ]
  },
  {
   "cell_type": "markdown",
   "metadata": {},
   "source": [
    "A topological order for a graph $G$ is a total order $\\prec$ of the vertex set $V$ such that for all edges $(v, w) \\in E$ we have $v \\prec w$. For example:\n",
    "\n",
    "![](res/topological_sort.png)\n",
    "\n",
    "Has a topological sort:\n",
    "\n",
    "$$\n",
    "8 \\prec 6 \\prec 7 \\prec 9 \\prec 5 \\prec 4 \\prec 2 \\prec 0 \\prec 1 \\prec 3\n",
    "$$\n",
    "\n",
    "A directed graph has a topological order iff it has no cycles. To see why this is the case, pick a random vertice, if it is terminal make it the largest (in the topological sort) and remove it from the graph, otherwise pick a random neighbor. Since their are no cycles and the graph is finite you will eventually reach a terminal node. Repeat until the graph is empty.\n",
    "\n",
    "We can use DFS to find this topological order (or if their is cycles). We will refer to $v$ as finished if `dfsFromVertex(G, v)` has been completed. Every vertice will be in 1 of 3 states:\n",
    "\n",
    "- Not yet visited (white)\n",
    "- Visited but not finished (grey)\n",
    "- Finished (black)\n",
    "\n",
    "If DFS reaches a grey vertex, then we know we have already visited it before, thus their must be a cycle, thus no topological sorting exists.\n",
    "\n",
    "To prove this for a graph $G$ and a vertex $v$ consider the start of execution of `dfsFromVertex`. For all vertices $w$ we have:\n",
    "\n",
    "1. If $w$ is white and reachable from $v$, then $w$ will be black before $v$.\n",
    "2. If $w$ is grey, then $v$ is reachable from $w$.\n",
    "\n",
    "We will define the order of $V$ as\n",
    "\n",
    "$$\n",
    "v \\prec w \\iff \\text{$w$ becomes black before $v$}\n",
    "$$\n",
    "\n",
    "If $G$ is a DAG, then $\\prec$ is an typological order.\n",
    "\n",
    "Suppose $(v, w) \\in E$. Consider `dfsFromVertex(G, v)`\n",
    "\n",
    "- If $w$ is already black $v \\prec w$\n",
    "- Of $w$ is white then by part 1 above $w$ wil be black before $v$, thus $v \\prec w$\n",
    "- If $w$ is grey, then by part 2 above $v$ is reachable from $w$, thus their is a path from $w$ to $v$. The path and the edge $(v, w)$ form a cycle (contradiction)\n",
    "\n",
    "The psudocode for this process:\n",
    "\n",
    "```\n",
    "Algorithm topSort(G)\n",
    "    initialize array state (set all entrys to white)\n",
    "    initialize linked list L\n",
    "    for all v in V do\n",
    "        if state[v] = white then\n",
    "            sortFromVertex(G, v)\n",
    "    print(L)\n",
    "    \n",
    "Algorithm sortFromVertex(G, v)\n",
    "    state[v] <- grey\n",
    "    for all w adjacent to v do\n",
    "        if state[w] = white then\n",
    "            sortFromVertex(G, w)\n",
    "        else if state[w] = grey then\n",
    "            print \"G has a cycle\"\n",
    "            halt\n",
    "    state[v] <- black\n",
    "    L.insertFirst(v)\n",
    "```"
   ]
  }
 ],
 "metadata": {
  "kernelspec": {
   "display_name": "Python 3",
   "language": "python",
   "name": "python3"
  },
  "language_info": {
   "codemirror_mode": {
    "name": "ipython",
    "version": 3
   },
   "file_extension": ".py",
   "mimetype": "text/x-python",
   "name": "python",
   "nbconvert_exporter": "python",
   "pygments_lexer": "ipython3",
   "version": "3.6.4"
  }
 },
 "nbformat": 4,
 "nbformat_minor": 2
}
