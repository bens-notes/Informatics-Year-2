{
 "cells": [
  {
   "cell_type": "markdown",
   "metadata": {},
   "source": [
    "# Quicksort"
   ]
  },
  {
   "cell_type": "markdown",
   "metadata": {},
   "source": [
    "As opposed to `mergeSort` and `heapSort`, `quickSort` has a worst case runtime of $\\Theta(n^2)$, however in practive `quickSort` is very fast.\n",
    "\n",
    "The algorithm works by:\n",
    "\n",
    "1. If the input array is less than two elements there is nothing to do, it is sorted by defintion\n",
    "2. Otherwise\n",
    "    - pick a key called the `pivot`\n",
    "    - divide the array into two subarrays, one with keys $\\leq$ `pivot`, the other with keys $>$ `pivot`. \n",
    "3. Sort subarrays recursively\n",
    "\n",
    "```\n",
    "Algorithm quickSort(A, i, j)\n",
    "    if i < j then\n",
    "        split <- partition(A, i, j)\n",
    "        quickSort(A, i, split)\n",
    "        quickSort(A, split + 1, j)\n",
    "```\n",
    "\n",
    "Most of the work is dont in the `partition` routing. The simplest choise of `pivot` is just the first element.\n",
    "\n",
    "```\n",
    "Algorithm partition(A, i, j)\n",
    "    pivot <- A[i].key\n",
    "    p <- i - 1\n",
    "    q <- j + 1\n",
    "    while TRUE do\n",
    "        do q <- q - 1 while A[q].key > pivot\n",
    "        do p <- p + 1 while A[p].key < pivot\n",
    "        if p < q then\n",
    "            exchange A[p], A[q]\n",
    "        else\n",
    "            return q\n",
    "```\n",
    "\n",
    "Here is an example of `partion`\n",
    "\n",
    "![](res/partion.png)"
   ]
  },
  {
   "cell_type": "markdown",
   "metadata": {},
   "source": [
    "## Correctness"
   ]
  },
  {
   "cell_type": "markdown",
   "metadata": {},
   "source": [
    "To see that `partition` is correct we observe that:\n",
    "\n",
    "- After each iteration of loop 4-9 all indices $r$ such that $q < r < j$ have $A[r].key \\geq pivot$ and theat all indices such that $i < r < p$ have $A[r].ley  \\leq pivot$\n",
    "- $q \\geq i$ because at all times $A[i].key \\leq pivot$\n",
    "- $q < j$ since after tihe first iteration of the main loop $q \\leq j$.\n",
    "    - if $q < j$, it remains smaller\n",
    "    - if $q = j$, then $p < q$ thus their will be a second iteration after which $q \\leq j - 1 < j$\n",
    "    \n",
    "To see `quickSort` is correct we observe that:\n",
    "\n",
    "- $i \\leq q \\leq j - 1 < j$ thus $A[i..q]$ and $A[(q+1)..j]$ are non empty, and are thus smaller than the input array, thus the algorthm will halt\n",
    "- $A[r] \\geq pivot$ for $q +1 \\leq r \\leq j$ since from above we know $A[r].key \\geq pivot$ for $q < r \\leq j$.\n",
    "- $A[r] \\leq pivot$ for $i \\leq r \\leq q$\n",
    "    - first note that `partition(A, i, j)` halts when $p = q$ of $p = q + 1$\n",
    "    - We know $A[r].key \\leq pivot$ for $i \\leq r < p$\n",
    "    - If $p = q + 1$ then $i \\leq r \\leq q$, thus we are done\n",
    "    - If $p = q$ we must verify $A[p] \\leq pivot$\n",
    "        - The last time `do q <- q - 1 while A[q].key > pivot` executes $A[q].key \\not> pivot$ thus $A[q].key \\leq pivot$\n",
    "        - Since this is the final value of $q$ we are done"
   ]
  },
  {
   "cell_type": "markdown",
   "metadata": {},
   "source": [
    "## Runtime"
   ]
  },
  {
   "cell_type": "markdown",
   "metadata": {},
   "source": [
    "Let $n = j - i + 1$. During the execution of `partition` we always have $q \\geq p - 1$ because all keys bellow $p$ are $\\leq pivot$ and all keys above $q$ are $\\geq pivot$. This implies that the runtime of partition of $\\Theta(b)$. Thus we get this recurrence for `quickSort`:\n",
    "\n",
    "$$\n",
    "T_{quickSort}(n) = \\max_{1 \\leq s \\leq n-1}(T_{quickSort}(s) + T_{quickSort}(n-s)) + \\Theta(n)\n",
    "$$\n",
    "\n",
    "It can be shown this implys $T_{quickSort}(n) = \\Theta(n^2)$. Consider the intuitive worst case, a split that yeilds arrays of size $1$ and $n-1$.\n",
    "\n",
    "$$\n",
    "T(n) = T(n-1) + T(1) + \\Theta(b) = T(n-1) + \\Theta(n)\n",
    "$$\n",
    "\n",
    "which implies $T(n) = \\Theta(n^2)$. One example case where this could happen is if the input array is already sorted.\n",
    "\n",
    "The reason `quickSort` is still fast despite being $\\Theta(n^2)$ is that good splits are more likely than bad splits. Their are some techniques to avoid the worst cases:\n",
    "\n",
    "- Make the pivot the center\n",
    "- Pick a random pivot\n",
    "\n",
    "Infact picking a random pivot means that for a large $n$, `quickSort` runs in $O(n \\log n)$ time. "
   ]
  }
 ],
 "metadata": {
  "kernelspec": {
   "display_name": "Python 3",
   "language": "python",
   "name": "python3"
  },
  "language_info": {
   "codemirror_mode": {
    "name": "ipython",
    "version": 3
   },
   "file_extension": ".py",
   "mimetype": "text/x-python",
   "name": "python",
   "nbconvert_exporter": "python",
   "pygments_lexer": "ipython3",
   "version": "3.6.4"
  }
 },
 "nbformat": 4,
 "nbformat_minor": 2
}
