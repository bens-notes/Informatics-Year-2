{
 "cells": [
  {
   "cell_type": "markdown",
   "metadata": {},
   "source": [
    "# Priority Queues And Heaps"
   ]
  },
  {
   "cell_type": "markdown",
   "metadata": {},
   "source": [
    "## Priority Queue ADT"
   ]
  },
  {
   "cell_type": "markdown",
   "metadata": {},
   "source": [
    "A priority queue stores elements with an associated priority. Elements with the highest priority are the first ones out.\n",
    "\n",
    "- `insertItem(k, e)`: Inserts element `e` with key `k`\n",
    "- `maxElement()`: Returns an element with mazimum priority, error if queue is empty\n",
    "- `removeMax()`: Remove and return the highest priority element, error if queue is empty\n",
    "- `isEmpty()`: Returns true if the queue is empty, false otherwise"
   ]
  },
  {
   "cell_type": "markdown",
   "metadata": {},
   "source": [
    "## Search tree implementation"
   ]
  },
  {
   "cell_type": "markdown",
   "metadata": {},
   "source": [
    "A straitforward implementation would use binary search trees were elements would be stored by priority. This would have a runtime of $\\Theta(h)$ (where $h$ is the height of the tree), except `isEmpty()` which is clearly $\\Theta(1)$. Using AVL trees we can reduce this bound to $\\Theta(\\lg n)$."
   ]
  },
  {
   "cell_type": "markdown",
   "metadata": {},
   "source": [
    "## Abstract Heaps"
   ]
  },
  {
   "cell_type": "markdown",
   "metadata": {},
   "source": [
    "For a binary tree, the $i$th _level_ is all vertices distance $i$ from the root. For example, the $0$th level is the root, the $1$st level is the children of the root, etc. Recall that for an almost complete binary tree all levels except the last will have the maximum vertices (that is the $i$th level has $2^i$ vertices).\n",
    "\n",
    "![](res/complete_trees.png)\n",
    "\n",
    "The left most is the only \"almost complete\" binary tree."
   ]
  },
  {
   "cell_type": "markdown",
   "metadata": {},
   "source": [
    "An almost complete binary tree with $n$ internal vertices has height $\\lg \\lfloor \\lg n \\rfloor + 1$.\n",
    "\n",
    "First recall the a binary tree of height $h$ has a maximum of $2^{h+1}-1$ vertices ($2^h$ leaves and $2^h - 1$ internal vertices).\n",
    "\n",
    "Let $n$ denote the number of vertices of an almost complete tree of height $h$.\n",
    "\n",
    "$n$ is greater than the number of internal veritces of a complete tree of height $h-1$. That is $2^{h-1} - 1 < n$ or $2^{h-1} \\leq n$. $n$ is atmost the number of vertices of a tree of height $h$, thus the bounds for $n$ are:\n",
    "\n",
    "$$\n",
    "2^{h-1} \\leq n \\leq 2^h - 1\n",
    "$$\n",
    "\n",
    "For all $n$ where $2^{h-1} \\leq n \\leq 2^h - 1$ we get $\\lfloor \\lg n \\rfloor = h - 1$"
   ]
  },
  {
   "cell_type": "markdown",
   "metadata": {},
   "source": [
    "A _heap_ is an almost complete binary tree with the condition that every vertex $v$ (except the root), the key stored at $v$ is less than the key stored at its parent."
   ]
  },
  {
   "cell_type": "markdown",
   "metadata": {},
   "source": [
    "### Insertion"
   ]
  },
  {
   "cell_type": "markdown",
   "metadata": {},
   "source": [
    "Create a new last vertex and insert. If the value is larger than the parent, swap them until the tree is a heap again.\n",
    "\n",
    "```\n",
    "Algorithm insertItem(k, e)\n",
    "    create new last vertex v\n",
    "    while v is not the root and k > v.parent.key do\n",
    "        store the item stored at v.parent at v\n",
    "        v <- v.parent\n",
    "    store (k, e) at v\n",
    "```\n",
    "\n",
    "The loop runs for atmost $h$, thus bt the theorem above the runtime os $\\Theta(h) = \\Theta(\\lg n)$"
   ]
  },
  {
   "cell_type": "markdown",
   "metadata": {},
   "source": [
    "### Max Element"
   ]
  },
  {
   "cell_type": "markdown",
   "metadata": {},
   "source": [
    "By the defintion of the heap the max element will be store in the root. Thus the `maxElement` operation will be $\\Theta(1)$."
   ]
  },
  {
   "cell_type": "markdown",
   "metadata": {},
   "source": [
    "### Removing Max"
   ]
  },
  {
   "cell_type": "markdown",
   "metadata": {},
   "source": [
    "We cant easily remove the root of the tree, thus we swap the root with the last vertex, remove the last vertex then repair the tree.\n",
    "\n",
    "- Starting at the root $v$, if $v$ is the maximum of $v$ and $v$'s children, then the tree is a heap since the subtrees rooted at the children are already heaps.\n",
    "- If $v$ less than one of its children, then $v$ is swapped with the child and we apply heapify recursivly\n",
    "\n",
    "```\n",
    "Algorithm heapify(v)\n",
    "    if v.left is an internal vertex and v.left.key > v.key then\n",
    "        s <- v.left\n",
    "    else\n",
    "        s <- v\n",
    "    if v.right is an internal vertex and v.right.key > s.key then\n",
    "        s <- v.right\n",
    "    if s != v then\n",
    "        exchange the items of v and s\n",
    "        heapify(s)\n",
    "```\n",
    "\n",
    "The runtime of `heapify` can be expressed in terms of $h$:\n",
    "\n",
    "$$\n",
    "T_{heapify}(h) = \\Theta(1) + T_{heapify}(h-1)\n",
    "$$\n",
    "\n",
    "To solve this recurrence we will first show that for $f: \\mathbb{N} \\rightarrow \\mathbb{R}$ such that for all $n \\geq 1$\n",
    "\n",
    "$$\n",
    "f(n) = \\Theta(1) + f(n-1)\n",
    "$$\n",
    "\n",
    "Then $f(n)$ is $O(n)$.\n",
    "\n",
    "First let $n_0 \\in \\mathbb{N}$ and $c > 0$ such that $f(n) \\leq c + f(n-1)$ for all $n \\geq n_0$. Let $d = f(n_0)$, we claim that:\n",
    "\n",
    "$$\n",
    "f(n) \\leq d + c(n - n_0)\n",
    "$$\n",
    "\n",
    "for all $n \\geq n_0$. We shall prove this by induction, suppose $n > n_0$ and $f(n) \\leq d + c(n - n_0)$ holds for $n-1$ then:\n",
    "\n",
    "$$\n",
    "f(n) \\leq c + f(n-1) \\leq c + d + c(n - 1 - n_0) = d + c(n - n_0)\n",
    "$$\n",
    "\n",
    "Finally $d + c(n - n_0) \\leq d + cn = O(n)$. By a simular argument $f = \\Omega(n)$, thus $f = \\Theta(n)$\n",
    "\n",
    "Appling this to $T_{heapify}$ we get $T_{heapify} = \\Theta(h) = \\Theta(\\log n)$"
   ]
  },
  {
   "cell_type": "markdown",
   "metadata": {},
   "source": [
    "## Array Based Implementation"
   ]
  },
  {
   "cell_type": "markdown",
   "metadata": {},
   "source": [
    "The reason for heaps is that they can be stored in arrays in an efficent mannor. Each level is stored conseqtivley, thus we get:\n",
    "\n",
    "| index | node |\n",
    "| :--- | :--- |\n",
    "| 0 | root |\n",
    "| 1 | left child of root |\n",
    "| 2 | right child of root |\n",
    "| ... | ... |\n",
    "\n",
    "This representation allows us to navigate the tree with simple arithmetic, for a node $v$:\n",
    "\n",
    "| target | operation |\n",
    "| --- | --- |\n",
    "| left child of $v$ | $2v + 1$ | \n",
    "| right child of $v$ | $2v + 2$ |\n",
    "| parent of $v$ | $\\left\\lfloor \\frac{n-2}{2} \\right\\rfloor$ |\n",
    "\n",
    "We only ever insert or remove from the end of the array, thus a dynamic array implementation (which has a $\\Theta(1)$ amortised insert/remove time) will have the following runtimes:\n",
    "\n",
    "| method | running time |\n",
    "| :--- | :--- |\n",
    "| `insertItem` | $\\Theta(\\log n)$ (amortised) |\n",
    "| `maxElement` | $\\Theta(1)$ |\n",
    "| `insertItem` | $\\Theta(\\log n)$ (amortised) |\n",
    "| `insertItem` | $\\Theta(1)$ |"
   ]
  },
  {
   "cell_type": "markdown",
   "metadata": {},
   "source": [
    "## Build Heap"
   ]
  },
  {
   "cell_type": "markdown",
   "metadata": {},
   "source": [
    "In many applications it is usefull to take an array of items and turn it into a heap.\n",
    "\n",
    "```\n",
    "Algorithm buildHeap(H)\n",
    "    n <- H.length\n",
    "    for v <- floor((n-2)/2) downto 0 do\n",
    "        heapify(v)\n",
    "```\n",
    "\n",
    "Subtrees of height 1 are by definition already heaps, thus we start at $\\left\\lfloor \\frac{n-2}{2} \\right\\rfloor$, the maximum $v$ such that $2v - 1 \\leq n-1$ i.e. the last vertex with atleast one child. Then we apply heapify from the bottom up, transforming subtrees into heaps. One would assume that for $n$ items `buildHeap` would take $O(n \\log n)$ since heapify is $O(\\log n)$ however we can do better.\n",
    "\n",
    "Let $h(v)$ denote the height of vertex $v$ and $m = \\left\\lfloor \\frac{n-2}{2} \\right\\rfloor$.\n",
    "\n",
    "$$\n",
    "\\begin{align}\n",
    "T_{buildHeap}(n) &= \\sum_{v=0}^m \\Theta(1) + T_{heapify}(h(v)) \\\\\n",
    "&= \\Theta(m) + \\sum_{v=0}^m \\Theta(h(v)) \\\\\n",
    "&= \\Theta(m) + \\Theta\\left(\\sum_{v=0}^m h(v)\\right)\n",
    "\\end{align}\n",
    "$$\n",
    "\n",
    "For $\\sum_{v=0}^m h(v)$ we observe that\n",
    "\n",
    "$$\n",
    "\\sum_{v=0}^m h(v) = \\sum_{i=1}^h i \\cdot (\\text{number of vertices of height $i$})\n",
    "$$\n",
    "\n",
    "That is the sum of the heights of vertices 0 to $m$ is equivalent to the level $i$ times the vertices at that level.\n",
    "\n",
    "$$\n",
    "\\begin{align}\n",
    "\\sum_{i=1}^h i \\cdot (\\text{number of vertices of height $i$}) &= \n",
    "\\sum_{i=1}^{h-1} (h-i) \\cdot (\\text{number of vertices on level $i$}) \\\\\n",
    "&\\leq \\sum_{i=0}^{h-1} (h-i) \\cdot 2^i\n",
    "\\end{align}\n",
    "$$\n",
    "\n",
    "Using the fact that\n",
    "\n",
    "$$\n",
    "\\sum_{i=0}^\\infty \\frac{i+1}{2^i} = 4\n",
    "$$\n",
    "\n",
    "Then\n",
    "\n",
    "$$\n",
    "\\begin{align}\n",
    "\\sum_{i=0}^{h-1} (h-i) \\cdot 2^i &= n \\frac{\\sum_{i=0}^{h-1} (h-i)\\cdot 2^i}{n} \\\\\n",
    "&= n \\sum_{i=0}^{h-1} (h-i) \\cdot \\frac{2^i}{n} \\\\\n",
    "&\\leq n \\sum_{i=0}^{h-1} (h-i) \\cdot 2^{i-(h-1)} & \\text{since $n \\geq 2^{h-1}$} \\\\\n",
    "&= n \\sum_{i=0}^{h-1} (i+1) \\cdot 2^{-i} \\\\\n",
    "&\\leq n \\sum_{i=0}^\\infty \\frac{i+1}{2^i} \\\\\n",
    "&= 4n\n",
    "\\end{align}\n",
    "$$\n",
    "\n",
    "And thus $T_{buildHeap}(n) = \\Theta(m) + \\Theta(n) = \\Theta(n)$"
   ]
  }
 ],
 "metadata": {
  "kernelspec": {
   "display_name": "Python 3",
   "language": "python",
   "name": "python3"
  },
  "language_info": {
   "codemirror_mode": {
    "name": "ipython",
    "version": 3
   },
   "file_extension": ".py",
   "mimetype": "text/x-python",
   "name": "python",
   "nbconvert_exporter": "python",
   "pygments_lexer": "ipython3",
   "version": "3.6.4"
  }
 },
 "nbformat": 4,
 "nbformat_minor": 2
}
