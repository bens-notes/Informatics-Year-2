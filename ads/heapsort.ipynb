{
 "cells": [
  {
   "cell_type": "markdown",
   "metadata": {},
   "source": [
    "# Heapsort"
   ]
  },
  {
   "cell_type": "markdown",
   "metadata": {},
   "source": [
    "Heapsort has a runtime of $\\Theta(n \\log n)$, but the most intresting property is that it sorts in-place (needs no extra memory). Heapsort uses the heap structure to efficently find the maximum element, then moves it to the end of the array.\n",
    "\n",
    "```\n",
    "Algorithm heapSort(A)\n",
    "    buildHeap(A)\n",
    "    for j <- A.length - 1 downto 0 do\n",
    "        A[j] <- removeMax()\n",
    "```\n",
    "\n",
    "The runtime is simple:\n",
    "- `buildHeap` has a runtime $\\Theta(n)$ (see [Priority Queues And Heaps](priority_queues_and_heaps.ipynb))\n",
    "- `removeElement` has a runtime $\\Theta(\\log n)$ (see [Priority Queues And Heaps](priority_queues_and_heaps.ipynb))\n",
    "\n",
    "Thus the runtime is:\n",
    "\n",
    "$$\n",
    "\\begin{align}\n",
    "T_{heapSort}(n) &= \\Theta(n) + \\sum_{j=2}^n \\Theta(\\log j) \\\\\n",
    "&= \\Theta(n) + \\Theta\\left(\\sum_{j=2}^n \\log j\\right)\n",
    "\\end{align}\n",
    "$$\n",
    "\n",
    "Since $j \\leq n$\n",
    "\n",
    "$$\n",
    "\\begin{align}\n",
    "\\sum_{j=2}^n \\log j &\\leq (n-1)\\log n \\\\\n",
    "&= O(n \\log n)\n",
    "\\end{align}\n",
    "$$\n",
    "\n",
    "Since $j > \\dfrac{n}{2}$ then $\\log(j) \\geq \\log(n) - 1$\n",
    "\n",
    "$$\n",
    "\\begin{align}\n",
    "\\sum_{j=2}^n \\log j &\\geq \\sum_{\\lceil n / 2 \\rceil}^n \\log (n) - 1 \\\\\n",
    "&= \\lfloor n / 2 \\rfloor (\\log(n) - 1)\\\\\n",
    "&= \\Omega(n \\log n)\n",
    "\\end{align}\n",
    "$$\n",
    "\n",
    "Thus $\\sum_{j=2}^n \\log j = \\Theta(n \\log n)$\n",
    "\n",
    "$$\n",
    "T_{heapSort}(n) = \\Theta(n) + \\Theta(n \\log n) = \\Theta(n \\log n)\n",
    "$$"
   ]
  }
 ],
 "metadata": {
  "kernelspec": {
   "display_name": "Python 3",
   "language": "python",
   "name": "python3"
  },
  "language_info": {
   "codemirror_mode": {
    "name": "ipython",
    "version": 3
   },
   "file_extension": ".py",
   "mimetype": "text/x-python",
   "name": "python",
   "nbconvert_exporter": "python",
   "pygments_lexer": "ipython3",
   "version": "3.6.4"
  }
 },
 "nbformat": 4,
 "nbformat_minor": 2
}
